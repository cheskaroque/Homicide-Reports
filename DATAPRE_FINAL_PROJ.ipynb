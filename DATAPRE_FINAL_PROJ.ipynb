{
 "cells": [
  {
   "cell_type": "markdown",
   "source": "## Homicide Reports, 1980 - 2014 \n\n**Description of the Dataset**\n\nThe Murder Accountability Project is the most complete database of homicides in the United States currently available. This dataset includes murders from the FBI's Supplementary Homicide Report from 1976 to the present and Freedom of Information Act data on more than 22,000 homicides that were not reported to the Justice Department. This dataset includes the age, race, sex, ethnicity of victims and perpetrators, in addition to the relationship between the victim and perpetrator and weapon used.\n\n**Data Collection Process**\n\nThe data was compiled and made available by the Murder Accountability Project, founded by Thomas Hargrove. According to the organization, the data \"includes murders from the FBI’s Supplementary Homicide Report from 1976 to the present and Freedom of Information Act data on more than 22,000 homicides that were not reported to the Justice Department. This dataset includes the age, race, sex, ethnicity of victims and perpetrators, in addition to the relationship between the victim and perpetrator and weapon used.”\n\n",
   "metadata": {
    "cell_id": "2f68a3f7-469d-4b1a-b4ec-301dd8b35141",
    "deepnote_cell_type": "markdown",
    "deepnote_cell_height": 374.6000061035156
   }
  },
  {
   "cell_type": "markdown",
   "source": "## Import\nImport **numpy**, **pandas** and **matplotlib**.",
   "metadata": {
    "cell_id": "00001-58c74f24-238f-4119-8fd6-12929b2120d1",
    "deepnote_cell_type": "markdown",
    "deepnote_cell_height": 108.60000610351562
   }
  },
  {
   "cell_type": "code",
   "metadata": {
    "cell_id": "00002-b9d8541b-5d30-4659-a08c-2529aed6ba83",
    "deepnote_to_be_reexecuted": false,
    "source_hash": "a9e4ad37",
    "execution_start": 1657136543613,
    "execution_millis": 1843,
    "owner_user_id": "c4208b44-f033-4dc4-880b-76e0ff2c13c3",
    "deepnote_cell_type": "code",
    "deepnote_cell_height": 225.1999969482422
   },
   "source": "import numpy as np\nimport pandas as pd\nimport matplotlib.pyplot as plt\n%matplotlib inline\n\nfrom scipy.stats import norm\nfrom scipy.stats import ttest_ind\nfrom scipy.stats import chi2_contingency\nfrom statsmodels.stats.proportion import proportions_ztest",
   "execution_count": 1,
   "outputs": []
  },
  {
   "cell_type": "markdown",
   "source": "## Dataset\n\nFor this notebook we will be working on a dataset called homicidesreport. This dataset contains information on murders from the FBI's Supplementary Homicide Report from 1976 to the present and Freedom of Information Act data on more than 22,000 homicides that were not reported to the Justice Department.\n\n\n**Dataset Structure**\n\nThe dataset contains 638,454 **observations** (rows) which each represent a homicide report across 24 **variables** (columns). The following are the descriptions of each variable in the dataset.\n",
   "metadata": {
    "cell_id": "00003-e57b3344-2bc2-479b-939b-af111cbbbb2f",
    "deepnote_cell_type": "markdown",
    "deepnote_cell_height": 248.60000610351562
   }
  },
  {
   "cell_type": "markdown",
   "source": "\n\n- **`recordid`**: record id number (numeric: 1 - 638454)\n\n- **`agencycode`**: (a six-digit alphanumeric code used to classify accounts by the federal or non-federal agency) \n\n- **`agencyname`**: name of agency\n- **`agencytype`**: type of agency \n\n- **`city`**: city where the homicide incident occured \n- **`state`**: state where the homicide incident occurred \n\n- **`year`**: year of the given report, ranging from 1980-2014\n- **`month`**: month of the given report\n- **`incident`**: how many incidences occured in the report\n- **`crimetype`**:  (Murder or Mansloughter or Mansloughter by negligence)\n- **`crimesolved`**: indicates if crime was solved (yes or no)\n- **`victimsex`**: gender of victim\n- **`victimage`**: age of victim\n- **`victimerace`**:  (Native American/Alaska Native, White, Black, Unknown, Asian/Pacific Islander)\n- **`victimethnicity`**:  (Unknown, Not Hispanic, Hispanic)\n- **`perpetratorsex`**: gender of perpetrator\n- **`perpetratorage`**: age of perpetrator\n- **`perpetratorrace`**:  (Native American/Alaska Native, White, Black, Unknown, Asian/Pacific Islander)\n- **`perpetratorethnicity`**: (Unknown, Not Hispanic, Hispanic)\n- **`relationship`**:  (Victim of a crime i.e. Son)\n- **`weapon`**: weapon used to commit the homicide \n- **`victimcount`**: count of victims in the report\n- **`perpetratorcount`**: count of perpetrators in the report\n- **`recordsource`**: source of the record\n\n\n",
   "metadata": {
    "cell_id": "00004-da708a23-7c07-4ca3-9191-1767671720eb",
    "deepnote_cell_type": "markdown",
    "deepnote_cell_height": 653.7999877929688
   }
  },
  {
   "cell_type": "markdown",
   "source": "## Reading the Dataset\n\nOur first step is to load the dataset using `pandas`. This will load the dataset into a pandas `DataFrame`. \nTo load the dataset, we use the [`read_csv`](https://pandas.pydata.org/pandas-docs/stable/reference/api/pandas.read_csv.html) \nfunction. Note that you may need to change the path depending on the location of the file in your machine.\n",
   "metadata": {
    "cell_id": "00005-9b2827de-a541-44b1-9f3f-f103226a9777",
    "deepnote_cell_type": "markdown",
    "deepnote_cell_height": 131
   }
  },
  {
   "cell_type": "code",
   "metadata": {
    "cell_id": "00006-450d604c-50da-45b0-913b-78bc65a6fb3d",
    "deepnote_to_be_reexecuted": false,
    "source_hash": "70a63efb",
    "execution_start": 1657136545457,
    "execution_millis": 4267,
    "deepnote_cell_type": "code",
    "deepnote_cell_height": 81.19999694824219
   },
   "source": "homrep_df = pd.read_csv(\"homicidereports.csv\", low_memory=False)",
   "execution_count": 2,
   "outputs": []
  },
  {
   "cell_type": "markdown",
   "source": "Whenever we load a new dataset, it is generally a good idea to call the info function, which displays general information about the dataset.",
   "metadata": {
    "cell_id": "00007-473ca22d-8d4e-4199-947e-929d1cf96b23",
    "deepnote_cell_type": "markdown",
    "deepnote_cell_height": 75
   }
  },
  {
   "cell_type": "code",
   "metadata": {
    "scrolled": false,
    "cell_id": "00008-78b33ccd-07b4-48c1-acd1-06512c314d37",
    "deepnote_to_be_reexecuted": false,
    "source_hash": "e2c3d252",
    "execution_start": 1657136549728,
    "execution_millis": 1132,
    "deepnote_cell_type": "code",
    "deepnote_cell_height": 701.2000122070312
   },
   "source": "homrep_df.info()",
   "execution_count": 3,
   "outputs": [
    {
     "name": "stdout",
     "text": "<class 'pandas.core.frame.DataFrame'>\nRangeIndex: 638454 entries, 0 to 638453\nData columns (total 24 columns):\n #   Column                 Non-Null Count   Dtype \n---  ------                 --------------   ----- \n 0   Record ID              638454 non-null  int64 \n 1   Agency Code            638454 non-null  object\n 2   Agency Name            638454 non-null  object\n 3   Agency Type            638454 non-null  object\n 4   City                   638454 non-null  object\n 5   State                  638454 non-null  object\n 6   Year                   638454 non-null  int64 \n 7   Month                  638454 non-null  object\n 8   Incident               638454 non-null  int64 \n 9   Crime Type             638454 non-null  object\n 10  Crime Solved           638454 non-null  object\n 11  Victim Sex             638454 non-null  object\n 12  Victim Age             638454 non-null  int64 \n 13  Victim Race            638454 non-null  object\n 14  Victim Ethnicity       638454 non-null  object\n 15  Perpetrator Sex        638454 non-null  object\n 16  Perpetrator Age        638454 non-null  object\n 17  Perpetrator Race       638454 non-null  object\n 18  Perpetrator Ethnicity  638454 non-null  object\n 19  Relationship           638454 non-null  object\n 20  Weapon                 638454 non-null  object\n 21  Victim Count           638454 non-null  int64 \n 22  Perpetrator Count      638454 non-null  int64 \n 23  Record Source          638454 non-null  object\ndtypes: int64(6), object(18)\nmemory usage: 116.9+ MB\n",
     "output_type": "stream"
    }
   ]
  },
  {
   "cell_type": "markdown",
   "source": "To visualize the table, we can call the head function to display the first n rows of the dataset.",
   "metadata": {
    "cell_id": "00009-29f68632-a89f-4cdc-a7dc-ca729d78798b",
    "deepnote_cell_type": "markdown",
    "deepnote_cell_height": 52.600006103515625
   }
  },
  {
   "cell_type": "code",
   "metadata": {
    "cell_id": "00010-2fba313b-04de-43c7-ab1c-575698cb986d",
    "deepnote_to_be_reexecuted": false,
    "source_hash": "98f08f17",
    "execution_start": 1657136550491,
    "execution_millis": 372,
    "deepnote_cell_type": "code",
    "deepnote_cell_height": 600.4000244140625
   },
   "source": "homrep_df.head(10)",
   "execution_count": 4,
   "outputs": [
    {
     "output_type": "execute_result",
     "execution_count": 4,
     "data": {
      "application/vnd.deepnote.dataframe.v3+json": {
       "column_count": 24,
       "row_count": 10,
       "columns": [
        {
         "name": "Record ID",
         "dtype": "int64",
         "stats": {
          "unique_count": 10,
          "nan_count": 0,
          "min": "1",
          "max": "10",
          "histogram": [
           {
            "bin_start": 1,
            "bin_end": 1.9,
            "count": 1
           },
           {
            "bin_start": 1.9,
            "bin_end": 2.8,
            "count": 1
           },
           {
            "bin_start": 2.8,
            "bin_end": 3.7,
            "count": 1
           },
           {
            "bin_start": 3.7,
            "bin_end": 4.6,
            "count": 1
           },
           {
            "bin_start": 4.6,
            "bin_end": 5.5,
            "count": 1
           },
           {
            "bin_start": 5.5,
            "bin_end": 6.4,
            "count": 1
           },
           {
            "bin_start": 6.4,
            "bin_end": 7.3,
            "count": 1
           },
           {
            "bin_start": 7.3,
            "bin_end": 8.2,
            "count": 1
           },
           {
            "bin_start": 8.2,
            "bin_end": 9.1,
            "count": 1
           },
           {
            "bin_start": 9.1,
            "bin_end": 10,
            "count": 1
           }
          ]
         }
        },
        {
         "name": "Agency Code",
         "dtype": "object",
         "stats": {
          "unique_count": 1,
          "nan_count": 0,
          "categories": [
           {
            "name": "AK00101",
            "count": 10
           }
          ]
         }
        },
        {
         "name": "Agency Name",
         "dtype": "object",
         "stats": {
          "unique_count": 1,
          "nan_count": 0,
          "categories": [
           {
            "name": "Anchorage",
            "count": 10
           }
          ]
         }
        },
        {
         "name": "Agency Type",
         "dtype": "object",
         "stats": {
          "unique_count": 1,
          "nan_count": 0,
          "categories": [
           {
            "name": "Municipal Police",
            "count": 10
           }
          ]
         }
        },
        {
         "name": "City",
         "dtype": "object",
         "stats": {
          "unique_count": 1,
          "nan_count": 0,
          "categories": [
           {
            "name": "Anchorage",
            "count": 10
           }
          ]
         }
        },
        {
         "name": "State",
         "dtype": "object",
         "stats": {
          "unique_count": 1,
          "nan_count": 0,
          "categories": [
           {
            "name": "Alaska",
            "count": 10
           }
          ]
         }
        },
        {
         "name": "Year",
         "dtype": "int64",
         "stats": {
          "unique_count": 1,
          "nan_count": 0,
          "min": "1980",
          "max": "1980",
          "histogram": [
           {
            "bin_start": 1979.5,
            "bin_end": 1979.6,
            "count": 0
           },
           {
            "bin_start": 1979.6,
            "bin_end": 1979.7,
            "count": 0
           },
           {
            "bin_start": 1979.7,
            "bin_end": 1979.8,
            "count": 0
           },
           {
            "bin_start": 1979.8,
            "bin_end": 1979.9,
            "count": 0
           },
           {
            "bin_start": 1979.9,
            "bin_end": 1980,
            "count": 0
           },
           {
            "bin_start": 1980,
            "bin_end": 1980.1,
            "count": 10
           },
           {
            "bin_start": 1980.1,
            "bin_end": 1980.2,
            "count": 0
           },
           {
            "bin_start": 1980.2,
            "bin_end": 1980.3,
            "count": 0
           },
           {
            "bin_start": 1980.3,
            "bin_end": 1980.4,
            "count": 0
           },
           {
            "bin_start": 1980.4,
            "bin_end": 1980.5,
            "count": 0
           }
          ]
         }
        },
        {
         "name": "Month",
         "dtype": "object",
         "stats": {
          "unique_count": 5,
          "nan_count": 0,
          "categories": [
           {
            "name": "June",
            "count": 3
           },
           {
            "name": "March",
            "count": 2
           },
           {
            "name": "3 others",
            "count": 5
           }
          ]
         }
        },
        {
         "name": "Incident",
         "dtype": "int64",
         "stats": {
          "unique_count": 3,
          "nan_count": 0,
          "min": "1",
          "max": "3",
          "histogram": [
           {
            "bin_start": 1,
            "bin_end": 1.2,
            "count": 5
           },
           {
            "bin_start": 1.2,
            "bin_end": 1.4,
            "count": 0
           },
           {
            "bin_start": 1.4,
            "bin_end": 1.6,
            "count": 0
           },
           {
            "bin_start": 1.6,
            "bin_end": 1.8,
            "count": 0
           },
           {
            "bin_start": 1.8,
            "bin_end": 2,
            "count": 0
           },
           {
            "bin_start": 2,
            "bin_end": 2.2,
            "count": 4
           },
           {
            "bin_start": 2.2,
            "bin_end": 2.4000000000000004,
            "count": 0
           },
           {
            "bin_start": 2.4000000000000004,
            "bin_end": 2.6,
            "count": 0
           },
           {
            "bin_start": 2.6,
            "bin_end": 2.8,
            "count": 0
           },
           {
            "bin_start": 2.8,
            "bin_end": 3,
            "count": 1
           }
          ]
         }
        },
        {
         "name": "Crime Type",
         "dtype": "object",
         "stats": {
          "unique_count": 1,
          "nan_count": 0,
          "categories": [
           {
            "name": "Murder or Manslaughter",
            "count": 10
           }
          ]
         }
        },
        {
         "name": "Crime Solved",
         "dtype": "object",
         "stats": {
          "unique_count": 2,
          "nan_count": 0,
          "categories": [
           {
            "name": "Yes",
            "count": 7
           },
           {
            "name": "No",
            "count": 3
           }
          ]
         }
        },
        {
         "name": "Victim Sex",
         "dtype": "object",
         "stats": {
          "unique_count": 2,
          "nan_count": 0,
          "categories": [
           {
            "name": "Male",
            "count": 6
           },
           {
            "name": "Female",
            "count": 4
           }
          ]
         }
        },
        {
         "name": "Victim Age",
         "dtype": "int64",
         "stats": {
          "unique_count": 7,
          "nan_count": 0,
          "min": "14",
          "max": "99",
          "histogram": [
           {
            "bin_start": 14,
            "bin_end": 22.5,
            "count": 1
           },
           {
            "bin_start": 22.5,
            "bin_end": 31,
            "count": 3
           },
           {
            "bin_start": 31,
            "bin_end": 39.5,
            "count": 2
           },
           {
            "bin_start": 39.5,
            "bin_end": 48,
            "count": 3
           },
           {
            "bin_start": 48,
            "bin_end": 56.5,
            "count": 0
           },
           {
            "bin_start": 56.5,
            "bin_end": 65,
            "count": 0
           },
           {
            "bin_start": 65,
            "bin_end": 73.5,
            "count": 0
           },
           {
            "bin_start": 73.5,
            "bin_end": 82,
            "count": 0
           },
           {
            "bin_start": 82,
            "bin_end": 90.5,
            "count": 0
           },
           {
            "bin_start": 90.5,
            "bin_end": 99,
            "count": 1
           }
          ]
         }
        },
        {
         "name": "Victim Race",
         "dtype": "object",
         "stats": {
          "unique_count": 2,
          "nan_count": 0,
          "categories": [
           {
            "name": "White",
            "count": 6
           },
           {
            "name": "Native American/Alaska Native",
            "count": 4
           }
          ]
         }
        },
        {
         "name": "Victim Ethnicity",
         "dtype": "object",
         "stats": {
          "unique_count": 1,
          "nan_count": 0,
          "categories": [
           {
            "name": "Unknown",
            "count": 10
           }
          ]
         }
        },
        {
         "name": "Perpetrator Sex",
         "dtype": "object",
         "stats": {
          "unique_count": 2,
          "nan_count": 0,
          "categories": [
           {
            "name": "Male",
            "count": 7
           },
           {
            "name": "Unknown",
            "count": 3
           }
          ]
         }
        },
        {
         "name": "Perpetrator Age",
         "dtype": "object",
         "stats": {
          "unique_count": 7,
          "nan_count": 0,
          "categories": [
           {
            "name": "0",
            "count": 3
           },
           {
            "name": "42",
            "count": 2
           },
           {
            "name": "5 others",
            "count": 5
           }
          ]
         }
        },
        {
         "name": "Perpetrator Race",
         "dtype": "object",
         "stats": {
          "unique_count": 4,
          "nan_count": 0,
          "categories": [
           {
            "name": "White",
            "count": 4
           },
           {
            "name": "Unknown",
            "count": 4
           },
           {
            "name": "2 others",
            "count": 2
           }
          ]
         }
        },
        {
         "name": "Perpetrator Ethnicity",
         "dtype": "object",
         "stats": {
          "unique_count": 1,
          "nan_count": 0,
          "categories": [
           {
            "name": "Unknown",
            "count": 10
           }
          ]
         }
        },
        {
         "name": "Relationship",
         "dtype": "object",
         "stats": {
          "unique_count": 3,
          "nan_count": 0,
          "categories": [
           {
            "name": "Acquaintance",
            "count": 4
           },
           {
            "name": "Unknown",
            "count": 4
           },
           {
            "name": "Wife",
            "count": 2
           }
          ]
         }
        },
        {
         "name": "Weapon",
         "dtype": "object",
         "stats": {
          "unique_count": 6,
          "nan_count": 0,
          "categories": [
           {
            "name": "Strangulation",
            "count": 2
           },
           {
            "name": "Unknown",
            "count": 2
           },
           {
            "name": "4 others",
            "count": 6
           }
          ]
         }
        },
        {
         "name": "Victim Count",
         "dtype": "int64",
         "stats": {
          "unique_count": 1,
          "nan_count": 0,
          "min": "0",
          "max": "0",
          "histogram": [
           {
            "bin_start": -0.5,
            "bin_end": -0.4,
            "count": 0
           },
           {
            "bin_start": -0.4,
            "bin_end": -0.3,
            "count": 0
           },
           {
            "bin_start": -0.3,
            "bin_end": -0.19999999999999996,
            "count": 0
           },
           {
            "bin_start": -0.19999999999999996,
            "bin_end": -0.09999999999999998,
            "count": 0
           },
           {
            "bin_start": -0.09999999999999998,
            "bin_end": 0,
            "count": 0
           },
           {
            "bin_start": 0,
            "bin_end": 0.10000000000000009,
            "count": 10
           },
           {
            "bin_start": 0.10000000000000009,
            "bin_end": 0.20000000000000007,
            "count": 0
           },
           {
            "bin_start": 0.20000000000000007,
            "bin_end": 0.30000000000000004,
            "count": 0
           },
           {
            "bin_start": 0.30000000000000004,
            "bin_end": 0.4,
            "count": 0
           },
           {
            "bin_start": 0.4,
            "bin_end": 0.5,
            "count": 0
           }
          ]
         }
        },
        {
         "name": "Perpetrator Count",
         "dtype": "int64",
         "stats": {
          "unique_count": 2,
          "nan_count": 0,
          "min": "0",
          "max": "1",
          "histogram": [
           {
            "bin_start": 0,
            "bin_end": 0.1,
            "count": 8
           },
           {
            "bin_start": 0.1,
            "bin_end": 0.2,
            "count": 0
           },
           {
            "bin_start": 0.2,
            "bin_end": 0.30000000000000004,
            "count": 0
           },
           {
            "bin_start": 0.30000000000000004,
            "bin_end": 0.4,
            "count": 0
           },
           {
            "bin_start": 0.4,
            "bin_end": 0.5,
            "count": 0
           },
           {
            "bin_start": 0.5,
            "bin_end": 0.6000000000000001,
            "count": 0
           },
           {
            "bin_start": 0.6000000000000001,
            "bin_end": 0.7000000000000001,
            "count": 0
           },
           {
            "bin_start": 0.7000000000000001,
            "bin_end": 0.8,
            "count": 0
           },
           {
            "bin_start": 0.8,
            "bin_end": 0.9,
            "count": 0
           },
           {
            "bin_start": 0.9,
            "bin_end": 1,
            "count": 2
           }
          ]
         }
        },
        {
         "name": "Record Source",
         "dtype": "object",
         "stats": {
          "unique_count": 1,
          "nan_count": 0,
          "categories": [
           {
            "name": "FBI",
            "count": 10
           }
          ]
         }
        },
        {
         "name": "_deepnote_index_column",
         "dtype": "int64"
        }
       ],
       "rows": [
        {
         "Record ID": 1,
         "Agency Code": "AK00101",
         "Agency Name": "Anchorage",
         "Agency Type": "Municipal Police",
         "City": "Anchorage",
         "State": "Alaska",
         "Year": 1980,
         "Month": "January",
         "Incident": 1,
         "Crime Type": "Murder or Manslaughter",
         "Crime Solved": "Yes",
         "Victim Sex": "Male",
         "Victim Age": 14,
         "Victim Race": "Native American/Alaska Native",
         "Victim Ethnicity": "Unknown",
         "Perpetrator Sex": "Male",
         "Perpetrator Age": "15",
         "Perpetrator Race": "Native American/Alaska Native",
         "Perpetrator Ethnicity": "Unknown",
         "Relationship": "Acquaintance",
         "Weapon": "Blunt Object",
         "Victim Count": 0,
         "Perpetrator Count": 0,
         "Record Source": "FBI",
         "_deepnote_index_column": 0
        },
        {
         "Record ID": 2,
         "Agency Code": "AK00101",
         "Agency Name": "Anchorage",
         "Agency Type": "Municipal Police",
         "City": "Anchorage",
         "State": "Alaska",
         "Year": 1980,
         "Month": "March",
         "Incident": 1,
         "Crime Type": "Murder or Manslaughter",
         "Crime Solved": "Yes",
         "Victim Sex": "Male",
         "Victim Age": 43,
         "Victim Race": "White",
         "Victim Ethnicity": "Unknown",
         "Perpetrator Sex": "Male",
         "Perpetrator Age": "42",
         "Perpetrator Race": "White",
         "Perpetrator Ethnicity": "Unknown",
         "Relationship": "Acquaintance",
         "Weapon": "Strangulation",
         "Victim Count": 0,
         "Perpetrator Count": 0,
         "Record Source": "FBI",
         "_deepnote_index_column": 1
        },
        {
         "Record ID": 3,
         "Agency Code": "AK00101",
         "Agency Name": "Anchorage",
         "Agency Type": "Municipal Police",
         "City": "Anchorage",
         "State": "Alaska",
         "Year": 1980,
         "Month": "March",
         "Incident": 2,
         "Crime Type": "Murder or Manslaughter",
         "Crime Solved": "No",
         "Victim Sex": "Female",
         "Victim Age": 30,
         "Victim Race": "Native American/Alaska Native",
         "Victim Ethnicity": "Unknown",
         "Perpetrator Sex": "Unknown",
         "Perpetrator Age": "0",
         "Perpetrator Race": "Unknown",
         "Perpetrator Ethnicity": "Unknown",
         "Relationship": "Unknown",
         "Weapon": "Unknown",
         "Victim Count": 0,
         "Perpetrator Count": 0,
         "Record Source": "FBI",
         "_deepnote_index_column": 2
        },
        {
         "Record ID": 4,
         "Agency Code": "AK00101",
         "Agency Name": "Anchorage",
         "Agency Type": "Municipal Police",
         "City": "Anchorage",
         "State": "Alaska",
         "Year": 1980,
         "Month": "April",
         "Incident": 1,
         "Crime Type": "Murder or Manslaughter",
         "Crime Solved": "Yes",
         "Victim Sex": "Male",
         "Victim Age": 43,
         "Victim Race": "White",
         "Victim Ethnicity": "Unknown",
         "Perpetrator Sex": "Male",
         "Perpetrator Age": "42",
         "Perpetrator Race": "White",
         "Perpetrator Ethnicity": "Unknown",
         "Relationship": "Acquaintance",
         "Weapon": "Strangulation",
         "Victim Count": 0,
         "Perpetrator Count": 0,
         "Record Source": "FBI",
         "_deepnote_index_column": 3
        },
        {
         "Record ID": 5,
         "Agency Code": "AK00101",
         "Agency Name": "Anchorage",
         "Agency Type": "Municipal Police",
         "City": "Anchorage",
         "State": "Alaska",
         "Year": 1980,
         "Month": "April",
         "Incident": 2,
         "Crime Type": "Murder or Manslaughter",
         "Crime Solved": "No",
         "Victim Sex": "Female",
         "Victim Age": 30,
         "Victim Race": "Native American/Alaska Native",
         "Victim Ethnicity": "Unknown",
         "Perpetrator Sex": "Unknown",
         "Perpetrator Age": "0",
         "Perpetrator Race": "Unknown",
         "Perpetrator Ethnicity": "Unknown",
         "Relationship": "Unknown",
         "Weapon": "Unknown",
         "Victim Count": 0,
         "Perpetrator Count": 1,
         "Record Source": "FBI",
         "_deepnote_index_column": 4
        },
        {
         "Record ID": 6,
         "Agency Code": "AK00101",
         "Agency Name": "Anchorage",
         "Agency Type": "Municipal Police",
         "City": "Anchorage",
         "State": "Alaska",
         "Year": 1980,
         "Month": "May",
         "Incident": 1,
         "Crime Type": "Murder or Manslaughter",
         "Crime Solved": "Yes",
         "Victim Sex": "Male",
         "Victim Age": 30,
         "Victim Race": "White",
         "Victim Ethnicity": "Unknown",
         "Perpetrator Sex": "Male",
         "Perpetrator Age": "36",
         "Perpetrator Race": "White",
         "Perpetrator Ethnicity": "Unknown",
         "Relationship": "Acquaintance",
         "Weapon": "Rifle",
         "Victim Count": 0,
         "Perpetrator Count": 0,
         "Record Source": "FBI",
         "_deepnote_index_column": 5
        },
        {
         "Record ID": 7,
         "Agency Code": "AK00101",
         "Agency Name": "Anchorage",
         "Agency Type": "Municipal Police",
         "City": "Anchorage",
         "State": "Alaska",
         "Year": 1980,
         "Month": "May",
         "Incident": 2,
         "Crime Type": "Murder or Manslaughter",
         "Crime Solved": "Yes",
         "Victim Sex": "Female",
         "Victim Age": 42,
         "Victim Race": "Native American/Alaska Native",
         "Victim Ethnicity": "Unknown",
         "Perpetrator Sex": "Male",
         "Perpetrator Age": "27",
         "Perpetrator Race": "Black",
         "Perpetrator Ethnicity": "Unknown",
         "Relationship": "Wife",
         "Weapon": "Knife",
         "Victim Count": 0,
         "Perpetrator Count": 0,
         "Record Source": "FBI",
         "_deepnote_index_column": 6
        },
        {
         "Record ID": 8,
         "Agency Code": "AK00101",
         "Agency Name": "Anchorage",
         "Agency Type": "Municipal Police",
         "City": "Anchorage",
         "State": "Alaska",
         "Year": 1980,
         "Month": "June",
         "Incident": 1,
         "Crime Type": "Murder or Manslaughter",
         "Crime Solved": "Yes",
         "Victim Sex": "Female",
         "Victim Age": 99,
         "Victim Race": "White",
         "Victim Ethnicity": "Unknown",
         "Perpetrator Sex": "Male",
         "Perpetrator Age": "35",
         "Perpetrator Race": "White",
         "Perpetrator Ethnicity": "Unknown",
         "Relationship": "Wife",
         "Weapon": "Knife",
         "Victim Count": 0,
         "Perpetrator Count": 0,
         "Record Source": "FBI",
         "_deepnote_index_column": 7
        },
        {
         "Record ID": 9,
         "Agency Code": "AK00101",
         "Agency Name": "Anchorage",
         "Agency Type": "Municipal Police",
         "City": "Anchorage",
         "State": "Alaska",
         "Year": 1980,
         "Month": "June",
         "Incident": 2,
         "Crime Type": "Murder or Manslaughter",
         "Crime Solved": "No",
         "Victim Sex": "Male",
         "Victim Age": 32,
         "Victim Race": "White",
         "Victim Ethnicity": "Unknown",
         "Perpetrator Sex": "Unknown",
         "Perpetrator Age": "0",
         "Perpetrator Race": "Unknown",
         "Perpetrator Ethnicity": "Unknown",
         "Relationship": "Unknown",
         "Weapon": "Firearm",
         "Victim Count": 0,
         "Perpetrator Count": 0,
         "Record Source": "FBI",
         "_deepnote_index_column": 8
        },
        {
         "Record ID": 10,
         "Agency Code": "AK00101",
         "Agency Name": "Anchorage",
         "Agency Type": "Municipal Police",
         "City": "Anchorage",
         "State": "Alaska",
         "Year": 1980,
         "Month": "June",
         "Incident": 3,
         "Crime Type": "Murder or Manslaughter",
         "Crime Solved": "Yes",
         "Victim Sex": "Male",
         "Victim Age": 38,
         "Victim Race": "White",
         "Victim Ethnicity": "Unknown",
         "Perpetrator Sex": "Male",
         "Perpetrator Age": "40",
         "Perpetrator Race": "Unknown",
         "Perpetrator Ethnicity": "Unknown",
         "Relationship": "Unknown",
         "Weapon": "Firearm",
         "Victim Count": 0,
         "Perpetrator Count": 1,
         "Record Source": "FBI",
         "_deepnote_index_column": 9
        }
       ]
      },
      "text/plain": "   Record ID Agency Code Agency Name       Agency Type       City   State  \\\n0          1     AK00101   Anchorage  Municipal Police  Anchorage  Alaska   \n1          2     AK00101   Anchorage  Municipal Police  Anchorage  Alaska   \n2          3     AK00101   Anchorage  Municipal Police  Anchorage  Alaska   \n3          4     AK00101   Anchorage  Municipal Police  Anchorage  Alaska   \n4          5     AK00101   Anchorage  Municipal Police  Anchorage  Alaska   \n5          6     AK00101   Anchorage  Municipal Police  Anchorage  Alaska   \n6          7     AK00101   Anchorage  Municipal Police  Anchorage  Alaska   \n7          8     AK00101   Anchorage  Municipal Police  Anchorage  Alaska   \n8          9     AK00101   Anchorage  Municipal Police  Anchorage  Alaska   \n9         10     AK00101   Anchorage  Municipal Police  Anchorage  Alaska   \n\n   Year    Month  Incident              Crime Type  ... Victim Ethnicity  \\\n0  1980  January         1  Murder or Manslaughter  ...          Unknown   \n1  1980    March         1  Murder or Manslaughter  ...          Unknown   \n2  1980    March         2  Murder or Manslaughter  ...          Unknown   \n3  1980    April         1  Murder or Manslaughter  ...          Unknown   \n4  1980    April         2  Murder or Manslaughter  ...          Unknown   \n5  1980      May         1  Murder or Manslaughter  ...          Unknown   \n6  1980      May         2  Murder or Manslaughter  ...          Unknown   \n7  1980     June         1  Murder or Manslaughter  ...          Unknown   \n8  1980     June         2  Murder or Manslaughter  ...          Unknown   \n9  1980     June         3  Murder or Manslaughter  ...          Unknown   \n\n  Perpetrator Sex  Perpetrator Age               Perpetrator Race  \\\n0            Male               15  Native American/Alaska Native   \n1            Male               42                          White   \n2         Unknown                0                        Unknown   \n3            Male               42                          White   \n4         Unknown                0                        Unknown   \n5            Male               36                          White   \n6            Male               27                          Black   \n7            Male               35                          White   \n8         Unknown                0                        Unknown   \n9            Male               40                        Unknown   \n\n  Perpetrator Ethnicity  Relationship         Weapon Victim Count  \\\n0               Unknown  Acquaintance   Blunt Object            0   \n1               Unknown  Acquaintance  Strangulation            0   \n2               Unknown       Unknown        Unknown            0   \n3               Unknown  Acquaintance  Strangulation            0   \n4               Unknown       Unknown        Unknown            0   \n5               Unknown  Acquaintance          Rifle            0   \n6               Unknown          Wife          Knife            0   \n7               Unknown          Wife          Knife            0   \n8               Unknown       Unknown        Firearm            0   \n9               Unknown       Unknown        Firearm            0   \n\n  Perpetrator Count Record Source  \n0                 0           FBI  \n1                 0           FBI  \n2                 0           FBI  \n3                 0           FBI  \n4                 1           FBI  \n5                 0           FBI  \n6                 0           FBI  \n7                 0           FBI  \n8                 0           FBI  \n9                 1           FBI  \n\n[10 rows x 24 columns]",
      "text/html": "<div>\n<style scoped>\n    .dataframe tbody tr th:only-of-type {\n        vertical-align: middle;\n    }\n\n    .dataframe tbody tr th {\n        vertical-align: top;\n    }\n\n    .dataframe thead th {\n        text-align: right;\n    }\n</style>\n<table border=\"1\" class=\"dataframe\">\n  <thead>\n    <tr style=\"text-align: right;\">\n      <th></th>\n      <th>Record ID</th>\n      <th>Agency Code</th>\n      <th>Agency Name</th>\n      <th>Agency Type</th>\n      <th>City</th>\n      <th>State</th>\n      <th>Year</th>\n      <th>Month</th>\n      <th>Incident</th>\n      <th>Crime Type</th>\n      <th>...</th>\n      <th>Victim Ethnicity</th>\n      <th>Perpetrator Sex</th>\n      <th>Perpetrator Age</th>\n      <th>Perpetrator Race</th>\n      <th>Perpetrator Ethnicity</th>\n      <th>Relationship</th>\n      <th>Weapon</th>\n      <th>Victim Count</th>\n      <th>Perpetrator Count</th>\n      <th>Record Source</th>\n    </tr>\n  </thead>\n  <tbody>\n    <tr>\n      <th>0</th>\n      <td>1</td>\n      <td>AK00101</td>\n      <td>Anchorage</td>\n      <td>Municipal Police</td>\n      <td>Anchorage</td>\n      <td>Alaska</td>\n      <td>1980</td>\n      <td>January</td>\n      <td>1</td>\n      <td>Murder or Manslaughter</td>\n      <td>...</td>\n      <td>Unknown</td>\n      <td>Male</td>\n      <td>15</td>\n      <td>Native American/Alaska Native</td>\n      <td>Unknown</td>\n      <td>Acquaintance</td>\n      <td>Blunt Object</td>\n      <td>0</td>\n      <td>0</td>\n      <td>FBI</td>\n    </tr>\n    <tr>\n      <th>1</th>\n      <td>2</td>\n      <td>AK00101</td>\n      <td>Anchorage</td>\n      <td>Municipal Police</td>\n      <td>Anchorage</td>\n      <td>Alaska</td>\n      <td>1980</td>\n      <td>March</td>\n      <td>1</td>\n      <td>Murder or Manslaughter</td>\n      <td>...</td>\n      <td>Unknown</td>\n      <td>Male</td>\n      <td>42</td>\n      <td>White</td>\n      <td>Unknown</td>\n      <td>Acquaintance</td>\n      <td>Strangulation</td>\n      <td>0</td>\n      <td>0</td>\n      <td>FBI</td>\n    </tr>\n    <tr>\n      <th>2</th>\n      <td>3</td>\n      <td>AK00101</td>\n      <td>Anchorage</td>\n      <td>Municipal Police</td>\n      <td>Anchorage</td>\n      <td>Alaska</td>\n      <td>1980</td>\n      <td>March</td>\n      <td>2</td>\n      <td>Murder or Manslaughter</td>\n      <td>...</td>\n      <td>Unknown</td>\n      <td>Unknown</td>\n      <td>0</td>\n      <td>Unknown</td>\n      <td>Unknown</td>\n      <td>Unknown</td>\n      <td>Unknown</td>\n      <td>0</td>\n      <td>0</td>\n      <td>FBI</td>\n    </tr>\n    <tr>\n      <th>3</th>\n      <td>4</td>\n      <td>AK00101</td>\n      <td>Anchorage</td>\n      <td>Municipal Police</td>\n      <td>Anchorage</td>\n      <td>Alaska</td>\n      <td>1980</td>\n      <td>April</td>\n      <td>1</td>\n      <td>Murder or Manslaughter</td>\n      <td>...</td>\n      <td>Unknown</td>\n      <td>Male</td>\n      <td>42</td>\n      <td>White</td>\n      <td>Unknown</td>\n      <td>Acquaintance</td>\n      <td>Strangulation</td>\n      <td>0</td>\n      <td>0</td>\n      <td>FBI</td>\n    </tr>\n    <tr>\n      <th>4</th>\n      <td>5</td>\n      <td>AK00101</td>\n      <td>Anchorage</td>\n      <td>Municipal Police</td>\n      <td>Anchorage</td>\n      <td>Alaska</td>\n      <td>1980</td>\n      <td>April</td>\n      <td>2</td>\n      <td>Murder or Manslaughter</td>\n      <td>...</td>\n      <td>Unknown</td>\n      <td>Unknown</td>\n      <td>0</td>\n      <td>Unknown</td>\n      <td>Unknown</td>\n      <td>Unknown</td>\n      <td>Unknown</td>\n      <td>0</td>\n      <td>1</td>\n      <td>FBI</td>\n    </tr>\n    <tr>\n      <th>5</th>\n      <td>6</td>\n      <td>AK00101</td>\n      <td>Anchorage</td>\n      <td>Municipal Police</td>\n      <td>Anchorage</td>\n      <td>Alaska</td>\n      <td>1980</td>\n      <td>May</td>\n      <td>1</td>\n      <td>Murder or Manslaughter</td>\n      <td>...</td>\n      <td>Unknown</td>\n      <td>Male</td>\n      <td>36</td>\n      <td>White</td>\n      <td>Unknown</td>\n      <td>Acquaintance</td>\n      <td>Rifle</td>\n      <td>0</td>\n      <td>0</td>\n      <td>FBI</td>\n    </tr>\n    <tr>\n      <th>6</th>\n      <td>7</td>\n      <td>AK00101</td>\n      <td>Anchorage</td>\n      <td>Municipal Police</td>\n      <td>Anchorage</td>\n      <td>Alaska</td>\n      <td>1980</td>\n      <td>May</td>\n      <td>2</td>\n      <td>Murder or Manslaughter</td>\n      <td>...</td>\n      <td>Unknown</td>\n      <td>Male</td>\n      <td>27</td>\n      <td>Black</td>\n      <td>Unknown</td>\n      <td>Wife</td>\n      <td>Knife</td>\n      <td>0</td>\n      <td>0</td>\n      <td>FBI</td>\n    </tr>\n    <tr>\n      <th>7</th>\n      <td>8</td>\n      <td>AK00101</td>\n      <td>Anchorage</td>\n      <td>Municipal Police</td>\n      <td>Anchorage</td>\n      <td>Alaska</td>\n      <td>1980</td>\n      <td>June</td>\n      <td>1</td>\n      <td>Murder or Manslaughter</td>\n      <td>...</td>\n      <td>Unknown</td>\n      <td>Male</td>\n      <td>35</td>\n      <td>White</td>\n      <td>Unknown</td>\n      <td>Wife</td>\n      <td>Knife</td>\n      <td>0</td>\n      <td>0</td>\n      <td>FBI</td>\n    </tr>\n    <tr>\n      <th>8</th>\n      <td>9</td>\n      <td>AK00101</td>\n      <td>Anchorage</td>\n      <td>Municipal Police</td>\n      <td>Anchorage</td>\n      <td>Alaska</td>\n      <td>1980</td>\n      <td>June</td>\n      <td>2</td>\n      <td>Murder or Manslaughter</td>\n      <td>...</td>\n      <td>Unknown</td>\n      <td>Unknown</td>\n      <td>0</td>\n      <td>Unknown</td>\n      <td>Unknown</td>\n      <td>Unknown</td>\n      <td>Firearm</td>\n      <td>0</td>\n      <td>0</td>\n      <td>FBI</td>\n    </tr>\n    <tr>\n      <th>9</th>\n      <td>10</td>\n      <td>AK00101</td>\n      <td>Anchorage</td>\n      <td>Municipal Police</td>\n      <td>Anchorage</td>\n      <td>Alaska</td>\n      <td>1980</td>\n      <td>June</td>\n      <td>3</td>\n      <td>Murder or Manslaughter</td>\n      <td>...</td>\n      <td>Unknown</td>\n      <td>Male</td>\n      <td>40</td>\n      <td>Unknown</td>\n      <td>Unknown</td>\n      <td>Unknown</td>\n      <td>Firearm</td>\n      <td>0</td>\n      <td>1</td>\n      <td>FBI</td>\n    </tr>\n  </tbody>\n</table>\n<p>10 rows × 24 columns</p>\n</div>"
     },
     "metadata": {}
    }
   ]
  },
  {
   "cell_type": "markdown",
   "source": "We can call also call the tail function to display the last n rows of the dataset.",
   "metadata": {
    "cell_id": "00011-099b177c-db0c-41be-b0b0-4ca6ffa5b388",
    "deepnote_cell_type": "markdown",
    "deepnote_cell_height": 52.600006103515625
   }
  },
  {
   "cell_type": "code",
   "metadata": {
    "cell_id": "00012-5d8eba86-be0b-47e0-8d68-da7f842b4ebe",
    "deepnote_to_be_reexecuted": false,
    "source_hash": "89c703e9",
    "execution_start": 1657136550600,
    "execution_millis": 872,
    "deepnote_cell_type": "code",
    "deepnote_cell_height": 600.4000244140625
   },
   "source": "homrep_df.tail(638453)",
   "execution_count": 5,
   "outputs": [
    {
     "output_type": "execute_result",
     "execution_count": 5,
     "data": {
      "application/vnd.deepnote.dataframe.v3+json": {
       "column_count": 24,
       "row_count": 638453,
       "columns": [
        {
         "name": "Record ID",
         "dtype": "int64"
        },
        {
         "name": "Agency Code",
         "dtype": "object"
        },
        {
         "name": "Agency Name",
         "dtype": "object"
        },
        {
         "name": "Agency Type",
         "dtype": "object"
        },
        {
         "name": "City",
         "dtype": "object"
        },
        {
         "name": "State",
         "dtype": "object"
        },
        {
         "name": "Year",
         "dtype": "int64"
        },
        {
         "name": "Month",
         "dtype": "object"
        },
        {
         "name": "Incident",
         "dtype": "int64"
        },
        {
         "name": "Crime Type",
         "dtype": "object"
        },
        {
         "name": "Crime Solved",
         "dtype": "object"
        },
        {
         "name": "Victim Sex",
         "dtype": "object"
        },
        {
         "name": "Victim Age",
         "dtype": "int64"
        },
        {
         "name": "Victim Race",
         "dtype": "object"
        },
        {
         "name": "Victim Ethnicity",
         "dtype": "object"
        },
        {
         "name": "Perpetrator Sex",
         "dtype": "object"
        },
        {
         "name": "Perpetrator Age",
         "dtype": "object"
        },
        {
         "name": "Perpetrator Race",
         "dtype": "object"
        },
        {
         "name": "Perpetrator Ethnicity",
         "dtype": "object"
        },
        {
         "name": "Relationship",
         "dtype": "object"
        },
        {
         "name": "Weapon",
         "dtype": "object"
        },
        {
         "name": "Victim Count",
         "dtype": "int64"
        },
        {
         "name": "Perpetrator Count",
         "dtype": "int64"
        },
        {
         "name": "Record Source",
         "dtype": "object"
        },
        {
         "name": "_deepnote_index_column",
         "dtype": "int64"
        }
       ],
       "rows": [
        {
         "Record ID": 2,
         "Agency Code": "AK00101",
         "Agency Name": "Anchorage",
         "Agency Type": "Municipal Police",
         "City": "Anchorage",
         "State": "Alaska",
         "Year": 1980,
         "Month": "March",
         "Incident": 1,
         "Crime Type": "Murder or Manslaughter",
         "Crime Solved": "Yes",
         "Victim Sex": "Male",
         "Victim Age": 43,
         "Victim Race": "White",
         "Victim Ethnicity": "Unknown",
         "Perpetrator Sex": "Male",
         "Perpetrator Age": "42",
         "Perpetrator Race": "White",
         "Perpetrator Ethnicity": "Unknown",
         "Relationship": "Acquaintance",
         "Weapon": "Strangulation",
         "Victim Count": 0,
         "Perpetrator Count": 0,
         "Record Source": "FBI",
         "_deepnote_index_column": 1
        },
        {
         "Record ID": 3,
         "Agency Code": "AK00101",
         "Agency Name": "Anchorage",
         "Agency Type": "Municipal Police",
         "City": "Anchorage",
         "State": "Alaska",
         "Year": 1980,
         "Month": "March",
         "Incident": 2,
         "Crime Type": "Murder or Manslaughter",
         "Crime Solved": "No",
         "Victim Sex": "Female",
         "Victim Age": 30,
         "Victim Race": "Native American/Alaska Native",
         "Victim Ethnicity": "Unknown",
         "Perpetrator Sex": "Unknown",
         "Perpetrator Age": "0",
         "Perpetrator Race": "Unknown",
         "Perpetrator Ethnicity": "Unknown",
         "Relationship": "Unknown",
         "Weapon": "Unknown",
         "Victim Count": 0,
         "Perpetrator Count": 0,
         "Record Source": "FBI",
         "_deepnote_index_column": 2
        },
        {
         "Record ID": 4,
         "Agency Code": "AK00101",
         "Agency Name": "Anchorage",
         "Agency Type": "Municipal Police",
         "City": "Anchorage",
         "State": "Alaska",
         "Year": 1980,
         "Month": "April",
         "Incident": 1,
         "Crime Type": "Murder or Manslaughter",
         "Crime Solved": "Yes",
         "Victim Sex": "Male",
         "Victim Age": 43,
         "Victim Race": "White",
         "Victim Ethnicity": "Unknown",
         "Perpetrator Sex": "Male",
         "Perpetrator Age": "42",
         "Perpetrator Race": "White",
         "Perpetrator Ethnicity": "Unknown",
         "Relationship": "Acquaintance",
         "Weapon": "Strangulation",
         "Victim Count": 0,
         "Perpetrator Count": 0,
         "Record Source": "FBI",
         "_deepnote_index_column": 3
        },
        {
         "Record ID": 5,
         "Agency Code": "AK00101",
         "Agency Name": "Anchorage",
         "Agency Type": "Municipal Police",
         "City": "Anchorage",
         "State": "Alaska",
         "Year": 1980,
         "Month": "April",
         "Incident": 2,
         "Crime Type": "Murder or Manslaughter",
         "Crime Solved": "No",
         "Victim Sex": "Female",
         "Victim Age": 30,
         "Victim Race": "Native American/Alaska Native",
         "Victim Ethnicity": "Unknown",
         "Perpetrator Sex": "Unknown",
         "Perpetrator Age": "0",
         "Perpetrator Race": "Unknown",
         "Perpetrator Ethnicity": "Unknown",
         "Relationship": "Unknown",
         "Weapon": "Unknown",
         "Victim Count": 0,
         "Perpetrator Count": 1,
         "Record Source": "FBI",
         "_deepnote_index_column": 4
        },
        {
         "Record ID": 6,
         "Agency Code": "AK00101",
         "Agency Name": "Anchorage",
         "Agency Type": "Municipal Police",
         "City": "Anchorage",
         "State": "Alaska",
         "Year": 1980,
         "Month": "May",
         "Incident": 1,
         "Crime Type": "Murder or Manslaughter",
         "Crime Solved": "Yes",
         "Victim Sex": "Male",
         "Victim Age": 30,
         "Victim Race": "White",
         "Victim Ethnicity": "Unknown",
         "Perpetrator Sex": "Male",
         "Perpetrator Age": "36",
         "Perpetrator Race": "White",
         "Perpetrator Ethnicity": "Unknown",
         "Relationship": "Acquaintance",
         "Weapon": "Rifle",
         "Victim Count": 0,
         "Perpetrator Count": 0,
         "Record Source": "FBI",
         "_deepnote_index_column": 5
        },
        {
         "Record ID": 7,
         "Agency Code": "AK00101",
         "Agency Name": "Anchorage",
         "Agency Type": "Municipal Police",
         "City": "Anchorage",
         "State": "Alaska",
         "Year": 1980,
         "Month": "May",
         "Incident": 2,
         "Crime Type": "Murder or Manslaughter",
         "Crime Solved": "Yes",
         "Victim Sex": "Female",
         "Victim Age": 42,
         "Victim Race": "Native American/Alaska Native",
         "Victim Ethnicity": "Unknown",
         "Perpetrator Sex": "Male",
         "Perpetrator Age": "27",
         "Perpetrator Race": "Black",
         "Perpetrator Ethnicity": "Unknown",
         "Relationship": "Wife",
         "Weapon": "Knife",
         "Victim Count": 0,
         "Perpetrator Count": 0,
         "Record Source": "FBI",
         "_deepnote_index_column": 6
        },
        {
         "Record ID": 8,
         "Agency Code": "AK00101",
         "Agency Name": "Anchorage",
         "Agency Type": "Municipal Police",
         "City": "Anchorage",
         "State": "Alaska",
         "Year": 1980,
         "Month": "June",
         "Incident": 1,
         "Crime Type": "Murder or Manslaughter",
         "Crime Solved": "Yes",
         "Victim Sex": "Female",
         "Victim Age": 99,
         "Victim Race": "White",
         "Victim Ethnicity": "Unknown",
         "Perpetrator Sex": "Male",
         "Perpetrator Age": "35",
         "Perpetrator Race": "White",
         "Perpetrator Ethnicity": "Unknown",
         "Relationship": "Wife",
         "Weapon": "Knife",
         "Victim Count": 0,
         "Perpetrator Count": 0,
         "Record Source": "FBI",
         "_deepnote_index_column": 7
        },
        {
         "Record ID": 9,
         "Agency Code": "AK00101",
         "Agency Name": "Anchorage",
         "Agency Type": "Municipal Police",
         "City": "Anchorage",
         "State": "Alaska",
         "Year": 1980,
         "Month": "June",
         "Incident": 2,
         "Crime Type": "Murder or Manslaughter",
         "Crime Solved": "No",
         "Victim Sex": "Male",
         "Victim Age": 32,
         "Victim Race": "White",
         "Victim Ethnicity": "Unknown",
         "Perpetrator Sex": "Unknown",
         "Perpetrator Age": "0",
         "Perpetrator Race": "Unknown",
         "Perpetrator Ethnicity": "Unknown",
         "Relationship": "Unknown",
         "Weapon": "Firearm",
         "Victim Count": 0,
         "Perpetrator Count": 0,
         "Record Source": "FBI",
         "_deepnote_index_column": 8
        },
        {
         "Record ID": 10,
         "Agency Code": "AK00101",
         "Agency Name": "Anchorage",
         "Agency Type": "Municipal Police",
         "City": "Anchorage",
         "State": "Alaska",
         "Year": 1980,
         "Month": "June",
         "Incident": 3,
         "Crime Type": "Murder or Manslaughter",
         "Crime Solved": "Yes",
         "Victim Sex": "Male",
         "Victim Age": 38,
         "Victim Race": "White",
         "Victim Ethnicity": "Unknown",
         "Perpetrator Sex": "Male",
         "Perpetrator Age": "40",
         "Perpetrator Race": "Unknown",
         "Perpetrator Ethnicity": "Unknown",
         "Relationship": "Unknown",
         "Weapon": "Firearm",
         "Victim Count": 0,
         "Perpetrator Count": 1,
         "Record Source": "FBI",
         "_deepnote_index_column": 9
        },
        {
         "Record ID": 11,
         "Agency Code": "AK00101",
         "Agency Name": "Anchorage",
         "Agency Type": "Municipal Police",
         "City": "Anchorage",
         "State": "Alaska",
         "Year": 1980,
         "Month": "July",
         "Incident": 1,
         "Crime Type": "Murder or Manslaughter",
         "Crime Solved": "No",
         "Victim Sex": "Male",
         "Victim Age": 36,
         "Victim Race": "Native American/Alaska Native",
         "Victim Ethnicity": "Unknown",
         "Perpetrator Sex": "Unknown",
         "Perpetrator Age": "0",
         "Perpetrator Race": "Unknown",
         "Perpetrator Ethnicity": "Unknown",
         "Relationship": "Unknown",
         "Weapon": "Unknown",
         "Victim Count": 0,
         "Perpetrator Count": 1,
         "Record Source": "FBI",
         "_deepnote_index_column": 10
        }
       ]
      },
      "text/plain": "        Record ID Agency Code      Agency Name       Agency Type        City  \\\n1               2     AK00101        Anchorage  Municipal Police   Anchorage   \n2               3     AK00101        Anchorage  Municipal Police   Anchorage   \n3               4     AK00101        Anchorage  Municipal Police   Anchorage   \n4               5     AK00101        Anchorage  Municipal Police   Anchorage   \n5               6     AK00101        Anchorage  Municipal Police   Anchorage   \n...           ...         ...              ...               ...         ...   \n638449     638450     WY01500      Park County           Sheriff        Park   \n638450     638451     WY01700  Sheridan County           Sheriff    Sheridan   \n638451     638452     WY01701         Sheridan  Municipal Police    Sheridan   \n638452     638453     WY01800  Sublette County           Sheriff    Sublette   \n638453     638454     WY01902     Rock Springs  Municipal Police  Sweetwater   \n\n          State  Year      Month  Incident              Crime Type  ...  \\\n1        Alaska  1980      March         1  Murder or Manslaughter  ...   \n2        Alaska  1980      March         2  Murder or Manslaughter  ...   \n3        Alaska  1980      April         1  Murder or Manslaughter  ...   \n4        Alaska  1980      April         2  Murder or Manslaughter  ...   \n5        Alaska  1980        May         1  Murder or Manslaughter  ...   \n...         ...   ...        ...       ...                     ...  ...   \n638449  Wyoming  2014    January         1  Murder or Manslaughter  ...   \n638450  Wyoming  2014       June         1  Murder or Manslaughter  ...   \n638451  Wyoming  2014  September         1  Murder or Manslaughter  ...   \n638452  Wyoming  2014   December         1  Murder or Manslaughter  ...   \n638453  Wyoming  2014  September         1  Murder or Manslaughter  ...   \n\n       Victim Ethnicity Perpetrator Sex  Perpetrator Age  \\\n1               Unknown            Male               42   \n2               Unknown         Unknown                0   \n3               Unknown            Male               42   \n4               Unknown         Unknown                0   \n5               Unknown            Male               36   \n...                 ...             ...              ...   \n638449         Hispanic         Unknown                0   \n638450          Unknown            Male               57   \n638451          Unknown          Female               22   \n638452     Not Hispanic            Male               31   \n638453     Not Hispanic          Female               24   \n\n              Perpetrator Race Perpetrator Ethnicity  Relationship  \\\n1                        White               Unknown  Acquaintance   \n2                      Unknown               Unknown       Unknown   \n3                        White               Unknown  Acquaintance   \n4                      Unknown               Unknown       Unknown   \n5                        White               Unknown  Acquaintance   \n...                        ...                   ...           ...   \n638449                 Unknown               Unknown       Unknown   \n638450                   White               Unknown  Acquaintance   \n638451  Asian/Pacific Islander               Unknown      Daughter   \n638452                   White          Not Hispanic      Stranger   \n638453                   White          Not Hispanic      Daughter   \n\n               Weapon Victim Count Perpetrator Count Record Source  \n1       Strangulation            0                 0           FBI  \n2             Unknown            0                 0           FBI  \n3       Strangulation            0                 0           FBI  \n4             Unknown            0                 1           FBI  \n5               Rifle            0                 0           FBI  \n...               ...          ...               ...           ...  \n638449        Handgun            0                 0           FBI  \n638450        Handgun            0                 0           FBI  \n638451    Suffocation            0                 0           FBI  \n638452          Knife            0                 1           FBI  \n638453   Blunt Object            0                 1           FBI  \n\n[638453 rows x 24 columns]",
      "text/html": "<div>\n<style scoped>\n    .dataframe tbody tr th:only-of-type {\n        vertical-align: middle;\n    }\n\n    .dataframe tbody tr th {\n        vertical-align: top;\n    }\n\n    .dataframe thead th {\n        text-align: right;\n    }\n</style>\n<table border=\"1\" class=\"dataframe\">\n  <thead>\n    <tr style=\"text-align: right;\">\n      <th></th>\n      <th>Record ID</th>\n      <th>Agency Code</th>\n      <th>Agency Name</th>\n      <th>Agency Type</th>\n      <th>City</th>\n      <th>State</th>\n      <th>Year</th>\n      <th>Month</th>\n      <th>Incident</th>\n      <th>Crime Type</th>\n      <th>...</th>\n      <th>Victim Ethnicity</th>\n      <th>Perpetrator Sex</th>\n      <th>Perpetrator Age</th>\n      <th>Perpetrator Race</th>\n      <th>Perpetrator Ethnicity</th>\n      <th>Relationship</th>\n      <th>Weapon</th>\n      <th>Victim Count</th>\n      <th>Perpetrator Count</th>\n      <th>Record Source</th>\n    </tr>\n  </thead>\n  <tbody>\n    <tr>\n      <th>1</th>\n      <td>2</td>\n      <td>AK00101</td>\n      <td>Anchorage</td>\n      <td>Municipal Police</td>\n      <td>Anchorage</td>\n      <td>Alaska</td>\n      <td>1980</td>\n      <td>March</td>\n      <td>1</td>\n      <td>Murder or Manslaughter</td>\n      <td>...</td>\n      <td>Unknown</td>\n      <td>Male</td>\n      <td>42</td>\n      <td>White</td>\n      <td>Unknown</td>\n      <td>Acquaintance</td>\n      <td>Strangulation</td>\n      <td>0</td>\n      <td>0</td>\n      <td>FBI</td>\n    </tr>\n    <tr>\n      <th>2</th>\n      <td>3</td>\n      <td>AK00101</td>\n      <td>Anchorage</td>\n      <td>Municipal Police</td>\n      <td>Anchorage</td>\n      <td>Alaska</td>\n      <td>1980</td>\n      <td>March</td>\n      <td>2</td>\n      <td>Murder or Manslaughter</td>\n      <td>...</td>\n      <td>Unknown</td>\n      <td>Unknown</td>\n      <td>0</td>\n      <td>Unknown</td>\n      <td>Unknown</td>\n      <td>Unknown</td>\n      <td>Unknown</td>\n      <td>0</td>\n      <td>0</td>\n      <td>FBI</td>\n    </tr>\n    <tr>\n      <th>3</th>\n      <td>4</td>\n      <td>AK00101</td>\n      <td>Anchorage</td>\n      <td>Municipal Police</td>\n      <td>Anchorage</td>\n      <td>Alaska</td>\n      <td>1980</td>\n      <td>April</td>\n      <td>1</td>\n      <td>Murder or Manslaughter</td>\n      <td>...</td>\n      <td>Unknown</td>\n      <td>Male</td>\n      <td>42</td>\n      <td>White</td>\n      <td>Unknown</td>\n      <td>Acquaintance</td>\n      <td>Strangulation</td>\n      <td>0</td>\n      <td>0</td>\n      <td>FBI</td>\n    </tr>\n    <tr>\n      <th>4</th>\n      <td>5</td>\n      <td>AK00101</td>\n      <td>Anchorage</td>\n      <td>Municipal Police</td>\n      <td>Anchorage</td>\n      <td>Alaska</td>\n      <td>1980</td>\n      <td>April</td>\n      <td>2</td>\n      <td>Murder or Manslaughter</td>\n      <td>...</td>\n      <td>Unknown</td>\n      <td>Unknown</td>\n      <td>0</td>\n      <td>Unknown</td>\n      <td>Unknown</td>\n      <td>Unknown</td>\n      <td>Unknown</td>\n      <td>0</td>\n      <td>1</td>\n      <td>FBI</td>\n    </tr>\n    <tr>\n      <th>5</th>\n      <td>6</td>\n      <td>AK00101</td>\n      <td>Anchorage</td>\n      <td>Municipal Police</td>\n      <td>Anchorage</td>\n      <td>Alaska</td>\n      <td>1980</td>\n      <td>May</td>\n      <td>1</td>\n      <td>Murder or Manslaughter</td>\n      <td>...</td>\n      <td>Unknown</td>\n      <td>Male</td>\n      <td>36</td>\n      <td>White</td>\n      <td>Unknown</td>\n      <td>Acquaintance</td>\n      <td>Rifle</td>\n      <td>0</td>\n      <td>0</td>\n      <td>FBI</td>\n    </tr>\n    <tr>\n      <th>...</th>\n      <td>...</td>\n      <td>...</td>\n      <td>...</td>\n      <td>...</td>\n      <td>...</td>\n      <td>...</td>\n      <td>...</td>\n      <td>...</td>\n      <td>...</td>\n      <td>...</td>\n      <td>...</td>\n      <td>...</td>\n      <td>...</td>\n      <td>...</td>\n      <td>...</td>\n      <td>...</td>\n      <td>...</td>\n      <td>...</td>\n      <td>...</td>\n      <td>...</td>\n      <td>...</td>\n    </tr>\n    <tr>\n      <th>638449</th>\n      <td>638450</td>\n      <td>WY01500</td>\n      <td>Park County</td>\n      <td>Sheriff</td>\n      <td>Park</td>\n      <td>Wyoming</td>\n      <td>2014</td>\n      <td>January</td>\n      <td>1</td>\n      <td>Murder or Manslaughter</td>\n      <td>...</td>\n      <td>Hispanic</td>\n      <td>Unknown</td>\n      <td>0</td>\n      <td>Unknown</td>\n      <td>Unknown</td>\n      <td>Unknown</td>\n      <td>Handgun</td>\n      <td>0</td>\n      <td>0</td>\n      <td>FBI</td>\n    </tr>\n    <tr>\n      <th>638450</th>\n      <td>638451</td>\n      <td>WY01700</td>\n      <td>Sheridan County</td>\n      <td>Sheriff</td>\n      <td>Sheridan</td>\n      <td>Wyoming</td>\n      <td>2014</td>\n      <td>June</td>\n      <td>1</td>\n      <td>Murder or Manslaughter</td>\n      <td>...</td>\n      <td>Unknown</td>\n      <td>Male</td>\n      <td>57</td>\n      <td>White</td>\n      <td>Unknown</td>\n      <td>Acquaintance</td>\n      <td>Handgun</td>\n      <td>0</td>\n      <td>0</td>\n      <td>FBI</td>\n    </tr>\n    <tr>\n      <th>638451</th>\n      <td>638452</td>\n      <td>WY01701</td>\n      <td>Sheridan</td>\n      <td>Municipal Police</td>\n      <td>Sheridan</td>\n      <td>Wyoming</td>\n      <td>2014</td>\n      <td>September</td>\n      <td>1</td>\n      <td>Murder or Manslaughter</td>\n      <td>...</td>\n      <td>Unknown</td>\n      <td>Female</td>\n      <td>22</td>\n      <td>Asian/Pacific Islander</td>\n      <td>Unknown</td>\n      <td>Daughter</td>\n      <td>Suffocation</td>\n      <td>0</td>\n      <td>0</td>\n      <td>FBI</td>\n    </tr>\n    <tr>\n      <th>638452</th>\n      <td>638453</td>\n      <td>WY01800</td>\n      <td>Sublette County</td>\n      <td>Sheriff</td>\n      <td>Sublette</td>\n      <td>Wyoming</td>\n      <td>2014</td>\n      <td>December</td>\n      <td>1</td>\n      <td>Murder or Manslaughter</td>\n      <td>...</td>\n      <td>Not Hispanic</td>\n      <td>Male</td>\n      <td>31</td>\n      <td>White</td>\n      <td>Not Hispanic</td>\n      <td>Stranger</td>\n      <td>Knife</td>\n      <td>0</td>\n      <td>1</td>\n      <td>FBI</td>\n    </tr>\n    <tr>\n      <th>638453</th>\n      <td>638454</td>\n      <td>WY01902</td>\n      <td>Rock Springs</td>\n      <td>Municipal Police</td>\n      <td>Sweetwater</td>\n      <td>Wyoming</td>\n      <td>2014</td>\n      <td>September</td>\n      <td>1</td>\n      <td>Murder or Manslaughter</td>\n      <td>...</td>\n      <td>Not Hispanic</td>\n      <td>Female</td>\n      <td>24</td>\n      <td>White</td>\n      <td>Not Hispanic</td>\n      <td>Daughter</td>\n      <td>Blunt Object</td>\n      <td>0</td>\n      <td>1</td>\n      <td>FBI</td>\n    </tr>\n  </tbody>\n</table>\n<p>638453 rows × 24 columns</p>\n</div>"
     },
     "metadata": {}
    }
   ]
  },
  {
   "cell_type": "markdown",
   "source": "## Data Cleaning\n\nData Cleaning is performed to correct missing, inaccurate, or inconsistent data.\n\nLet us first check the dataset information.",
   "metadata": {
    "cell_id": "00013-906fcae7-4881-431a-9d6c-b5e6aeb2801b",
    "deepnote_cell_type": "markdown",
    "deepnote_cell_height": 145
   }
  },
  {
   "cell_type": "code",
   "metadata": {
    "cell_id": "00014-332304c1-f759-4397-ab67-1913ee5fb72c",
    "deepnote_to_be_reexecuted": false,
    "source_hash": "e2c3d252",
    "execution_start": 1657136551475,
    "execution_millis": 593,
    "deepnote_cell_type": "code",
    "deepnote_cell_height": 701.2999877929688
   },
   "source": "homrep_df.info()",
   "execution_count": 6,
   "outputs": [
    {
     "name": "stdout",
     "text": "<class 'pandas.core.frame.DataFrame'>\nRangeIndex: 638454 entries, 0 to 638453\nData columns (total 24 columns):\n #   Column                 Non-Null Count   Dtype \n---  ------                 --------------   ----- \n 0   Record ID              638454 non-null  int64 \n 1   Agency Code            638454 non-null  object\n 2   Agency Name            638454 non-null  object\n 3   Agency Type            638454 non-null  object\n 4   City                   638454 non-null  object\n 5   State                  638454 non-null  object\n 6   Year                   638454 non-null  int64 \n 7   Month                  638454 non-null  object\n 8   Incident               638454 non-null  int64 \n 9   Crime Type             638454 non-null  object\n 10  Crime Solved           638454 non-null  object\n 11  Victim Sex             638454 non-null  object\n 12  Victim Age             638454 non-null  int64 \n 13  Victim Race            638454 non-null  object\n 14  Victim Ethnicity       638454 non-null  object\n 15  Perpetrator Sex        638454 non-null  object\n 16  Perpetrator Age        638454 non-null  object\n 17  Perpetrator Race       638454 non-null  object\n 18  Perpetrator Ethnicity  638454 non-null  object\n 19  Relationship           638454 non-null  object\n 20  Weapon                 638454 non-null  object\n 21  Victim Count           638454 non-null  int64 \n 22  Perpetrator Count      638454 non-null  int64 \n 23  Record Source          638454 non-null  object\ndtypes: int64(6), object(18)\nmemory usage: 116.9+ MB\n",
     "output_type": "stream"
    }
   ]
  },
  {
   "cell_type": "markdown",
   "source": "### `Perpetrator Age` variable\n\n\nUpon examining the data, we see that `Perpetrator Age` data type is `object` when it should be `integer`. \n\nHere we display all the unique values of the `Perpetrator Age`:",
   "metadata": {
    "cell_id": "00015-f1f753d3-4bc1-447d-b8b4-e4730bafbe27",
    "deepnote_cell_type": "markdown",
    "deepnote_cell_height": 137.5
   }
  },
  {
   "cell_type": "code",
   "metadata": {
    "cell_id": "00016-9f2db4ae-a536-457a-81cb-17d7de2102a4",
    "deepnote_to_be_reexecuted": false,
    "source_hash": "bb67f4f3",
    "execution_start": 1657136552071,
    "execution_millis": 68,
    "deepnote_cell_type": "code",
    "deepnote_cell_height": 291.29998779296875,
    "deepnote_output_heights": [
     194
    ]
   },
   "source": "homrep_df['Perpetrator Age'].unique()",
   "execution_count": 7,
   "outputs": [
    {
     "output_type": "execute_result",
     "execution_count": 7,
     "data": {
      "text/plain": "array(['15', '42', '0', '36', '27', '35', '40', '49', '39', '29', '19',\n       '23', '33', '26', '41', '28', '61', '25', '7', '17', '34', '21',\n       '43', '38', '66', '32', '37', '22', '30', '24', '65', '51', '60',\n       '45', '64', '18', '20', '44', '73', '62', '69', '52', '16', '90',\n       '56', '47', '57', '31', '46', '14', '55', '50', '54', '68', '77',\n       '53', '67', '48', '76', '58', '71', '63', '89', '13', '75', '72',\n       '93', '59', '10', '11', '79', '74', '99', '70', '78', '80', '9',\n       '12', '81', '6', '87', '82', '83', '8', '84', '85', '86', '5', '3',\n       '1', '88', '95', '4', '91', '92', '96', '94', '2', '98', '97', ' '],\n      dtype=object)"
     },
     "metadata": {}
    }
   ]
  },
  {
   "cell_type": "code",
   "metadata": {
    "cell_id": "00017-5ae82227-c6e8-47b9-b104-8a7303c5d217",
    "deepnote_to_be_reexecuted": false,
    "source_hash": "91233554",
    "execution_start": 1657136552142,
    "execution_millis": 122,
    "deepnote_cell_type": "code",
    "deepnote_cell_height": 329.29998779296875,
    "deepnote_output_heights": [
     232
    ]
   },
   "source": "homrep_df['Perpetrator Age'].value_counts()",
   "execution_count": 8,
   "outputs": [
    {
     "output_type": "execute_result",
     "execution_count": 8,
     "data": {
      "text/plain": "0     216327\n20     21625\n19     20250\n21     18983\n18     18834\n       ...  \n98         7\n96         7\n2          6\n97         3\n           1\nName: Perpetrator Age, Length: 101, dtype: int64"
     },
     "metadata": {}
    }
   ]
  },
  {
   "cell_type": "markdown",
   "source": "We see that a lot of the `Perpetrator Age` is 0 and there is an entry with a blank value. We replace the blank value with 0 so that we can convert them to a NaN data type later on. We also convert the the datatype to integer.",
   "metadata": {
    "cell_id": "00018-0f8a89e2-ee7e-41ca-b3ed-15d8ebfcfb49",
    "deepnote_cell_type": "markdown",
    "deepnote_cell_height": 75
   }
  },
  {
   "cell_type": "code",
   "metadata": {
    "cell_id": "00019-8801e9d0-6353-418b-beeb-02a99f5f734b",
    "deepnote_to_be_reexecuted": false,
    "source_hash": "c6fe5da",
    "execution_start": 1657136552320,
    "execution_millis": 434,
    "deepnote_cell_type": "code",
    "deepnote_cell_height": 394.29998779296875,
    "deepnote_output_heights": [
     117
    ]
   },
   "source": "# copy of original data \nhomrep_df_copy = homrep_df.copy()\n\n# replacing blank values with zeros\nhomrep_df_copy['Perpetrator Age'] = homrep_df_copy['Perpetrator Age'].replace(\" \", 0)\n\n# converting to integers\nhomrep_df_copy['Perpetrator Age'] = homrep_df_copy['Perpetrator Age'].astype(str).astype(int)\n\n# Check values if converted to integer\nhomrep_df_copy['Perpetrator Age'].unique()",
   "execution_count": 9,
   "outputs": [
    {
     "output_type": "execute_result",
     "execution_count": 9,
     "data": {
      "text/plain": "array([15, 42,  0, 36, 27, 35, 40, 49, 39, 29, 19, 23, 33, 26, 41, 28, 61,\n       25,  7, 17, 34, 21, 43, 38, 66, 32, 37, 22, 30, 24, 65, 51, 60, 45,\n       64, 18, 20, 44, 73, 62, 69, 52, 16, 90, 56, 47, 57, 31, 46, 14, 55,\n       50, 54, 68, 77, 53, 67, 48, 76, 58, 71, 63, 89, 13, 75, 72, 93, 59,\n       10, 11, 79, 74, 99, 70, 78, 80,  9, 12, 81,  6, 87, 82, 83,  8, 84,\n       85, 86,  5,  3,  1, 88, 95,  4, 91, 92, 96, 94,  2, 98, 97])"
     },
     "metadata": {}
    }
   ]
  },
  {
   "cell_type": "markdown",
   "source": "Next, we convert all ages 0 to NaN data type. ",
   "metadata": {
    "cell_id": "00020-f0ae4401-e948-4b63-959c-df4264bd17f9",
    "deepnote_cell_type": "markdown",
    "deepnote_cell_height": 52.600006103515625
   }
  },
  {
   "cell_type": "code",
   "metadata": {
    "cell_id": "00021-539334c0-a4a4-4651-bfbf-250e9d6d8056",
    "deepnote_to_be_reexecuted": false,
    "source_hash": "6cd81956",
    "execution_start": 1657136552755,
    "execution_millis": 88,
    "deepnote_cell_type": "code",
    "deepnote_cell_height": 562.2000122070312,
    "deepnote_output_heights": [
     null,
     232
    ]
   },
   "source": "zero = homrep_df_copy[\"Perpetrator Age\"] < 1\n\n# replace all 0 values with NaN for that column\nhomrep_df_copy[\"Perpetrator Age\"][zero] = np.nan\n\n# displaying new value count after removing 0 values\nhomrep_df_copy['Perpetrator Age'].value_counts()",
   "execution_count": 10,
   "outputs": [
    {
     "name": "stderr",
     "text": "<ipython-input-10-ad816b084d92>:4: SettingWithCopyWarning: \nA value is trying to be set on a copy of a slice from a DataFrame\n\nSee the caveats in the documentation: https://pandas.pydata.org/pandas-docs/stable/user_guide/indexing.html#returning-a-view-versus-a-copy\n  homrep_df_copy[\"Perpetrator Age\"][zero] = np.nan\n",
     "output_type": "stream"
    },
    {
     "output_type": "execute_result",
     "execution_count": 10,
     "data": {
      "text/plain": "20.0    21625\n19.0    20250\n21.0    18983\n18.0    18834\n22.0    18433\n        ...  \n95.0        9\n96.0        7\n98.0        7\n2.0         6\n97.0        3\nName: Perpetrator Age, Length: 99, dtype: int64"
     },
     "metadata": {}
    }
   ]
  },
  {
   "cell_type": "markdown",
   "source": "### `Victim Age` variable\n\n\nUpon examining the `Victim Age` variable below, there is an error value which is 998. ",
   "metadata": {
    "cell_id": "00022-59d50807-4c5b-44b3-ae73-24b662afaeb5",
    "deepnote_cell_type": "markdown",
    "deepnote_cell_height": 101.10000610351562
   }
  },
  {
   "cell_type": "code",
   "metadata": {
    "cell_id": "00023-532cf7b1-b45d-49d2-b4e2-5b360660deba",
    "deepnote_to_be_reexecuted": false,
    "source_hash": "8efcd70f",
    "execution_start": 1657136552842,
    "execution_millis": 930,
    "deepnote_cell_type": "code",
    "deepnote_cell_height": 253.3000030517578,
    "deepnote_output_heights": [
     156
    ]
   },
   "source": "homrep_df['Victim Age'].unique()",
   "execution_count": 11,
   "outputs": [
    {
     "output_type": "execute_result",
     "execution_count": 11,
     "data": {
      "text/plain": "array([ 14,  43,  30,  42,  99,  32,  38,  36,  20,  48,  31,  16,  33,\n        27,  21,  60,  40,  18,   8,  25,  24,  46,  23,  22,  45,  26,\n        58,  17,  29,  41,  68,  13,  35,  44,  54,  37,  51,  90,  50,\n        52,  61,  63,  19,  28,  70,  72,  74,  53,  57,  76,  79,  69,\n        34,  66,  55,  67,  65,  47,   1,  49,  62,  75,  56,  59,  78,\n        39,  15,   0,  71,  77,   2,   4,  64,  82,  85,   6,   5,   7,\n         9,  84,  10,  86,  11,  73,  83, 998,  81,  87,  80,   3,  12,\n        94,  93,  92,  89,  97,  88,  91,  95,  98,  96])"
     },
     "metadata": {}
    }
   ]
  },
  {
   "cell_type": "markdown",
   "source": "We will remove the error value and replace it with a NaN value since nobody could be 998 years old.",
   "metadata": {
    "cell_id": "00024-4688ad73-2e20-47d2-9f13-e2ce14f28fdb",
    "deepnote_cell_type": "markdown",
    "deepnote_cell_height": 52.600006103515625
   }
  },
  {
   "cell_type": "code",
   "metadata": {
    "cell_id": "00025-604f828d-b208-4606-9bbf-e12896593870",
    "deepnote_to_be_reexecuted": false,
    "source_hash": "725c5c5e",
    "execution_start": 1657136552877,
    "execution_millis": 897,
    "deepnote_cell_type": "code",
    "deepnote_cell_height": 522.2000122070312,
    "deepnote_output_heights": [
     null,
     156
    ]
   },
   "source": "# subset the age 998\nage_limit = homrep_df_copy[\"Victim Age\"] == 998\n\n# replace the 998 value with NaN \nhomrep_df_copy[\"Victim Age\"][age_limit] = np.nan\n\n\n# displaying the unique values after removing 998\nhomrep_df_copy['Victim Age'].unique()",
   "execution_count": 12,
   "outputs": [
    {
     "name": "stderr",
     "text": "<ipython-input-12-ba69f11b51c0>:5: SettingWithCopyWarning: \nA value is trying to be set on a copy of a slice from a DataFrame\n\nSee the caveats in the documentation: https://pandas.pydata.org/pandas-docs/stable/user_guide/indexing.html#returning-a-view-versus-a-copy\n  homrep_df_copy[\"Victim Age\"][age_limit] = np.nan\n",
     "output_type": "stream"
    },
    {
     "output_type": "execute_result",
     "execution_count": 12,
     "data": {
      "text/plain": "array([14., 43., 30., 42., 99., 32., 38., 36., 20., 48., 31., 16., 33.,\n       27., 21., 60., 40., 18.,  8., 25., 24., 46., 23., 22., 45., 26.,\n       58., 17., 29., 41., 68., 13., 35., 44., 54., 37., 51., 90., 50.,\n       52., 61., 63., 19., 28., 70., 72., 74., 53., 57., 76., 79., 69.,\n       34., 66., 55., 67., 65., 47.,  1., 49., 62., 75., 56., 59., 78.,\n       39., 15.,  0., 71., 77.,  2.,  4., 64., 82., 85.,  6.,  5.,  7.,\n        9., 84., 10., 86., 11., 73., 83., nan, 81., 87., 80.,  3., 12.,\n       94., 93., 92., 89., 97., 88., 91., 95., 98., 96.])"
     },
     "metadata": {}
    }
   ]
  },
  {
   "cell_type": "markdown",
   "source": "  We will now interpolate the missing values in Victim Age and Perpetrator Age.",
   "metadata": {
    "cell_id": "00026-0aa4fdec-2ae1-4ee3-b3c7-08fc418c22a0",
    "deepnote_cell_type": "markdown",
    "deepnote_cell_height": 52.600006103515625
   }
  },
  {
   "cell_type": "code",
   "metadata": {
    "cell_id": "00027-bdef2838-a1e6-4c05-ada7-44bac074535e",
    "deepnote_to_be_reexecuted": false,
    "source_hash": "394a7e8",
    "execution_start": 1657136552957,
    "execution_millis": 1105,
    "deepnote_cell_type": "code",
    "deepnote_cell_height": 845.2999877929688
   },
   "source": "# interapolate missing values\nhomrep_df_copy = homrep_df_copy.interpolate()\n\n# Convert the column type to integers\nhomrep_df_copy['Perpetrator Age'] = homrep_df_copy['Perpetrator Age'].astype(int)\nhomrep_df_copy['Victim Age'] = homrep_df_copy['Victim Age'].astype(int)\n\n# Check if the data is converted \nhomrep_df_copy.info()",
   "execution_count": 13,
   "outputs": [
    {
     "name": "stdout",
     "text": "<class 'pandas.core.frame.DataFrame'>\nRangeIndex: 638454 entries, 0 to 638453\nData columns (total 24 columns):\n #   Column                 Non-Null Count   Dtype \n---  ------                 --------------   ----- \n 0   Record ID              638454 non-null  int64 \n 1   Agency Code            638454 non-null  object\n 2   Agency Name            638454 non-null  object\n 3   Agency Type            638454 non-null  object\n 4   City                   638454 non-null  object\n 5   State                  638454 non-null  object\n 6   Year                   638454 non-null  int64 \n 7   Month                  638454 non-null  object\n 8   Incident               638454 non-null  int64 \n 9   Crime Type             638454 non-null  object\n 10  Crime Solved           638454 non-null  object\n 11  Victim Sex             638454 non-null  object\n 12  Victim Age             638454 non-null  int64 \n 13  Victim Race            638454 non-null  object\n 14  Victim Ethnicity       638454 non-null  object\n 15  Perpetrator Sex        638454 non-null  object\n 16  Perpetrator Age        638454 non-null  int64 \n 17  Perpetrator Race       638454 non-null  object\n 18  Perpetrator Ethnicity  638454 non-null  object\n 19  Relationship           638454 non-null  object\n 20  Weapon                 638454 non-null  object\n 21  Victim Count           638454 non-null  int64 \n 22  Perpetrator Count      638454 non-null  int64 \n 23  Record Source          638454 non-null  object\ndtypes: int64(7), object(17)\nmemory usage: 116.9+ MB\n",
     "output_type": "stream"
    }
   ]
  },
  {
   "cell_type": "markdown",
   "source": "### `Crime Type` variable\n\n\nCheck if the values for the`Crime Type`varible is either Murder or Manslaughter or Manslaughter by negligence.",
   "metadata": {
    "cell_id": "00028-f437819b-af84-45ac-a836-aa8d1e59fae1",
    "deepnote_cell_type": "markdown",
    "deepnote_cell_height": 101.10000610351562
   }
  },
  {
   "cell_type": "code",
   "metadata": {
    "cell_id": "00029-4824e89a-f876-40a7-b896-51f330cc3efd",
    "deepnote_to_be_reexecuted": false,
    "source_hash": "243bb7f6",
    "execution_start": 1657136554063,
    "execution_millis": 85,
    "deepnote_cell_type": "code",
    "deepnote_cell_height": 137.3000030517578,
    "deepnote_output_heights": [
     40
    ]
   },
   "source": "homrep_df_copy['Crime Type'].unique()",
   "execution_count": 14,
   "outputs": [
    {
     "output_type": "execute_result",
     "execution_count": 14,
     "data": {
      "text/plain": "array(['Murder or Manslaughter', 'Manslaughter by Negligence'],\n      dtype=object)"
     },
     "metadata": {}
    }
   ]
  },
  {
   "cell_type": "markdown",
   "source": "### `Perpetrator Ethnicity` variable\n\n\nCheck if values for `Perpetrator Ethnicity` variable is Unknown, Not Hispanic, Hispanic.",
   "metadata": {
    "cell_id": "00030-3fcd6185-9b5e-4446-8d26-960cff214ff2",
    "deepnote_cell_type": "markdown",
    "deepnote_cell_height": 101.10000610351562
   }
  },
  {
   "cell_type": "code",
   "metadata": {
    "cell_id": "00031-db157821-7c86-444e-bf5d-9ff7cef9455b",
    "deepnote_to_be_reexecuted": false,
    "source_hash": "78dcfcbb",
    "execution_start": 1657136554156,
    "execution_millis": 80,
    "deepnote_cell_type": "code",
    "deepnote_cell_height": 118.30000305175781,
    "deepnote_output_heights": [
     21
    ]
   },
   "source": "homrep_df_copy['Perpetrator Ethnicity'].unique()",
   "execution_count": 15,
   "outputs": [
    {
     "output_type": "execute_result",
     "execution_count": 15,
     "data": {
      "text/plain": "array(['Unknown', 'Not Hispanic', 'Hispanic'], dtype=object)"
     },
     "metadata": {}
    }
   ]
  },
  {
   "cell_type": "markdown",
   "source": "### `Victim Ethnicity` variable\n\n\nCheck if values for `Victim Ethnicity` variable is Unknown, Not Hispanic, Hispanic.",
   "metadata": {
    "cell_id": "00032-735a033b-4130-4b90-914b-64bb824ec43c",
    "deepnote_cell_type": "markdown",
    "deepnote_cell_height": 101.10000610351562
   }
  },
  {
   "cell_type": "code",
   "metadata": {
    "cell_id": "00033-4102a6ea-2734-49b0-81ad-49a205cc102c",
    "deepnote_to_be_reexecuted": false,
    "source_hash": "736407b2",
    "execution_start": 1657136554237,
    "execution_millis": 108,
    "deepnote_cell_type": "code",
    "deepnote_cell_height": 118.30000305175781,
    "deepnote_output_heights": [
     21
    ]
   },
   "source": "homrep_df_copy['Victim Ethnicity'].unique()",
   "execution_count": 16,
   "outputs": [
    {
     "output_type": "execute_result",
     "execution_count": 16,
     "data": {
      "text/plain": "array(['Unknown', 'Not Hispanic', 'Hispanic'], dtype=object)"
     },
     "metadata": {}
    }
   ]
  },
  {
   "cell_type": "markdown",
   "source": "### `Perpetrator Sex` variable\n\n\nCheck if values for `Perpetrator Sex` variable is Male, Female, or Unknown.",
   "metadata": {
    "cell_id": "00034-50faf3fc-09d0-46f3-8120-75122b05d3a9",
    "deepnote_cell_type": "markdown",
    "deepnote_cell_height": 101.10000610351562
   }
  },
  {
   "cell_type": "code",
   "metadata": {
    "cell_id": "00035-62f47386-0dc3-4644-91fa-5f82a6db3a6d",
    "deepnote_to_be_reexecuted": false,
    "source_hash": "70fe2f45",
    "execution_start": 1657136554350,
    "execution_millis": 68,
    "deepnote_cell_type": "code",
    "deepnote_cell_height": 118.30000305175781,
    "deepnote_output_heights": [
     21
    ]
   },
   "source": "homrep_df_copy['Perpetrator Sex'].unique()",
   "execution_count": 17,
   "outputs": [
    {
     "output_type": "execute_result",
     "execution_count": 17,
     "data": {
      "text/plain": "array(['Male', 'Unknown', 'Female'], dtype=object)"
     },
     "metadata": {}
    }
   ]
  },
  {
   "cell_type": "markdown",
   "source": "### `Victim Sex` variable\n\nCheck if values for `Victim Sex` variable is Male, Female, or Unknown.",
   "metadata": {
    "cell_id": "00036-01eacdc7-1318-4407-82af-337259cbde6d",
    "deepnote_cell_type": "markdown",
    "deepnote_cell_height": 101.10000610351562
   }
  },
  {
   "cell_type": "code",
   "metadata": {
    "cell_id": "00037-f10b9fd6-01e3-4343-9207-2bc99f58899d",
    "deepnote_to_be_reexecuted": false,
    "source_hash": "da6c3d0a",
    "execution_start": 1657136554420,
    "execution_millis": 72,
    "deepnote_cell_type": "code",
    "deepnote_cell_height": 118.30000305175781,
    "deepnote_output_heights": [
     21
    ]
   },
   "source": "homrep_df_copy['Victim Sex'].unique()",
   "execution_count": 18,
   "outputs": [
    {
     "output_type": "execute_result",
     "execution_count": 18,
     "data": {
      "text/plain": "array(['Male', 'Female', 'Unknown'], dtype=object)"
     },
     "metadata": {}
    }
   ]
  },
  {
   "cell_type": "markdown",
   "source": "### `Crime Solved` variable\n\nCheck if values for `Crime Solved` variable is Yes or No.",
   "metadata": {
    "cell_id": "00038-32fb0694-2c8d-41a0-9b7c-43edb7d47e55",
    "deepnote_cell_type": "markdown",
    "deepnote_cell_height": 101.10000610351562
   }
  },
  {
   "cell_type": "code",
   "metadata": {
    "cell_id": "00039-81c5be09-1759-4f06-81d2-01a534a2f5d2",
    "deepnote_to_be_reexecuted": false,
    "source_hash": "e5f2cddd",
    "execution_start": 1657136554498,
    "execution_millis": 66,
    "deepnote_cell_type": "code",
    "deepnote_cell_height": 118.30000305175781,
    "deepnote_output_heights": [
     21
    ]
   },
   "source": "homrep_df_copy['Crime Solved'].unique()",
   "execution_count": 19,
   "outputs": [
    {
     "output_type": "execute_result",
     "execution_count": 19,
     "data": {
      "text/plain": "array(['Yes', 'No'], dtype=object)"
     },
     "metadata": {}
    }
   ]
  },
  {
   "cell_type": "markdown",
   "source": "### `Year` variable\n\nCheck if values for `Year` variable is within the range 1980-2014. To confirm this, the total count should be the total number of observations which is 638, 454.",
   "metadata": {
    "cell_id": "00040-b2c5cb0b-43e5-486d-b06a-14dfffb133c0",
    "deepnote_cell_type": "markdown",
    "deepnote_cell_height": 123.5
   }
  },
  {
   "cell_type": "code",
   "metadata": {
    "cell_id": "00041-76dd1eb2-9300-441a-a363-7d988ec062f6",
    "deepnote_to_be_reexecuted": false,
    "source_hash": "980cdd20",
    "execution_start": 1657136554569,
    "execution_millis": 26,
    "deepnote_cell_type": "code",
    "deepnote_cell_height": 118.30000305175781,
    "deepnote_output_heights": [
     21
    ]
   },
   "source": "homrep_df_copy['Year'].between(1980,2014).count()",
   "execution_count": 20,
   "outputs": [
    {
     "output_type": "execute_result",
     "execution_count": 20,
     "data": {
      "text/plain": "638454"
     },
     "metadata": {}
    }
   ]
  },
  {
   "cell_type": "markdown",
   "source": "### `Month` variable\n\nCheck if values for `Month` variable is valid and does not contain spelling errors.",
   "metadata": {
    "cell_id": "00042-21856e0c-745a-4111-970c-2dccd2729420",
    "deepnote_cell_type": "markdown",
    "deepnote_cell_height": 101.10000610351562
   }
  },
  {
   "cell_type": "code",
   "metadata": {
    "cell_id": "00043-59232429-e7e9-4cc1-91c0-e016e9579f1d",
    "deepnote_to_be_reexecuted": false,
    "source_hash": "7120c829",
    "execution_start": 1657136554594,
    "execution_millis": 118,
    "deepnote_cell_type": "code",
    "deepnote_cell_height": 157.3000030517578,
    "deepnote_output_heights": [
     60
    ]
   },
   "source": "homrep_df_copy['Month'].unique()",
   "execution_count": 21,
   "outputs": [
    {
     "output_type": "execute_result",
     "execution_count": 21,
     "data": {
      "text/plain": "array(['January', 'March', 'April', 'May', 'June', 'July', 'August',\n       'December', 'November', 'February', 'October', 'September'],\n      dtype=object)"
     },
     "metadata": {}
    }
   ]
  },
  {
   "cell_type": "markdown",
   "source": "### `Victim Race` variable\n\nCheck if values for `Victim Race` variable is valid and does not contain spelling errors.",
   "metadata": {
    "cell_id": "00044-29084a9a-8cf0-429e-bb85-082e5e37b0e0",
    "deepnote_cell_type": "markdown",
    "deepnote_cell_height": 101.10000610351562
   }
  },
  {
   "cell_type": "code",
   "metadata": {
    "cell_id": "00045-4b384f03-462e-47b9-9add-6cb2fe211251",
    "deepnote_to_be_reexecuted": false,
    "source_hash": "3f25d646",
    "execution_start": 1657136554754,
    "execution_millis": 23,
    "deepnote_cell_type": "code",
    "deepnote_cell_height": 137.3000030517578,
    "deepnote_output_heights": [
     40
    ]
   },
   "source": "homrep_df_copy['Victim Race'].unique()",
   "execution_count": 22,
   "outputs": [
    {
     "output_type": "execute_result",
     "execution_count": 22,
     "data": {
      "text/plain": "array(['Native American/Alaska Native', 'White', 'Black', 'Unknown',\n       'Asian/Pacific Islander'], dtype=object)"
     },
     "metadata": {}
    }
   ]
  },
  {
   "cell_type": "markdown",
   "source": "### `Perpetrator Race` variable\n\nCheck if values for `Perpetrator Race` variable is valid and does not contain spelling errors.",
   "metadata": {
    "cell_id": "00046-2050b937-3e85-495b-b039-27be1bacf8ea",
    "deepnote_cell_type": "markdown",
    "deepnote_cell_height": 101.10000610351562
   }
  },
  {
   "cell_type": "code",
   "metadata": {
    "cell_id": "00047-5cb06d98-32c6-4715-b64f-5969f1539b0d",
    "deepnote_to_be_reexecuted": false,
    "source_hash": "57e6bcc4",
    "execution_start": 1657136554791,
    "execution_millis": 35,
    "deepnote_cell_type": "code",
    "deepnote_cell_height": 137.3000030517578,
    "deepnote_output_heights": [
     40
    ]
   },
   "source": "homrep_df_copy['Perpetrator Race'].unique()",
   "execution_count": 23,
   "outputs": [
    {
     "output_type": "execute_result",
     "execution_count": 23,
     "data": {
      "text/plain": "array(['Native American/Alaska Native', 'White', 'Unknown', 'Black',\n       'Asian/Pacific Islander'], dtype=object)"
     },
     "metadata": {}
    }
   ]
  },
  {
   "cell_type": "markdown",
   "source": "### `State` variable\n\nCheck if values for `State` variable is valid and does not contain spelling errors.",
   "metadata": {
    "cell_id": "00048-ec0ba490-6ebf-443c-b9cb-a3feb98e1d00",
    "owner_user_id": "38378b92-a808-4e16-b231-fe034a1af93a",
    "deepnote_cell_type": "markdown",
    "deepnote_cell_height": 101.10000610351562
   }
  },
  {
   "cell_type": "code",
   "metadata": {
    "cell_id": "00049-c2a88123-bdc5-49fe-84de-106d4e4ccfaf",
    "deepnote_to_be_reexecuted": false,
    "source_hash": "c74695cf",
    "execution_start": 1657136554831,
    "execution_millis": 60,
    "deepnote_cell_type": "code",
    "deepnote_cell_height": 310.29998779296875,
    "deepnote_output_heights": [
     213
    ]
   },
   "source": "homrep_df_copy['State'].unique()",
   "execution_count": 24,
   "outputs": [
    {
     "output_type": "execute_result",
     "execution_count": 24,
     "data": {
      "text/plain": "array(['Alaska', 'Alabama', 'Arkansas', 'Arizona', 'California',\n       'Colorado', 'Connecticut', 'District of Columbia', 'Delaware',\n       'Florida', 'Georgia', 'Hawaii', 'Iowa', 'Idaho', 'Illinois',\n       'Indiana', 'Kansas', 'Kentucky', 'Louisiana', 'Massachusetts',\n       'Maryland', 'Maine', 'Michigan', 'Minnesota', 'Missouri',\n       'Mississippi', 'Montana', 'Nebraska', 'North Carolina',\n       'North Dakota', 'New Hampshire', 'New Jersey', 'New Mexico',\n       'Nevada', 'New York', 'Ohio', 'Oklahoma', 'Oregon', 'Pennsylvania',\n       'Rhodes Island', 'South Carolina', 'South Dakota', 'Tennessee',\n       'Texas', 'Utah', 'Virginia', 'Vermont', 'Washington', 'Wisconsin',\n       'West Virginia', 'Wyoming'], dtype=object)"
     },
     "metadata": {}
    }
   ]
  },
  {
   "cell_type": "markdown",
   "source": "### `Weapon` variable\n\nCheck if values for `Weapon` variable is valid and does not contain spelling errors.",
   "metadata": {
    "cell_id": "00050-68ea38ab-a3da-4ecc-a39c-c2151297f5c1",
    "deepnote_cell_type": "markdown",
    "deepnote_cell_height": 101.10000610351562
   }
  },
  {
   "cell_type": "code",
   "metadata": {
    "cell_id": "00051-0827aec8-a126-4d39-88b0-dafc638c2ff1",
    "deepnote_to_be_reexecuted": false,
    "source_hash": "497d1507",
    "execution_start": 1657136554891,
    "execution_millis": 55,
    "deepnote_cell_type": "code",
    "deepnote_cell_height": 157.3000030517578,
    "deepnote_output_heights": [
     60
    ]
   },
   "source": "homrep_df_copy['Weapon'].unique()",
   "execution_count": 25,
   "outputs": [
    {
     "output_type": "execute_result",
     "execution_count": 25,
     "data": {
      "text/plain": "array(['Blunt Object', 'Strangulation', 'Unknown', 'Rifle', 'Knife',\n       'Firearm', 'Shotgun', 'Fall', 'Handgun', 'Drowning', 'Suffocation',\n       'Explosives', 'Fire', 'Drugs', 'Gun', 'Poison'], dtype=object)"
     },
     "metadata": {}
    }
   ]
  },
  {
   "cell_type": "markdown",
   "source": "\nUpon analysis of the data below, almost all unsolved crimes have 0 as the Perpetrator Age",
   "metadata": {
    "cell_id": "00052-5fa040eb-ffb7-4d02-a798-52f00deca377",
    "deepnote_cell_type": "markdown",
    "deepnote_cell_height": 52.600006103515625
   }
  },
  {
   "cell_type": "code",
   "metadata": {
    "cell_id": "00053-570757f1-32cb-49e5-84d4-d5a03cad297a",
    "deepnote_to_be_reexecuted": false,
    "source_hash": "dbee7a72",
    "execution_start": 1657136554945,
    "execution_millis": 376,
    "deepnote_cell_type": "code",
    "deepnote_cell_height": 597.2999877929688,
    "deepnote_output_heights": [
     482
    ]
   },
   "source": "\nhomrep_df_copy[homrep_df_copy[\"Crime Solved\"]==\"No\"].count()",
   "execution_count": 26,
   "outputs": [
    {
     "output_type": "execute_result",
     "execution_count": 26,
     "data": {
      "text/plain": "Record ID                190282\nAgency Code              190282\nAgency Name              190282\nAgency Type              190282\nCity                     190282\nState                    190282\nYear                     190282\nMonth                    190282\nIncident                 190282\nCrime Type               190282\nCrime Solved             190282\nVictim Sex               190282\nVictim Age               190282\nVictim Race              190282\nVictim Ethnicity         190282\nPerpetrator Sex          190282\nPerpetrator Age          190282\nPerpetrator Race         190282\nPerpetrator Ethnicity    190282\nRelationship             190282\nWeapon                   190282\nVictim Count             190282\nPerpetrator Count        190282\nRecord Source            190282\ndtype: int64"
     },
     "metadata": {}
    }
   ]
  },
  {
   "cell_type": "code",
   "metadata": {
    "cell_id": "00054-cb3e6373-f41d-4613-b871-e691be6a2a06",
    "deepnote_to_be_reexecuted": false,
    "source_hash": "b1cb8b0",
    "execution_start": 1657136555324,
    "execution_millis": 1215,
    "deepnote_cell_type": "code",
    "deepnote_cell_height": 579.2999877929688,
    "deepnote_output_heights": [
     482
    ]
   },
   "source": "homrep_df[(homrep_df[\"Crime Solved\"]==\"No\") & (homrep_df[\"Perpetrator Age\"]==\"0\")].count()",
   "execution_count": 27,
   "outputs": [
    {
     "output_type": "execute_result",
     "execution_count": 27,
     "data": {
      "text/plain": "Record ID                189627\nAgency Code              189627\nAgency Name              189627\nAgency Type              189627\nCity                     189627\nState                    189627\nYear                     189627\nMonth                    189627\nIncident                 189627\nCrime Type               189627\nCrime Solved             189627\nVictim Sex               189627\nVictim Age               189627\nVictim Race              189627\nVictim Ethnicity         189627\nPerpetrator Sex          189627\nPerpetrator Age          189627\nPerpetrator Race         189627\nPerpetrator Ethnicity    189627\nRelationship             189627\nWeapon                   189627\nVictim Count             189627\nPerpetrator Count        189627\nRecord Source            189627\ndtype: int64"
     },
     "metadata": {}
    }
   ]
  },
  {
   "cell_type": "markdown",
   "source": "We also observed a pattern for `Perpetrator Ethnicity`,  ` Victim Ethnicity`, `Perpetrator Count` , and `Victim Count` ",
   "metadata": {
    "cell_id": "00055-10bc34aa-49b5-4a8d-8878-258e6f32c137",
    "deepnote_cell_type": "markdown",
    "deepnote_cell_height": 52.600006103515625
   }
  },
  {
   "cell_type": "code",
   "metadata": {
    "cell_id": "00056-fe5b5b6b-c402-43ec-8e04-026787a46bde",
    "deepnote_to_be_reexecuted": false,
    "source_hash": "14ed83cb",
    "execution_start": 1657136555838,
    "execution_millis": 750,
    "deepnote_cell_type": "code",
    "deepnote_cell_height": 615.2999877929688,
    "deepnote_output_heights": [
     482
    ]
   },
   "source": "homrep_df[(homrep_df[\"Crime Solved\"]==\"No\") & (homrep_df[\"Perpetrator Ethnicity\"]=='Unknown')].count()\n\n",
   "execution_count": 28,
   "outputs": [
    {
     "output_type": "execute_result",
     "execution_count": 28,
     "data": {
      "text/plain": "Record ID                190036\nAgency Code              190036\nAgency Name              190036\nAgency Type              190036\nCity                     190036\nState                    190036\nYear                     190036\nMonth                    190036\nIncident                 190036\nCrime Type               190036\nCrime Solved             190036\nVictim Sex               190036\nVictim Age               190036\nVictim Race              190036\nVictim Ethnicity         190036\nPerpetrator Sex          190036\nPerpetrator Age          190036\nPerpetrator Race         190036\nPerpetrator Ethnicity    190036\nRelationship             190036\nWeapon                   190036\nVictim Count             190036\nPerpetrator Count        190036\nRecord Source            190036\ndtype: int64"
     },
     "metadata": {}
    }
   ]
  },
  {
   "cell_type": "code",
   "metadata": {
    "cell_id": "00057-437038e8-02aa-42e4-ad21-2694f0708325",
    "deepnote_to_be_reexecuted": false,
    "source_hash": "80d54196",
    "execution_start": 1657136556297,
    "execution_millis": 345,
    "deepnote_cell_type": "code",
    "deepnote_cell_height": 579.2999877929688,
    "deepnote_output_heights": [
     482
    ]
   },
   "source": "homrep_df[(homrep_df[\"Crime Solved\"]==\"No\") & (homrep_df[\"Victim Ethnicity\"]=='Unknown')].count()",
   "execution_count": 29,
   "outputs": [
    {
     "output_type": "execute_result",
     "execution_count": 29,
     "data": {
      "text/plain": "Record ID                113271\nAgency Code              113271\nAgency Name              113271\nAgency Type              113271\nCity                     113271\nState                    113271\nYear                     113271\nMonth                    113271\nIncident                 113271\nCrime Type               113271\nCrime Solved             113271\nVictim Sex               113271\nVictim Age               113271\nVictim Race              113271\nVictim Ethnicity         113271\nPerpetrator Sex          113271\nPerpetrator Age          113271\nPerpetrator Race         113271\nPerpetrator Ethnicity    113271\nRelationship             113271\nWeapon                   113271\nVictim Count             113271\nPerpetrator Count        113271\nRecord Source            113271\ndtype: int64"
     },
     "metadata": {}
    }
   ]
  },
  {
   "cell_type": "code",
   "metadata": {
    "cell_id": "00058-e068510c-029d-47e5-bc62-560b85db4591",
    "deepnote_to_be_reexecuted": false,
    "source_hash": "87b9f367",
    "execution_start": 1657136556652,
    "execution_millis": 366,
    "deepnote_cell_type": "code",
    "deepnote_cell_height": 579.2999877929688,
    "deepnote_output_heights": [
     482
    ]
   },
   "source": "homrep_df[(homrep_df[\"Crime Solved\"]==\"No\") & (homrep_df[\"Perpetrator Count\"]==0)].count()",
   "execution_count": 30,
   "outputs": [
    {
     "output_type": "execute_result",
     "execution_count": 30,
     "data": {
      "text/plain": "Record ID                184069\nAgency Code              184069\nAgency Name              184069\nAgency Type              184069\nCity                     184069\nState                    184069\nYear                     184069\nMonth                    184069\nIncident                 184069\nCrime Type               184069\nCrime Solved             184069\nVictim Sex               184069\nVictim Age               184069\nVictim Race              184069\nVictim Ethnicity         184069\nPerpetrator Sex          184069\nPerpetrator Age          184069\nPerpetrator Race         184069\nPerpetrator Ethnicity    184069\nRelationship             184069\nWeapon                   184069\nVictim Count             184069\nPerpetrator Count        184069\nRecord Source            184069\ndtype: int64"
     },
     "metadata": {}
    }
   ]
  },
  {
   "cell_type": "markdown",
   "source": "Since the `Victim Count` and `Perpetrator Count` 0 values correlate with the unsolved crimes, we regard these zero values as null values and convert it to NaN data type.",
   "metadata": {
    "cell_id": "00059-22d2c5d3-7038-4062-a11e-596bdff5e581",
    "deepnote_cell_type": "markdown",
    "deepnote_cell_height": 75
   }
  },
  {
   "cell_type": "code",
   "metadata": {
    "cell_id": "00060-28c8ddaf-7c52-45f8-be85-880128ba5e6f",
    "deepnote_to_be_reexecuted": false,
    "source_hash": "9e3d88bb",
    "execution_start": 1657136557011,
    "execution_millis": 737,
    "deepnote_cell_type": "code",
    "deepnote_cell_height": 1133.300048828125
   },
   "source": "# subset the Perpetrator Count 0\npepr_count = homrep_df_copy[\"Perpetrator Count\"] == 0\n\n# replace them with nan values for that column\nhomrep_df_copy[\"Perpetrator Count\"][pepr_count] = np.nan\n\n# subset the Victim Count 0\nvic_count = homrep_df_copy[\"Victim Count\"] == 0\n\n# replace them with nan values for that column\nhomrep_df_copy[\"Victim Count\"][vic_count] = np.nan\n\n# Mean of perpetrator and victim count\nperp_mean = homrep_df_copy[\"Perpetrator Count\"].mean()\nvic_mean = homrep_df_copy[\"Victim Count\"].mean()\n\n# Filling missing values with the mean\nhomrep_df_copy[\"Perpetrator Count\"] = homrep_df_copy[\"Perpetrator Count\"].fillna(perp_mean).round()\nhomrep_df_copy[\"Victim Count\"] = homrep_df_copy[\"Victim Count\"].fillna(vic_mean).round()\n\n# Convert from float to integer\nhomrep_df_copy[\"Perpetrator Count\"] = homrep_df_copy[\"Perpetrator Count\"].astype(int)\nhomrep_df_copy[\"Victim Count\"] = homrep_df_copy[\"Victim Count\"].astype(int)\n\nhomrep_df_copy.info()",
   "execution_count": 31,
   "outputs": [
    {
     "name": "stderr",
     "text": "<ipython-input-31-c1b79d22d688>:5: SettingWithCopyWarning: \nA value is trying to be set on a copy of a slice from a DataFrame\n\nSee the caveats in the documentation: https://pandas.pydata.org/pandas-docs/stable/user_guide/indexing.html#returning-a-view-versus-a-copy\n  homrep_df_copy[\"Perpetrator Count\"][pepr_count] = np.nan\n<ipython-input-31-c1b79d22d688>:11: SettingWithCopyWarning: \nA value is trying to be set on a copy of a slice from a DataFrame\n\nSee the caveats in the documentation: https://pandas.pydata.org/pandas-docs/stable/user_guide/indexing.html#returning-a-view-versus-a-copy\n  homrep_df_copy[\"Victim Count\"][vic_count] = np.nan\n<class 'pandas.core.frame.DataFrame'>\nRangeIndex: 638454 entries, 0 to 638453\nData columns (total 24 columns):\n #   Column                 Non-Null Count   Dtype \n---  ------                 --------------   ----- \n 0   Record ID              638454 non-null  int64 \n 1   Agency Code            638454 non-null  object\n 2   Agency Name            638454 non-null  object\n 3   Agency Type            638454 non-null  object\n 4   City                   638454 non-null  object\n 5   State                  638454 non-null  object\n 6   Year                   638454 non-null  int64 \n 7   Month                  638454 non-null  object\n 8   Incident               638454 non-null  int64 \n 9   Crime Type             638454 non-null  object\n 10  Crime Solved           638454 non-null  object\n 11  Victim Sex             638454 non-null  object\n 12  Victim Age             638454 non-null  int64 \n 13  Victim Race            638454 non-null  object\n 14  Victim Ethnicity       638454 non-null  object\n 15  Perpetrator Sex        638454 non-null  object\n 16  Perpetrator Age        638454 non-null  int64 \n 17  Perpetrator Race       638454 non-null  object\n 18  Perpetrator Ethnicity  638454 non-null  object\n 19  Relationship           638454 non-null  object\n 20  Weapon                 638454 non-null  object\n 21  Victim Count           638454 non-null  int64 \n 22  Perpetrator Count      638454 non-null  int64 \n 23  Record Source          638454 non-null  object\ndtypes: int64(7), object(17)\nmemory usage: 116.9+ MB\n",
     "output_type": "stream"
    }
   ]
  },
  {
   "cell_type": "markdown",
   "source": "## Exploratory Data Analysis\n\nLet's play around with the data that we have and see what we can find.\n\nThe first 5 phases of the EDA will be checking each variable against the total number of cases. The rest of the phases will be a way to examine correlations between variables.\n\nAt the end of it, we will be identifying and answering the 3 interesting EDA questions based on what was found during the phases.",
   "metadata": {
    "cell_id": "00061-3da01b92-b023-4e0e-94eb-84b4f958b707",
    "deepnote_cell_type": "markdown",
    "deepnote_cell_height": 203.8000030517578
   }
  },
  {
   "cell_type": "markdown",
   "source": " ",
   "metadata": {
    "cell_id": "00062-6c47fa2d-e31a-4067-9cf6-4d54c5e6cc69",
    "deepnote_cell_type": "markdown",
    "deepnote_cell_height": 46.19999694824219
   }
  },
  {
   "cell_type": "markdown",
   "source": "Phase 1: Analyzing the \"State\" and \"City\" variable against the total cases\n\nSteps:\n1. Sort the States in descending order to determine which states have the most homicide reports\n2. Determine which states share the most concentration of homicide reports\n3. Visialize the information received using a graph\n4. Repeat steps 1-3 for the Cities. It is also better to include its corresponsing State since it would make the data much more meaningful.\n\nFindings:\n<li>Almost a third of all homicide cases have been committed in just 3 States: California, Texas, New York</li>\n<li>Among the top 50 cities, California holds the record for the state with the highest number of cities with reported homicide (10), followed by Florida (5), and Texas (4), other than these 3, all reported homicides in all other states have been committed in only 1 or 2 cities.</li>\n<li>When analyzing it collectively, however, Texas has by far the highest number of cities with Homicide reports at 131 cities. This is followed by North Carolina at 92 and Georgia at 90.</li>",
   "metadata": {
    "cell_id": "00063-9ce6ac92-f04b-49dd-a94b-600d0b016159",
    "deepnote_cell_type": "markdown",
    "deepnote_cell_height": 417.79998779296875
   }
  },
  {
   "cell_type": "code",
   "metadata": {
    "cell_id": "00064-bc81b760-0d54-4672-b062-ac23e9eeabe9",
    "deepnote_to_be_reexecuted": false,
    "source_hash": "2d4d4135",
    "execution_start": 1657136557752,
    "execution_millis": 170,
    "deepnote_cell_type": "code",
    "deepnote_cell_height": 172.3000030517578,
    "deepnote_output_heights": [
     21
    ]
   },
   "source": "test_df = homrep_df_copy.groupby('State')\ntest_df['State'].count().sort_values(ascending=False)\ntest_df['State'].count().sort_values(ascending=False).head(3).sum() / 638454\n#0.3307145072315312",
   "execution_count": 32,
   "outputs": [
    {
     "output_type": "execute_result",
     "execution_count": 32,
     "data": {
      "text/plain": "0.3307145072315312"
     },
     "metadata": {}
    }
   ]
  },
  {
   "cell_type": "code",
   "metadata": {
    "cell_id": "00065-3eefa90e-038f-4d45-8035-18f28964d38e",
    "deepnote_to_be_reexecuted": false,
    "source_hash": "1e2db1e5",
    "execution_start": 1657136557921,
    "execution_millis": 56,
    "deepnote_cell_type": "code",
    "deepnote_cell_height": 521.2999877929688,
    "deepnote_output_heights": [
     424
    ]
   },
   "source": "test_df['State'].count().sort_values(ascending=False).head(20)",
   "execution_count": 33,
   "outputs": [
    {
     "output_type": "execute_result",
     "execution_count": 33,
     "data": {
      "text/plain": "State\nCalifornia        99783\nTexas             62095\nNew York          49268\nFlorida           37164\nMichigan          28448\nIllinois          25871\nPennsylvania      24236\nGeorgia           21088\nNorth Carolina    20390\nLouisiana         19629\nOhio              19158\nMaryland          17312\nVirginia          15520\nTennessee         14930\nMissouri          14832\nNew Jersey        14132\nArizona           12871\nSouth Carolina    11698\nIndiana           11463\nAlabama           11376\nName: State, dtype: int64"
     },
     "metadata": {}
    }
   ]
  },
  {
   "cell_type": "code",
   "metadata": {
    "cell_id": "00066-e5c4eb05-a98f-4e8a-af94-3c6b40c694f7",
    "deepnote_to_be_reexecuted": false,
    "source_hash": "27a8fd87",
    "execution_start": 1657136557975,
    "execution_millis": 1647,
    "deepnote_cell_type": "code",
    "deepnote_cell_height": 832.4000244140625,
    "deepnote_output_heights": [
     21,
     611
    ]
   },
   "source": "graph_df = homrep_df_copy['State'].value_counts()\ngraph_df.plot.bar(figsize=(15,10))\nplt.xlabel('State')\nplt.ylabel('Homicide Count')\nplt.title('Homicide Count Per State')",
   "execution_count": 34,
   "outputs": [
    {
     "output_type": "execute_result",
     "execution_count": 34,
     "data": {
      "text/plain": "Text(0.5, 1.0, 'Homicide Count Per State')"
     },
     "metadata": {}
    },
    {
     "data": {
      "text/plain": "<Figure size 1080x720 with 1 Axes>",
      "image/png": "[encoded data removed]"
     },
     "metadata": {
      "needs_background": "light",
      "image/png": {
       "width": 910,
       "height": 694
      }
     },
     "output_type": "display_data"
    }
   ]
  },
  {
   "cell_type": "code",
   "metadata": {
    "cell_id": "00067-495fb808-d42d-454f-88fc-378a3d53b169",
    "deepnote_to_be_reexecuted": false,
    "source_hash": "bf00ae14",
    "execution_start": 1657136559613,
    "execution_millis": 199,
    "deepnote_cell_type": "code",
    "deepnote_cell_height": 726.2999877929688,
    "deepnote_output_heights": [
     611
    ]
   },
   "source": "test_df = homrep_df_copy.groupby(['City', 'State'])\ntest_df['City'].count().sort_values(ascending=False).head(50)",
   "execution_count": 35,
   "outputs": [
    {
     "output_type": "execute_result",
     "execution_count": 35,
     "data": {
      "text/plain": "City                  State               \nLos Angeles           California              44511\nNew York              New York                38431\nCook                  Illinois                22338\nWayne                 Michigan                19038\nHarris                Texas                   16300\nPhiladelphia          Pennsylvania            12851\nDallas                Texas                   11148\nBaltimore city        Maryland                 9336\nDade                  Florida                  9054\nMaricopa              Arizona                  8582\nOrleans               Louisiana                7847\nDistrict of Columbia  District of Columbia     7115\nFulton                Georgia                  6387\nSt. Louis city        Missouri                 5955\nSan Bernardino        California               5717\nShelby                Tennessee                5615\nAlameda               California               5551\nBexar                 Texas                    5522\nSan Diego             California               5456\nCuyahoga              Ohio                     4823\nEssex                 New Jersey               4812\nClark                 Nevada                   4511\nTarrant               Texas                    4350\nJackson               Missouri                 4287\nRiverside             California               3893\nMarion                Indiana                  3849\nOrange                California               3812\nMilwaukee             Wisconsin                3808\nPrince George's       Maryland                 3642\nJefferson             Alabama                  3506\nFranklin              Ohio                     3456\nSacramento            California               3416\nDuval                 Florida                  3295\nBroward               Florida                  3171\nLake                  Indiana                  3094\nSan Francisco         California               3016\nRichmond              Virginia                 2892\nDavidson              Tennessee                2889\nFresno                California               2844\nOklahoma              Oklahoma                 2788\nKing                  Washington               2723\nSuffolk               Massachusetts            2673\nMecklenburg           North Carolina           2660\nPalm Beach            Florida                  2642\nHillsborough          Florida                  2597\nContra Costa          California               2569\nAllegheny             Pennsylvania             2542\nEast Baton Rouge      Louisiana                2472\nPima                  Arizona                  2429\nDenver                Colorado                 2365\nName: City, dtype: int64"
     },
     "metadata": {}
    }
   ]
  },
  {
   "cell_type": "code",
   "metadata": {
    "cell_id": "00068-8877ea1c-c10a-46eb-bd5e-b3a434dbff7c",
    "deepnote_to_be_reexecuted": false,
    "source_hash": "fbff41d4",
    "execution_start": 1657136559828,
    "execution_millis": 178,
    "deepnote_cell_type": "code",
    "deepnote_cell_height": 673.2999877929688,
    "deepnote_output_heights": [
     540
    ]
   },
   "source": "test_df = homrep_df_copy.groupby(['City','State'])\ncalculate_df = test_df['State'].count().sort_values(ascending=False).head(50)\ncalculate_df.groupby('State').count().sort_values(ascending=False)",
   "execution_count": 36,
   "outputs": [
    {
     "output_type": "execute_result",
     "execution_count": 36,
     "data": {
      "text/plain": "State\nCalifornia              10\nFlorida                  5\nTexas                    4\nMissouri                 2\nTennessee                2\nIndiana                  2\nLouisiana                2\nMaryland                 2\nPennsylvania             2\nArizona                  2\nOhio                     2\nNew York                 1\nWashington               1\nVirginia                 1\nOklahoma                 1\nNorth Carolina           1\nAlabama                  1\nNew Jersey               1\nNevada                   1\nMichigan                 1\nMassachusetts            1\nIllinois                 1\nGeorgia                  1\nDistrict of Columbia     1\nColorado                 1\nWisconsin                1\nName: State, dtype: int64"
     },
     "metadata": {}
    }
   ]
  },
  {
   "cell_type": "code",
   "metadata": {
    "cell_id": "00069-61517fbe-e4fb-4e0c-8ac4-34e864220b13",
    "deepnote_to_be_reexecuted": false,
    "source_hash": "5090442b",
    "execution_start": 1657136560007,
    "execution_millis": 212,
    "deepnote_cell_type": "code",
    "deepnote_cell_height": 744.2999877929688,
    "deepnote_output_heights": [
     611
    ]
   },
   "source": "test_df = homrep_df_copy.groupby(['City','State'])\ncalculate_df = test_df['State'].count().sort_values(ascending=False)\ncalculate_df.groupby('State').nunique().sort_values(ascending=True)",
   "execution_count": 37,
   "outputs": [
    {
     "output_type": "execute_result",
     "execution_count": 37,
     "data": {
      "text/plain": "State\nDistrict of Columbia      1\nDelaware                  3\nRhodes Island             4\nHawaii                    4\nConnecticut               8\nNew Hampshire            10\nAlaska                   14\nSouth Dakota             14\nMassachusetts            14\nVermont                  14\nArizona                  15\nNorth Dakota             15\nMaine                    16\nNevada                   17\nMontana                  19\nWyoming                  22\nNew Jersey               22\nUtah                     23\nNebraska                 23\nMaryland                 24\nNew Mexico               26\nIdaho                    30\nIowa                     31\nKansas                   31\nOregon                   32\nWashington               34\nMinnesota                35\nIllinois                 36\nWest Virginia            36\nColorado                 39\nSouth Carolina           43\nWisconsin                45\nNew York                 50\nIndiana                  52\nArkansas                 52\nLouisiana                53\nMichigan                 54\nCalifornia               55\nMississippi              55\nMissouri                 56\nPennsylvania             56\nAlabama                  57\nOklahoma                 58\nOhio                     58\nKentucky                 58\nTennessee                60\nFlorida                  60\nVirginia                 81\nGeorgia                  90\nNorth Carolina           92\nTexas                   131\nName: State, dtype: int64"
     },
     "metadata": {}
    }
   ]
  },
  {
   "cell_type": "code",
   "metadata": {
    "cell_id": "00070-a2241e3c-4819-4504-890a-85f7948d47a6",
    "deepnote_to_be_reexecuted": false,
    "source_hash": "5f0e9e69",
    "execution_start": 1657136560223,
    "execution_millis": 2238,
    "deepnote_cell_type": "code",
    "deepnote_cell_height": 760.4000244140625,
    "deepnote_output_heights": [
     21,
     611
    ]
   },
   "source": "calculate_df.groupby('State').nunique().sort_values().plot(kind=\"barh\", figsize=(15,15))",
   "execution_count": 38,
   "outputs": [
    {
     "output_type": "execute_result",
     "execution_count": 38,
     "data": {
      "text/plain": "<AxesSubplot:ylabel='State'>"
     },
     "metadata": {}
    },
    {
     "data": {
      "text/plain": "<Figure size 1080x1080 with 1 Axes>",
      "image/png": "[encoded data removed]"
     },
     "metadata": {
      "needs_background": "light",
      "image/png": {
       "width": 971,
       "height": 846
      }
     },
     "output_type": "display_data"
    }
   ]
  },
  {
   "cell_type": "markdown",
   "source": "Phase 2: Analyzing the Perpetrator (Sex, Age, Race, Ethnicity)\n\nSteps:\n1. Determine the count of the Perpetrator Sex\n2. Determine the count of the Perpetrator Age, and also analyze where the ages tend towards\n3. Determine the count of the Perpetrator Race\n4. Determine the count of the Perpetrator Ethnicity\n\nFindings:\n<li>At least from what is known, the number of Male perpetrators far exceed the number of Female perpetrators, with 8.22 males for every female</li>\n<li>More than half of all cases lies within the ages 18-29</li>\n<li>After this, the number of homicide cases steadily drops the older the age gets</li>\n<li>The only outlier here is the age of \"99\", where about as much homicides were committed at this age as at age \"88\"</li>\n<li>At least from what is known, the number of black perpetrators compared to white are almost equivalent, with a small margin of around 4000 between them. Asians and other ethnicities contribute a small proportion of the number of known perpetrators, with asians being as little as 2.8% the number of either blacks or whites, and other ethnicities even less so</li>",
   "metadata": {
    "cell_id": "00071-c2f58ced-4913-46fb-84d7-5325c20c200f",
    "deepnote_cell_type": "markdown",
    "deepnote_cell_height": 446.20001220703125
   }
  },
  {
   "cell_type": "code",
   "metadata": {
    "cell_id": "00072-c19f6ad6-ab7a-4533-9406-22d476d9b0eb",
    "deepnote_to_be_reexecuted": false,
    "source_hash": "d26755c2",
    "execution_start": 1657136561850,
    "execution_millis": 617,
    "deepnote_cell_type": "code",
    "deepnote_cell_height": 213.3000030517578,
    "deepnote_output_heights": [
     98
    ]
   },
   "source": "test_df = homrep_df_copy.groupby('Perpetrator Sex')\ntest_df['Perpetrator Sex'].count()",
   "execution_count": 39,
   "outputs": [
    {
     "output_type": "execute_result",
     "execution_count": 39,
     "data": {
      "text/plain": "Perpetrator Sex\nFemale      48548\nMale       399541\nUnknown    190365\nName: Perpetrator Sex, dtype: int64"
     },
     "metadata": {}
    }
   ]
  },
  {
   "cell_type": "code",
   "metadata": {
    "cell_id": "00073-55690f18-0c4f-4c08-8371-16d17980f5b0",
    "deepnote_to_be_reexecuted": false,
    "source_hash": "4f71deab",
    "execution_start": 1657136561993,
    "execution_millis": 35,
    "deepnote_cell_type": "code",
    "deepnote_cell_height": 744.2999877929688,
    "deepnote_output_heights": [
     611
    ]
   },
   "source": "test_df = homrep_df_copy.groupby('Perpetrator Age')\ntest_df['Perpetrator Age'].count().sort_values(ascending=False).head(50)\n#Sum = 638454",
   "execution_count": 40,
   "outputs": [
    {
     "output_type": "execute_result",
     "execution_count": 40,
     "data": {
      "text/plain": "Perpetrator Age\n20    31679\n21    29653\n22    29378\n19    28971\n23    28505\n25    28265\n24    27281\n18    25678\n26    25108\n27    23962\n28    22871\n30    21996\n29    21399\n31    18607\n17    18411\n32    18084\n33    16393\n34    15409\n35    15400\n36    13350\n37    12554\n16    11677\n38    11512\n39    10777\n40    10539\n41     9262\n42     8620\n43     7969\n44     7285\n45     6956\n15     6407\n46     5793\n47     5696\n48     5244\n49     4842\n50     4567\n51     3964\n52     3597\n53     3285\n54     2979\n14     2911\n55     2798\n56     2479\n57     2201\n58     2031\n59     1882\n60     1682\n61     1486\n62     1339\n13     1243\nName: Perpetrator Age, dtype: int64"
     },
     "metadata": {}
    }
   ]
  },
  {
   "cell_type": "code",
   "metadata": {
    "cell_id": "00074-b5c1eb40-e4b9-4950-b80f-c88964a0d5ce",
    "deepnote_to_be_reexecuted": false,
    "source_hash": "6583c19a",
    "execution_start": 1657136562034,
    "execution_millis": 438,
    "deepnote_cell_type": "code",
    "deepnote_cell_height": 136.3000030517578,
    "deepnote_output_heights": [
     21
    ]
   },
   "source": "test_df = homrep_df_copy[homrep_df_copy['Perpetrator Age'] >= 18].groupby('Perpetrator Age')\ntest_df['Perpetrator Age'].count().head(12).sum()",
   "execution_count": 41,
   "outputs": [
    {
     "output_type": "execute_result",
     "execution_count": 41,
     "data": {
      "text/plain": "322750"
     },
     "metadata": {}
    }
   ]
  },
  {
   "cell_type": "code",
   "metadata": {
    "cell_id": "00075-66416e3e-a5a2-4ee0-85b2-d6c1032463f6",
    "deepnote_to_be_reexecuted": false,
    "source_hash": "7336f606",
    "execution_start": 1657136562322,
    "execution_millis": 154,
    "deepnote_cell_type": "code",
    "deepnote_cell_height": 368.29998779296875,
    "deepnote_output_heights": [
     271
    ]
   },
   "source": "test_df['Perpetrator Age'].count().sort_values(ascending=False).head(12)",
   "execution_count": 42,
   "outputs": [
    {
     "output_type": "execute_result",
     "execution_count": 42,
     "data": {
      "text/plain": "Perpetrator Age\n20    31679\n21    29653\n22    29378\n19    28971\n23    28505\n25    28265\n24    27281\n18    25678\n26    25108\n27    23962\n28    22871\n30    21996\nName: Perpetrator Age, dtype: int64"
     },
     "metadata": {}
    }
   ]
  },
  {
   "cell_type": "code",
   "metadata": {
    "cell_id": "00076-48b5a9e4-761a-4823-8ca7-e1e1ca96f3f3",
    "deepnote_to_be_reexecuted": false,
    "source_hash": "8141a27e",
    "execution_start": 1657136562350,
    "execution_millis": 415,
    "deepnote_cell_type": "code",
    "deepnote_cell_height": 381.29998779296875,
    "deepnote_output_heights": [
     266
    ]
   },
   "source": "homrep_df_copy.hist(\"Perpetrator Age\", bins=30)\nplt.show()",
   "execution_count": 43,
   "outputs": [
    {
     "data": {
      "text/plain": "<Figure size 432x288 with 1 Axes>",
      "image/png": "[encoded data removed]"
     },
     "metadata": {
      "needs_background": "light",
      "image/png": {
       "width": 393,
       "height": 264
      }
     },
     "output_type": "display_data"
    }
   ]
  },
  {
   "cell_type": "code",
   "metadata": {
    "cell_id": "00077-f619fb9a-8aa0-4cfb-a820-cd7a831e2e00",
    "deepnote_to_be_reexecuted": false,
    "source_hash": "6c911056",
    "execution_start": 1657136562769,
    "execution_millis": 177,
    "deepnote_cell_type": "code",
    "deepnote_cell_height": 251.3000030517578,
    "deepnote_output_heights": [
     136
    ]
   },
   "source": "test_df = homrep_df_copy.groupby('Perpetrator Race')\ntest_df['Perpetrator Race'].count().sort_values()",
   "execution_count": 44,
   "outputs": [
    {
     "output_type": "execute_result",
     "execution_count": 44,
     "data": {
      "text/plain": "Perpetrator Race\nNative American/Alaska Native      3602\nAsian/Pacific Islander             6046\nUnknown                          196047\nBlack                            214516\nWhite                            218243\nName: Perpetrator Race, dtype: int64"
     },
     "metadata": {}
    }
   ]
  },
  {
   "cell_type": "code",
   "metadata": {
    "cell_id": "00078-2541c929-5208-4a37-894c-e49b23237009",
    "deepnote_to_be_reexecuted": false,
    "source_hash": "7a46cabf",
    "execution_start": 1657136562951,
    "execution_millis": 340,
    "deepnote_cell_type": "code",
    "deepnote_cell_height": 558.4000244140625,
    "deepnote_output_heights": [
     21,
     409
    ]
   },
   "source": "test_df['Perpetrator Race'].count().sort_values().plot(kind='bar')",
   "execution_count": 45,
   "outputs": [
    {
     "output_type": "execute_result",
     "execution_count": 45,
     "data": {
      "text/plain": "<AxesSubplot:xlabel='Perpetrator Race'>"
     },
     "metadata": {}
    },
    {
     "data": {
      "text/plain": "<Figure size 432x288 with 1 Axes>",
      "image/png": "[encoded data removed]"
     },
     "metadata": {
      "needs_background": "light",
      "image/png": {
       "width": 393,
       "height": 407
      }
     },
     "output_type": "display_data"
    }
   ]
  },
  {
   "cell_type": "code",
   "metadata": {
    "cell_id": "00079-5a9d0efc-6905-4984-a688-e909a2219253",
    "deepnote_to_be_reexecuted": false,
    "source_hash": "9c97d013",
    "execution_start": 1657136563294,
    "execution_millis": 137,
    "deepnote_cell_type": "code",
    "deepnote_cell_height": 213.3000030517578,
    "deepnote_output_heights": [
     98
    ]
   },
   "source": "test_df = homrep_df_copy.groupby('Perpetrator Ethnicity')\ntest_df['Perpetrator Ethnicity'].count()",
   "execution_count": 46,
   "outputs": [
    {
     "output_type": "execute_result",
     "execution_count": 46,
     "data": {
      "text/plain": "Perpetrator Ethnicity\nHispanic         46872\nNot Hispanic    145172\nUnknown         446410\nName: Perpetrator Ethnicity, dtype: int64"
     },
     "metadata": {}
    }
   ]
  },
  {
   "cell_type": "code",
   "metadata": {
    "cell_id": "00080-2e6fb70c-4d57-44a9-bfdf-bb0684179fe0",
    "deepnote_to_be_reexecuted": false,
    "source_hash": "220d46e",
    "execution_start": 1657136563433,
    "execution_millis": 197,
    "deepnote_cell_type": "code",
    "deepnote_cell_height": 443.29998779296875,
    "deepnote_output_heights": [
     328
    ]
   },
   "source": "test_df = homrep_df_copy.groupby(['Perpetrator Race','Perpetrator Ethnicity'])\ntest_df['Perpetrator Race'].count()",
   "execution_count": 47,
   "outputs": [
    {
     "output_type": "execute_result",
     "execution_count": 47,
     "data": {
      "text/plain": "Perpetrator Race               Perpetrator Ethnicity\nAsian/Pacific Islander         Hispanic                     48\n                               Not Hispanic               3316\n                               Unknown                    2682\nBlack                          Hispanic                    875\n                               Not Hispanic              75704\n                               Unknown                  137937\nNative American/Alaska Native  Hispanic                     17\n                               Not Hispanic               1542\n                               Unknown                    2043\nUnknown                        Hispanic                    165\n                               Not Hispanic                404\n                               Unknown                  195478\nWhite                          Hispanic                  45767\n                               Not Hispanic              64206\n                               Unknown                  108270\nName: Perpetrator Race, dtype: int64"
     },
     "metadata": {}
    }
   ]
  },
  {
   "cell_type": "code",
   "metadata": {
    "cell_id": "00081-fbf98532-f532-41ed-a23b-028e5f00d7a4",
    "deepnote_to_be_reexecuted": false,
    "source_hash": "d5398040",
    "execution_start": 1657136563627,
    "execution_millis": 312,
    "deepnote_cell_type": "code",
    "deepnote_cell_height": 726.2999877929688,
    "deepnote_output_heights": [
     611
    ]
   },
   "source": "test_df = homrep_df_copy.groupby(['Perpetrator Age','Perpetrator Race', 'Perpetrator Ethnicity', 'Perpetrator Sex'])\nhomrep_df_copy.groupby(['Perpetrator Age','Perpetrator Race', 'Perpetrator Ethnicity', 'Perpetrator Sex']).Weapon.count().sort_values(ascending=False).head(50)",
   "execution_count": 48,
   "outputs": [
    {
     "output_type": "execute_result",
     "execution_count": 48,
     "data": {
      "text/plain": "Perpetrator Age  Perpetrator Race  Perpetrator Ethnicity  Perpetrator Sex\n22               Unknown           Unknown                Unknown            9593\n24               Unknown           Unknown                Unknown            9565\n23               Unknown           Unknown                Unknown            9554\n25               Unknown           Unknown                Unknown            9530\n21               Unknown           Unknown                Unknown            9337\n26               Unknown           Unknown                Unknown            9068\n20               Unknown           Unknown                Unknown            8779\n27               Unknown           Unknown                Unknown            8601\n28               Unknown           Unknown                Unknown            8232\n20               Black             Unknown                Male               8182\n19               Black             Unknown                Male               7828\n29               Unknown           Unknown                Unknown            7800\n19               Unknown           Unknown                Unknown            7665\n30               Unknown           Unknown                Unknown            7371\n18               Black             Unknown                Male               7183\n21               Black             Unknown                Male               6935\n31               Unknown           Unknown                Unknown            6732\n22               Black             Unknown                Male               6380\n32               Unknown           Unknown                Unknown            6372\n18               Unknown           Unknown                Unknown            6061\n23               Black             Unknown                Male               5990\n33               Unknown           Unknown                Unknown            5663\n25               Black             Unknown                Male               5473\n17               Black             Unknown                Male               5443\n24               Black             Unknown                Male               5393\n34               Unknown           Unknown                Unknown            5304\n35               Unknown           Unknown                Unknown            4964\n26               Black             Unknown                Male               4454\n36               Unknown           Unknown                Unknown            4433\n27               Black             Unknown                Male               4206\n37               Unknown           Unknown                Unknown            4049\n20               Black             Not Hispanic           Male               3904\n28               Black             Unknown                Male               3853\n17               Unknown           Unknown                Unknown            3749\n20               White             Unknown                Male               3746\n38               Unknown           Unknown                Unknown            3648\n30               Black             Unknown                Male               3633\n29               Black             Unknown                Male               3575\n19               Black             Not Hispanic           Male               3555\n22               White             Unknown                Male               3509\n19               White             Unknown                Male               3478\n25               White             Unknown                Male               3439\n21               White             Unknown                Male               3436\n23               White             Unknown                Male               3418\n16               Black             Unknown                Male               3401\n21               Black             Not Hispanic           Male               3364\n39               Unknown           Unknown                Unknown            3340\n18               Black             Not Hispanic           Male               3317\n24               White             Unknown                Male               3316\n18               White             Unknown                Male               3240\nName: Weapon, dtype: int64"
     },
     "metadata": {}
    }
   ]
  },
  {
   "cell_type": "markdown",
   "source": "Phase 3: Analyzing the Victim (Sex, Age, Race, Ethnicity)\n\nSteps:\n1. Determine the count of the Victim Sex\n2. Determine the count of the Victim Age, and also analyze where the ages tend towards\n3. Determine the count of the Victim Race\n4. Determine the count of the Victim Ethnicity\n\nFindings:\n<li>The Sex of the Victim, this time, is far more known than that of the Perpetrator</li>\n<li>From what is known, much like in the perpetrators, the number of Male victims exceed that of Female victims. This time however, the ratio is much lower, at 3.44 males per female</li>\n<li>The age distribution of the Victims is similar to that of the Perpetrators, as it also follows the same pattern, although it is noticeably more distributed than that of the Perpetrators. \n<li>Black victims have a slightly less count than white victims, by a difference of about 17k. With that being said, they still hold an overwhelming majority compared to the other races</li>\n<li>Asians hold a slightly higher proportion of victims compared to blacks at 3.3%, and 3.1% for whites</li>",
   "metadata": {
    "cell_id": "00082-b22a2669-c5e0-4976-bcfe-146403e8dc3b",
    "deepnote_cell_type": "markdown",
    "deepnote_cell_height": 446.20001220703125
   }
  },
  {
   "cell_type": "code",
   "metadata": {
    "cell_id": "00083-6ed55891-d440-4f52-9b01-21d4f70834e8",
    "deepnote_to_be_reexecuted": false,
    "source_hash": "ad4ae4eb",
    "execution_start": 1657136563938,
    "execution_millis": 137,
    "deepnote_cell_type": "code",
    "deepnote_cell_height": 213.3000030517578,
    "deepnote_output_heights": [
     98
    ]
   },
   "source": "test_df = homrep_df_copy.groupby('Victim Sex')\ntest_df['Victim Sex'].count()",
   "execution_count": 49,
   "outputs": [
    {
     "output_type": "execute_result",
     "execution_count": 49,
     "data": {
      "text/plain": "Victim Sex\nFemale     143345\nMale       494125\nUnknown       984\nName: Victim Sex, dtype: int64"
     },
     "metadata": {}
    }
   ]
  },
  {
   "cell_type": "code",
   "metadata": {
    "cell_id": "00084-95658359-f9ee-42c9-b2e5-83099b519270",
    "deepnote_to_be_reexecuted": false,
    "source_hash": "7847ef97",
    "execution_start": 1657136564080,
    "execution_millis": 33,
    "deepnote_cell_type": "code",
    "deepnote_cell_height": 744.2999877929688,
    "deepnote_output_heights": [
     611
    ]
   },
   "source": "test_df = homrep_df_copy.groupby('Victim Age')\ntest_df['Victim Age'].count().sort_values(ascending=False).head(50)\n#Sum = 638454",
   "execution_count": 50,
   "outputs": [
    {
     "output_type": "execute_result",
     "execution_count": 50,
     "data": {
      "text/plain": "Victim Age\n22    23064\n20    23052\n25    22973\n21    22813\n23    22470\n19    21960\n24    21865\n26    20510\n27    19487\n30    18988\n18    18480\n28    18232\n29    18065\n32    15855\n31    15788\n33    14505\n35    14344\n34    14332\n17    14036\n36    12527\n37    11848\n38    11431\n40    11182\n39    10940\n42     9629\n41     9610\n16     9408\n99     9291\n43     8641\n0      8445\n45     8167\n44     7933\n46     7352\n47     6918\n48     6383\n50     6341\n49     6159\n15     5911\n1      5526\n51     5284\n52     5210\n53     4799\n54     4470\n55     4251\n56     3943\n2      3805\n57     3728\n14     3346\n58     3279\n59     3193\nName: Victim Age, dtype: int64"
     },
     "metadata": {}
    }
   ]
  },
  {
   "cell_type": "code",
   "metadata": {
    "cell_id": "00085-237288e4-5985-40e8-a9d1-162489d4c1c5",
    "deepnote_to_be_reexecuted": false,
    "source_hash": "65652e56",
    "execution_start": 1657136564114,
    "execution_millis": 22,
    "deepnote_cell_type": "code",
    "deepnote_cell_height": 136.3000030517578,
    "deepnote_output_heights": [
     21
    ]
   },
   "source": "test_df['Victim Age'].count().sort_values(ascending=False).head(12).sum()\n#Sum = 638454",
   "execution_count": 51,
   "outputs": [
    {
     "output_type": "execute_result",
     "execution_count": 51,
     "data": {
      "text/plain": "253894"
     },
     "metadata": {}
    }
   ]
  },
  {
   "cell_type": "code",
   "metadata": {
    "cell_id": "00086-c1e743c1-1c96-452c-83eb-0d6373d4d4db",
    "deepnote_to_be_reexecuted": false,
    "source_hash": "6dbc3190",
    "execution_start": 1657136564139,
    "execution_millis": 1047,
    "deepnote_cell_type": "code",
    "deepnote_cell_height": 381.29998779296875,
    "deepnote_output_heights": [
     266
    ]
   },
   "source": "homrep_df_copy.hist(\"Victim Age\", bins=30)\nplt.show()",
   "execution_count": 52,
   "outputs": [
    {
     "data": {
      "text/plain": "<Figure size 432x288 with 1 Axes>",
      "image/png": "[encoded data removed]"
     },
     "metadata": {
      "needs_background": "light",
      "image/png": {
       "width": 387,
       "height": 264
      }
     },
     "output_type": "display_data"
    }
   ]
  },
  {
   "cell_type": "code",
   "metadata": {
    "cell_id": "00087-3d4ff694-1bcc-4ddc-9106-7bf07e4d661d",
    "deepnote_to_be_reexecuted": false,
    "source_hash": "8fb36fa0",
    "execution_start": 1657136564523,
    "execution_millis": 666,
    "deepnote_cell_type": "code",
    "deepnote_cell_height": 251.3000030517578,
    "deepnote_output_heights": [
     136
    ]
   },
   "source": "test_df = homrep_df_copy.groupby('Victim Race')\ntest_df['Victim Race'].count().sort_values(ascending=False)",
   "execution_count": 53,
   "outputs": [
    {
     "output_type": "execute_result",
     "execution_count": 53,
     "data": {
      "text/plain": "Victim Race\nWhite                            317422\nBlack                            299899\nAsian/Pacific Islander             9890\nUnknown                            6676\nNative American/Alaska Native      4567\nName: Victim Race, dtype: int64"
     },
     "metadata": {}
    }
   ]
  },
  {
   "cell_type": "code",
   "metadata": {
    "cell_id": "00088-df4a22c8-823c-4e04-86b5-665489f47d16",
    "deepnote_to_be_reexecuted": false,
    "source_hash": "ed590fe1",
    "execution_start": 1657136564639,
    "execution_millis": 572,
    "deepnote_cell_type": "code",
    "deepnote_cell_height": 558.4000244140625,
    "deepnote_output_heights": [
     21,
     409
    ]
   },
   "source": "test_df['Victim Race'].count().sort_values().plot(kind=\"bar\")",
   "execution_count": 54,
   "outputs": [
    {
     "output_type": "execute_result",
     "execution_count": 54,
     "data": {
      "text/plain": "<AxesSubplot:xlabel='Victim Race'>"
     },
     "metadata": {}
    },
    {
     "data": {
      "text/plain": "<Figure size 432x288 with 1 Axes>",
      "image/png": "[encoded data removed]"
     },
     "metadata": {
      "needs_background": "light",
      "image/png": {
       "width": 393,
       "height": 407
      }
     },
     "output_type": "display_data"
    }
   ]
  },
  {
   "cell_type": "code",
   "metadata": {
    "cell_id": "00089-7fee67ae-e925-4b44-af83-e1ba9382e7c8",
    "deepnote_to_be_reexecuted": false,
    "source_hash": "f7fa21ad",
    "execution_start": 1657136565078,
    "execution_millis": 143,
    "deepnote_cell_type": "code",
    "deepnote_cell_height": 213.3000030517578,
    "deepnote_output_heights": [
     98
    ]
   },
   "source": "test_df = homrep_df_copy.groupby('Victim Ethnicity')\ntest_df['Victim Ethnicity'].count().sort_values(ascending=False)",
   "execution_count": 55,
   "outputs": [
    {
     "output_type": "execute_result",
     "execution_count": 55,
     "data": {
      "text/plain": "Victim Ethnicity\nUnknown         368303\nNot Hispanic    197499\nHispanic         72652\nName: Victim Ethnicity, dtype: int64"
     },
     "metadata": {}
    }
   ]
  },
  {
   "cell_type": "code",
   "metadata": {
    "cell_id": "00090-3c99a60d-e9fe-4577-99dd-8d40cd252690",
    "deepnote_to_be_reexecuted": false,
    "source_hash": "54e2538b",
    "execution_start": 1657136565220,
    "execution_millis": 182,
    "deepnote_cell_type": "code",
    "deepnote_cell_height": 443.29998779296875,
    "deepnote_output_heights": [
     328
    ]
   },
   "source": "test_df = homrep_df_copy.groupby(['Victim Ethnicity','Victim Race'])\ntest_df['Victim Ethnicity'].count()",
   "execution_count": 56,
   "outputs": [
    {
     "output_type": "execute_result",
     "execution_count": 56,
     "data": {
      "text/plain": "Victim Ethnicity  Victim Race                  \nHispanic          Asian/Pacific Islander               52\n                  Black                              1213\n                  Native American/Alaska Native        11\n                  Unknown                             177\n                  White                             71199\nNot Hispanic      Asian/Pacific Islander             5568\n                  Black                            100973\n                  Native American/Alaska Native      2010\n                  Unknown                             170\n                  White                             88778\nUnknown           Asian/Pacific Islander             4270\n                  Black                            197713\n                  Native American/Alaska Native      2546\n                  Unknown                            6329\n                  White                            157445\nName: Victim Ethnicity, dtype: int64"
     },
     "metadata": {}
    }
   ]
  },
  {
   "cell_type": "code",
   "metadata": {
    "cell_id": "00091-e9dec3ff-6bef-404f-adee-fabf69c4a65b",
    "deepnote_to_be_reexecuted": false,
    "source_hash": "85285fd7",
    "execution_start": 1657136565406,
    "execution_millis": 236,
    "deepnote_cell_type": "code",
    "deepnote_cell_height": 443.29998779296875,
    "deepnote_output_heights": [
     328
    ]
   },
   "source": "test_df = homrep_df_copy.groupby(['Victim Race','Victim Ethnicity'])\ntest_df['Victim Race'].count()",
   "execution_count": 57,
   "outputs": [
    {
     "output_type": "execute_result",
     "execution_count": 57,
     "data": {
      "text/plain": "Victim Race                    Victim Ethnicity\nAsian/Pacific Islander         Hispanic                52\n                               Not Hispanic          5568\n                               Unknown               4270\nBlack                          Hispanic              1213\n                               Not Hispanic        100973\n                               Unknown             197713\nNative American/Alaska Native  Hispanic                11\n                               Not Hispanic          2010\n                               Unknown               2546\nUnknown                        Hispanic               177\n                               Not Hispanic           170\n                               Unknown               6329\nWhite                          Hispanic             71199\n                               Not Hispanic         88778\n                               Unknown             157445\nName: Victim Race, dtype: int64"
     },
     "metadata": {}
    }
   ]
  },
  {
   "cell_type": "markdown",
   "source": "Phase 4: Analyzing the \"Year\" Variable against the Total Cases\n\nSteps:\n1. Determine the total number of homicide cases per year. While at it, determine which years have the highest counts\n2. Convert findings in step 1 into graph to visualize\n3. Group the years into groups of 5 to gain a better understanding of how the number of cases fluctuates per time period\n\nFindings:\n<li>The years between 1990 and 1994 contain the highest amount of homicide cases compared to the rest of the year groups</li>\n<li>When analyzing the means, the amount of cases rose sharply between 1990-1994, but then dropped even more sharply within the next 5 years</li>\n<li>The amount of homicide cases remained relatively low and steady between 2000-2014, as referenced by its low means and standard deviation compared to the other year groups</li>\n<li>Judging from the graph, the tally per year, and the fluctuation of the mean cases per 5 years, there is considerable reason to believe that homicide cases are in fact decreasing over the years, however this decrease is fluctuatory as cases will rise in a certain set of years then drop lowwer than it was previously afterwards</li>",
   "metadata": {
    "cell_id": "00092-748b9162-43d6-4cc1-bf43-5cbd480b9ec9",
    "deepnote_cell_type": "markdown",
    "deepnote_cell_height": 417.79998779296875
   }
  },
  {
   "cell_type": "code",
   "metadata": {
    "cell_id": "00093-b0b5b291-9bc5-4252-8537-982b33106889",
    "deepnote_to_be_reexecuted": false,
    "source_hash": "7e2feeb5",
    "execution_start": 1657136565629,
    "execution_millis": 23,
    "deepnote_cell_type": "code",
    "deepnote_cell_height": 726.2999877929688,
    "deepnote_output_heights": [
     611
    ]
   },
   "source": "test_df = homrep_df_copy.groupby('Year')\ntest_df['Year'].count().sort_values(ascending=False)",
   "execution_count": 58,
   "outputs": [
    {
     "output_type": "execute_result",
     "execution_count": 58,
     "data": {
      "text/plain": "Year\n1993    24335\n1992    23793\n1994    23246\n1980    23092\n1991    22657\n1990    21246\n1981    21208\n1995    21179\n1982    20544\n1986    20125\n1989    19868\n1983    19653\n1996    18969\n1987    18783\n1988    18779\n1985    18386\n1984    18093\n1997    17794\n2007    17303\n2006    17275\n2005    16836\n2003    16512\n2002    16268\n2004    16233\n1998    16061\n2009    15840\n2001    15803\n2008    15595\n2010    15121\n2012    15033\n2011    14756\n2000    14671\n1999    14621\n2013    14445\n2014    14331\nName: Year, dtype: int64"
     },
     "metadata": {}
    }
   ]
  },
  {
   "cell_type": "markdown",
   "source": "## Web Scraping (Total number of murders from 1960 - 2009 in the US)\nThe table below shows total number of recorded murders each year from 1960 - 2009. The data was gathered from ``disastercenter.com``. Using **``BeautifulSoup``** we conducted web scraping to for us to be able to validate if the homicide reports from the dataset are accurate given the number of murders per year in the US",
   "metadata": {
    "cell_id": "2ec40bbd157d4a4aaca5ded704bb56b4",
    "tags": [],
    "owner_user_id": "c183bcea-19e5-48c6-84e0-3d1d4e0a0624",
    "deepnote_cell_type": "markdown",
    "deepnote_cell_height": 193.39999389648438
   }
  },
  {
   "cell_type": "code",
   "source": "\nimport requests\nfrom bs4 import BeautifulSoup\nurl_template = 'https://www.disastercenter.com/crime/uscrime.htm'\nr = requests.get(url_template)\nsoup = BeautifulSoup(r.content, \"html.parser\")\n\n\nfor x in range(7, 67, 1):\n    value3 = soup.find_all('tr')[x].find_all('td')[5]\n    year = soup.find_all('tr')[x].find_all('td')[0]\n    print(year.text + \" \" + value3.text)\n",
   "metadata": {
    "cell_id": "67ab135ebdd948578e1c30d398313638",
    "tags": [],
    "deepnote_to_be_reexecuted": false,
    "source_hash": "6caf4174",
    "execution_start": 1657136565655,
    "execution_millis": 1280,
    "deepnote_cell_type": "code",
    "deepnote_cell_height": 917.2999877929688
   },
   "outputs": [
    {
     "name": "stdout",
     "text": "Year  Murder \n1960  9,110 \n1961  8,740 \n1962  8,530 \n1963  8,640 \n1964  9,360 \n1965  9,960 \n1966  11,040 \n1967  12,240 \n1968  13,800 \n1969  14,760 \n\n \n\nYear  Murder \n1970  16,000 \n1971  17,780 \n1972  18,670 \n1973  19,640 \n1974  20,710 \n1975  20,510 \n1976  18,780 \n1977  19,120 \n1978  19,560 \n1979  21,460 \n\n \n\nYear  Murder \n1980  23,040 \n1981  22,520 \n1982  21,010 \n1983  19,310 \n1984  18,690 \n1985  18,980 \n1986  20,613 \n1987  20,096 \n1988  20,680 \n1989  21,500 \n\n \n\nYear  Murder \n1990  23,440 \n1991  24,700 \n1992  23,760 \n1993  24,530 \n1994  23,330 \n1995  21,610 \n1996  19,650 \n1997  18,208 \n1998  16,914 \n1999  15,522 \n\n \n\nYear  Murder \n2000  15,586 \n2001  16,037 \n2002  16,229 \n2003  16,528 \n2004  16,148 \n2005  16,740 \n2006  17,030 \n2007  16,929 \n2008  16,442 \n2009  15,399 \n\n \n\n",
     "output_type": "stream"
    }
   ],
   "execution_count": 59
  },
  {
   "cell_type": "code",
   "metadata": {
    "cell_id": "00094-44cbd284-0237-47ef-8efe-b4039e1980d0",
    "deepnote_to_be_reexecuted": false,
    "source_hash": "979b82a",
    "execution_start": 1657136566999,
    "execution_millis": 1180,
    "deepnote_cell_type": "code",
    "deepnote_cell_height": 818.4000244140625,
    "deepnote_output_heights": [
     21,
     597
    ]
   },
   "source": "graph_df = homrep_df_copy.groupby('Year')['Year'].count()\ngraph_df.plot.bar(figsize=(15,10))\nplt.xlabel('Year')\nplt.ylabel('Homicide Count')\nplt.title('Homicide Count Per Year')",
   "execution_count": 60,
   "outputs": [
    {
     "output_type": "execute_result",
     "execution_count": 60,
     "data": {
      "text/plain": "Text(0.5, 1.0, 'Homicide Count Per Year')"
     },
     "metadata": {}
    },
    {
     "data": {
      "text/plain": "<Figure size 1080x720 with 1 Axes>",
      "image/png": "[encoded data removed]"
     },
     "metadata": {
      "needs_background": "light",
      "image/png": {
       "width": 903,
       "height": 620
      }
     },
     "output_type": "display_data"
    }
   ]
  },
  {
   "cell_type": "code",
   "metadata": {
    "cell_id": "00095-7262be9d-b467-4c2f-8518-9fbbe3c31c02",
    "deepnote_to_be_reexecuted": false,
    "source_hash": "844198b9",
    "execution_start": 1657136567637,
    "execution_millis": 564,
    "deepnote_cell_type": "code",
    "deepnote_cell_height": 208.3000030517578,
    "deepnote_output_heights": [
     21
    ]
   },
   "source": "test_df = homrep_df_copy[(homrep_df_copy['Year'] >= 1980) & (homrep_df_copy['Year'] <= 1984)]\ntest_df.groupby('Year')['Year'].count().mean()\n#20518.0\n\ntest_df.groupby('Year')['Year'].count().std()\n#1852.775080790974",
   "execution_count": 61,
   "outputs": [
    {
     "output_type": "execute_result",
     "execution_count": 61,
     "data": {
      "text/plain": "1852.775080790974"
     },
     "metadata": {}
    }
   ]
  },
  {
   "cell_type": "code",
   "metadata": {
    "cell_id": "00096-25a3010c-eacd-4028-8afc-8a6a1a5ee391",
    "deepnote_to_be_reexecuted": false,
    "source_hash": "4a075278",
    "execution_start": 1657136567638,
    "execution_millis": 565,
    "deepnote_cell_type": "code",
    "deepnote_cell_height": 208.3000030517578,
    "deepnote_output_heights": [
     21
    ]
   },
   "source": "test_df = homrep_df_copy[(homrep_df_copy['Year'] >= 1984) & (homrep_df_copy['Year'] <= 1989)]\ntest_df.groupby('Year')['Year'].count().mean()\n#19005.666666666668\n\ntest_df.groupby('Year')['Year'].count().std()\n#814.1782769557701",
   "execution_count": 62,
   "outputs": [
    {
     "output_type": "execute_result",
     "execution_count": 62,
     "data": {
      "text/plain": "814.1782769557701"
     },
     "metadata": {}
    }
   ]
  },
  {
   "cell_type": "code",
   "metadata": {
    "cell_id": "00097-fe9782f8-ea86-40eb-bf4a-28da74d867be",
    "deepnote_to_be_reexecuted": false,
    "source_hash": "e41879af",
    "execution_start": 1657136567685,
    "execution_millis": 523,
    "deepnote_cell_type": "code",
    "deepnote_cell_height": 208.3000030517578,
    "deepnote_output_heights": [
     21
    ]
   },
   "source": "test_df = homrep_df_copy[(homrep_df_copy['Year'] >= 1990) & (homrep_df_copy['Year'] <= 1994)]\ntest_df.groupby('Year')['Year'].count().mean()\n#23055.4\n\ntest_df.groupby('Year')['Year'].count().std()\n#1188.52946955471",
   "execution_count": 63,
   "outputs": [
    {
     "output_type": "execute_result",
     "execution_count": 63,
     "data": {
      "text/plain": "1188.52946955471"
     },
     "metadata": {}
    }
   ]
  },
  {
   "cell_type": "code",
   "metadata": {
    "cell_id": "00098-cc7000ac-333d-49f1-87fe-cc70168789cd",
    "deepnote_to_be_reexecuted": false,
    "source_hash": "f7f83aca",
    "execution_start": 1657136567736,
    "execution_millis": 480,
    "deepnote_cell_type": "code",
    "deepnote_cell_height": 208.3000030517578,
    "deepnote_output_heights": [
     21
    ]
   },
   "source": "test_df = homrep_df_copy[(homrep_df_copy['Year'] >= 1995) & (homrep_df_copy['Year'] <= 1999)]\ntest_df.groupby('Year')['Year'].count().mean()\n#17724.8\n\ntest_df.groupby('Year')['Year'].count().std()\n#2543.9204390074783",
   "execution_count": 64,
   "outputs": [
    {
     "output_type": "execute_result",
     "execution_count": 64,
     "data": {
      "text/plain": "2543.9204390074783"
     },
     "metadata": {}
    }
   ]
  },
  {
   "cell_type": "code",
   "metadata": {
    "cell_id": "00099-42e6aef3-b6bb-45ba-a4ee-bfdefcc92c53",
    "deepnote_to_be_reexecuted": false,
    "source_hash": "8c36ba92",
    "execution_start": 1657136567782,
    "execution_millis": 443,
    "deepnote_cell_type": "code",
    "deepnote_cell_height": 208.3000030517578,
    "deepnote_output_heights": [
     21
    ]
   },
   "source": "test_df = homrep_df_copy[(homrep_df_copy['Year'] >= 2000) & (homrep_df_copy['Year'] <= 2004)]\ntest_df.groupby('Year')['Year'].count().mean()\n#15897.4\n\ntest_df.groupby('Year')['Year'].count().std()\n#731.5519803814353",
   "execution_count": 65,
   "outputs": [
    {
     "output_type": "execute_result",
     "execution_count": 65,
     "data": {
      "text/plain": "731.5519803814353"
     },
     "metadata": {}
    }
   ]
  },
  {
   "cell_type": "code",
   "metadata": {
    "cell_id": "00100-02af4f6e-69ee-4ba4-8732-921f5ff9a41d",
    "deepnote_to_be_reexecuted": false,
    "source_hash": "6b12a40a",
    "execution_start": 1657136567826,
    "execution_millis": 409,
    "deepnote_cell_type": "code",
    "deepnote_cell_height": 208.3000030517578,
    "deepnote_output_heights": [
     21
    ]
   },
   "source": "test_df = homrep_df_copy[(homrep_df_copy['Year'] >= 2005) & (homrep_df_copy['Year'] <= 2009)]\ntest_df.groupby('Year')['Year'].count().mean()\n#16569.8\n\ntest_df.groupby('Year')['Year'].count().std()\n#804.4555301568882",
   "execution_count": 66,
   "outputs": [
    {
     "output_type": "execute_result",
     "execution_count": 66,
     "data": {
      "text/plain": "804.4555301568882"
     },
     "metadata": {}
    }
   ]
  },
  {
   "cell_type": "code",
   "metadata": {
    "cell_id": "00101-0f1efa21-8338-4864-a973-a08a131ad98b",
    "deepnote_to_be_reexecuted": false,
    "source_hash": "19fe832c",
    "execution_start": 1657136567871,
    "execution_millis": 372,
    "deepnote_cell_type": "code",
    "deepnote_cell_height": 208.3000030517578,
    "deepnote_output_heights": [
     21
    ]
   },
   "source": "test_df = homrep_df_copy[(homrep_df_copy['Year'] >= 2010) & (homrep_df_copy['Year'] <= 2014)]\ntest_df.groupby('Year')['Year'].count().mean()\n#14737.2\n\ntest_df.groupby('Year')['Year'].count().std()\n#348.4009184832899",
   "execution_count": 67,
   "outputs": [
    {
     "output_type": "execute_result",
     "execution_count": 67,
     "data": {
      "text/plain": "348.4009184832899"
     },
     "metadata": {}
    }
   ]
  },
  {
   "cell_type": "code",
   "metadata": {
    "cell_id": "00102-75127d2f-e590-4088-ae97-154cd00e165a",
    "deepnote_to_be_reexecuted": false,
    "source_hash": "e2c176d1",
    "execution_start": 1657136567950,
    "execution_millis": 294,
    "deepnote_cell_type": "code",
    "deepnote_cell_height": 208.3000030517578,
    "deepnote_output_heights": [
     21
    ]
   },
   "source": "test_df = homrep_df_copy\ntest_df.groupby('Year')['Year'].count().mean()\n#18241.542857142857\n\ntest_df.groupby('Year')['Year'].count().std()\n#2986.4466525292833",
   "execution_count": 68,
   "outputs": [
    {
     "output_type": "execute_result",
     "execution_count": 68,
     "data": {
      "text/plain": "2986.4466525292833"
     },
     "metadata": {}
    }
   ]
  },
  {
   "cell_type": "markdown",
   "source": "Phase 5: Analyzing the \"Crime Type\" and \"Weapon\" Variable against the Total Cases\n\nSteps:\n1. Determine the different values for both the Crime Type and the Weapon\n2. Determine the total number cases each Crime Type is involved in\n3. Plot down the findings into a graph for visualization\n4. Repeat steps 2 and 3 for the Weapon\n\nFindings:\n<li>An overwhelming number of all homicide cases (98.57%) have been a case of murder or manslaughter, whereas the rest (1.43) have been a manslaughter by negligence </li>\n<li>Almost half of all homicide cases (49.72%) have involved a handgun, and almost 2/3 (64.6%) have involved either a gun or a knife</li>",
   "metadata": {
    "cell_id": "00103-4141e83e-2437-4490-9886-919fb636a78a",
    "deepnote_cell_type": "markdown",
    "deepnote_cell_height": 325.20001220703125
   }
  },
  {
   "cell_type": "code",
   "metadata": {
    "cell_id": "00104-e73dc74b-2192-4dcf-9362-fe284f7dfbc9",
    "deepnote_to_be_reexecuted": false,
    "source_hash": "243bb7f6",
    "execution_start": 1657136568003,
    "execution_millis": 241,
    "deepnote_cell_type": "code",
    "deepnote_cell_height": 137.3000030517578,
    "deepnote_output_heights": [
     40
    ]
   },
   "source": "homrep_df_copy['Crime Type'].unique()",
   "execution_count": 69,
   "outputs": [
    {
     "output_type": "execute_result",
     "execution_count": 69,
     "data": {
      "text/plain": "array(['Murder or Manslaughter', 'Manslaughter by Negligence'],\n      dtype=object)"
     },
     "metadata": {}
    }
   ]
  },
  {
   "cell_type": "code",
   "metadata": {
    "cell_id": "00105-cdb0626e-5b5c-46aa-87e5-d4534dee665b",
    "deepnote_to_be_reexecuted": false,
    "source_hash": "497d1507",
    "execution_start": 1657136568083,
    "execution_millis": 162,
    "deepnote_cell_type": "code",
    "deepnote_cell_height": 157.3000030517578,
    "deepnote_output_heights": [
     60
    ]
   },
   "source": "homrep_df_copy['Weapon'].unique()",
   "execution_count": 70,
   "outputs": [
    {
     "output_type": "execute_result",
     "execution_count": 70,
     "data": {
      "text/plain": "array(['Blunt Object', 'Strangulation', 'Unknown', 'Rifle', 'Knife',\n       'Firearm', 'Shotgun', 'Fall', 'Handgun', 'Drowning', 'Suffocation',\n       'Explosives', 'Fire', 'Drugs', 'Gun', 'Poison'], dtype=object)"
     },
     "metadata": {}
    }
   ]
  },
  {
   "cell_type": "code",
   "metadata": {
    "cell_id": "00106-ca68ea06-fcf8-487f-8d12-06981db70496",
    "deepnote_to_be_reexecuted": false,
    "source_hash": "da4508fc",
    "execution_start": 1657136568173,
    "execution_millis": 158,
    "deepnote_cell_type": "code",
    "deepnote_cell_height": 194.3000030517578,
    "deepnote_output_heights": [
     79
    ]
   },
   "source": "test_df = homrep_df_copy.groupby('Crime Type')\ntest_df['Crime Type'].count()",
   "execution_count": 71,
   "outputs": [
    {
     "output_type": "execute_result",
     "execution_count": 71,
     "data": {
      "text/plain": "Crime Type\nManslaughter by Negligence      9116\nMurder or Manslaughter        629338\nName: Crime Type, dtype: int64"
     },
     "metadata": {}
    }
   ]
  },
  {
   "cell_type": "code",
   "metadata": {
    "cell_id": "00107-c3b5545c-fe33-4fb5-b6fe-7e19feccf9a5",
    "deepnote_to_be_reexecuted": false,
    "source_hash": "30bee78",
    "execution_start": 1657136568335,
    "execution_millis": 284,
    "deepnote_cell_type": "code",
    "deepnote_cell_height": 399.3999938964844,
    "deepnote_output_heights": [
     21,
     250
    ]
   },
   "source": "test_df['Crime Type'].count().plot(kind=\"barh\")",
   "execution_count": 72,
   "outputs": [
    {
     "output_type": "execute_result",
     "execution_count": 72,
     "data": {
      "text/plain": "<AxesSubplot:ylabel='Crime Type'>"
     },
     "metadata": {}
    },
    {
     "data": {
      "text/plain": "<Figure size 432x288 with 1 Axes>",
      "image/png": "[encoded data removed]"
     },
     "metadata": {
      "needs_background": "light",
      "image/png": {
       "width": 513,
       "height": 248
      }
     },
     "output_type": "display_data"
    }
   ]
  },
  {
   "cell_type": "code",
   "metadata": {
    "cell_id": "00108-153cb5d5-2f82-4974-b7b1-bbf9b7a0e4e3",
    "deepnote_to_be_reexecuted": false,
    "source_hash": "ad1ee05b",
    "execution_start": 1657136568617,
    "execution_millis": 114,
    "deepnote_cell_type": "code",
    "deepnote_cell_height": 463.29998779296875,
    "deepnote_output_heights": [
     348
    ]
   },
   "source": "test_df = homrep_df_copy.groupby('Weapon')\ntest_df['Weapon'].count().sort_values(ascending=False)",
   "execution_count": 73,
   "outputs": [
    {
     "output_type": "execute_result",
     "execution_count": 73,
     "data": {
      "text/plain": "Weapon\nHandgun          317484\nKnife             94962\nBlunt Object      67337\nFirearm           46980\nUnknown           33192\nShotgun           30722\nRifle             23347\nStrangulation      8110\nFire               6173\nSuffocation        3968\nGun                2206\nDrugs              1588\nDrowning           1204\nExplosives          537\nPoison              454\nFall                190\nName: Weapon, dtype: int64"
     },
     "metadata": {}
    }
   ]
  },
  {
   "cell_type": "code",
   "metadata": {
    "cell_id": "00109-6db6f0e1-f751-4e89-a10e-7209f5ccb0ad",
    "deepnote_to_be_reexecuted": false,
    "source_hash": "9364f7ec",
    "execution_start": 1657136568908,
    "execution_millis": 370,
    "deepnote_cell_type": "code",
    "deepnote_cell_height": 753.4000244140625,
    "deepnote_output_heights": [
     21,
     604
    ]
   },
   "source": "test_df['Weapon'].count().sort_values().plot(kind=\"barh\", figsize=(20,15))",
   "execution_count": 74,
   "outputs": [
    {
     "output_type": "execute_result",
     "execution_count": 74,
     "data": {
      "text/plain": "<AxesSubplot:ylabel='Weapon'>"
     },
     "metadata": {}
    },
    {
     "data": {
      "text/plain": "<Figure size 1440x1080 with 1 Axes>",
      "image/png": "[encoded data removed]"
     },
     "metadata": {
      "needs_background": "light",
      "image/png": {
       "width": 1219,
       "height": 846
      }
     },
     "output_type": "display_data"
    }
   ]
  },
  {
   "cell_type": "markdown",
   "source": "Phase 6: Determining if there is a change in demographics of the perpetrator throughout the years\n\nSteps:\n1. Check the fluctuation of homicide cases per Perpetrator Race (including unknown) throughout the years from 1980-2014. This can be done best using a line graph containing all the races.\n2. Repeat Step 1 but this time for Perpetrator Ethnicity. The \"unknown\" variable will have to be included again to likewise achieve a better representation.\n3. Determine the fluctuation of the mean age throughout the years from 1980-2014 using a bar graph. To gain more insight, the years will be parsed into groups of 5 years and to determine the number of homicide cases per Perpetrator Age for each Year group. \n4. Check the fluctuation of the Perpetrator Sex. This can be done best using a simple line graph showing both Male and Female changes.\n\nFindings:\n<li>The demographics of the homicide cases from 1980-2014 have been almost entirely consistent, with whites, blacks, and unknowns taking up the bulk of the homicide cases (in that order) and asians and amerindians taking up the rest. However, between 1990-1994, there was a sharp increase in homicide cases by Blacks and Unknowns, which makes them mostly responsible for the huge upstick in cases at around this time.</li>\n<li>It is also worth mentioning that cases committed by Amerindians have experienced almost 0 growth, and those committed by asians have fluctuated but have remained relatively at the same levels.\n<li>At least from what little is known, the number of non-hispanic perpetrators far exceeded that of hispanic ones. However, that number has decreased sharply until 1987, giving it the appearance that the proportion between hispanics and non-hispanics differs only relatively slightly.</li>\n<li>The mean age for 1980 started at 30.82, with a slight increase until31.52 by 1984. From that point, however, it steadily declined until it bottomed out at 28.19 in 1994. But from that point, it just kept on increasing until it hit a peak of 32.35 in 2014, higher than what it was at any given point in the 1980s.</li>\n<li>The shift in mean age throughout the years, however, may have been because of the rise of cases in peak years, and the decrease of cases in drop years, particularly at ages 18-23</li>\n<li>The cases of female perpetrators has been on a steady decline from 1980 to 2014. For male perpetrators, however, the number of cases fluctuates regularly, but generally there was large uptick from 1990-1994, before dropping until 2000, where it remained fluctuatorily at that level until 2014.</li>",
   "metadata": {
    "cell_id": "00110-13b18910-7f4f-42ff-89fc-f4c6b35fa8b6",
    "deepnote_cell_type": "markdown",
    "deepnote_cell_height": 762.7999877929688
   }
  },
  {
   "cell_type": "code",
   "metadata": {
    "cell_id": "00111-b77291e7-7dc2-45fc-bb97-757de2e74f89",
    "deepnote_to_be_reexecuted": false,
    "source_hash": "c2ba19af",
    "execution_start": 1657136569275,
    "execution_millis": 1027,
    "deepnote_cell_type": "code",
    "deepnote_cell_height": 1390.4000244140625,
    "deepnote_output_heights": [
     21,
     611
    ]
   },
   "source": "df = homrep_df_copy\n\nfig = plt.figure(figsize = (30,30))\n\np = fig.add_subplot(231)\n\nc1 = df[df['Perpetrator Race'] == 'White'].groupby('Year').Weapon.count()\nplt.plot(c1, color = 'green', label = 'White')\np.set_ylim(0, 9000)\np.set_xlim(1980,2014)\n\nc2 = df[df['Perpetrator Race'] == 'Black'].groupby('Year').Weapon.count()\nplt.plot(c2, color = 'red', label = 'Black')\np.set_ylim(0, 9000)\np.set_xlim(1980,2014)\n\nc3 = df[df['Perpetrator Race'] == 'Asian/Pacific Islander'].groupby('Year').Weapon.count()\nplt.plot(c3, color = 'orange', label = 'Asian/Pacific Islander')\np.set_ylim(0, 9000)\np.set_xlim(1980,2014)\n\nc4 = df[df['Perpetrator Race'] == 'Native American/Alaska Native'].groupby('Year').Weapon.count()\nplt.plot(c4, color = 'blue', label = 'Native American/Alaska Native')\np.set_ylim(0, 9000)\np.set_xlim(1980,2014)\n\nc5 = df[df['Perpetrator Race'] == 'Unknown'].groupby('Year').Weapon.count()\nplt.plot(c5, color = 'yellow', label = 'Unknown')\np.set_ylim(0, 9000)\np.set_xlim(1980,2014)\n\np.set_xlabel('Year')\np.set_ylabel('Total Homicide Cases')\np.set_title('Total Homicide Cases Per Year', fontsize = 8)\n\np.legend(loc = \"upper left\")",
   "execution_count": 75,
   "outputs": [
    {
     "output_type": "execute_result",
     "execution_count": 75,
     "data": {
      "text/plain": "<matplotlib.legend.Legend at 0x7fd67bacdcd0>"
     },
     "metadata": {}
    },
    {
     "data": {
      "text/plain": "<Figure size 2160x2160 with 1 Axes>",
      "image/png": "[encoded data removed]"
     },
     "metadata": {
      "needs_background": "light",
      "image/png": {
       "width": 552,
       "height": 799
      }
     },
     "output_type": "display_data"
    }
   ]
  },
  {
   "cell_type": "code",
   "metadata": {
    "cell_id": "00112-12315490-7d35-4373-a5f6-3fcffab01935",
    "deepnote_to_be_reexecuted": false,
    "source_hash": "bb55e531",
    "execution_start": 1657136570322,
    "execution_millis": 904,
    "deepnote_cell_type": "code",
    "deepnote_cell_height": 1210.4000244140625,
    "deepnote_output_heights": [
     21,
     611
    ]
   },
   "source": "df = homrep_df_copy\n\nfig = plt.figure(figsize = (30,30))\n\np = fig.add_subplot(231)\n\nc1 = df[df['Perpetrator Ethnicity'] == 'Not Hispanic'].groupby('Year').Weapon.count()\nplt.plot(c1, color = 'green', label = 'Not Hispanic')\np.set_ylim(0, 20000)\np.set_xlim(1980,2014)\n\nc2 = df[df['Perpetrator Ethnicity'] == 'Hispanic'].groupby('Year').Weapon.count()\nplt.plot(c2, color = 'red', label = 'Hispanic')\np.set_ylim(0, 20000)\np.set_xlim(1980,2014)\n\nc3 = df[df['Perpetrator Ethnicity'] == 'Unknown'].groupby('Year').Weapon.count()\nplt.plot(c3, color = 'orange', label = 'Unknown')\np.set_ylim(0, 20000)\np.set_xlim(1980,2014)\n\np.set_xlabel('Year')\np.set_ylabel('Total Homicide Cases')\np.set_title('Total Homicide Cases Per Year', fontsize = 8)\n\np.legend(loc = \"upper left\")",
   "execution_count": 76,
   "outputs": [
    {
     "output_type": "execute_result",
     "execution_count": 76,
     "data": {
      "text/plain": "<matplotlib.legend.Legend at 0x7fd67baac5b0>"
     },
     "metadata": {}
    },
    {
     "data": {
      "text/plain": "<Figure size 2160x2160 with 1 Axes>",
      "image/png": "[encoded data removed]"
     },
     "metadata": {
      "needs_background": "light",
      "image/png": {
       "width": 559,
       "height": 799
      }
     },
     "output_type": "display_data"
    }
   ]
  },
  {
   "cell_type": "code",
   "metadata": {
    "cell_id": "00113-6f9a5358-1ca1-45ee-9b25-4056781b14c8",
    "deepnote_to_be_reexecuted": false,
    "source_hash": "9a9bdcc7",
    "execution_start": 1657136571228,
    "execution_millis": 36,
    "deepnote_cell_type": "code",
    "deepnote_cell_height": 744.2999877929688,
    "deepnote_output_heights": [
     611
    ]
   },
   "source": "test_df = homrep_df_copy\n\ntest_df.groupby('Year')['Perpetrator Age'].mean()",
   "execution_count": 77,
   "outputs": [
    {
     "output_type": "execute_result",
     "execution_count": 77,
     "data": {
      "text/plain": "Year\n1980    30.823402\n1981    31.437901\n1982    31.342630\n1983    31.285554\n1984    31.524623\n1985    31.470902\n1986    31.054410\n1987    31.000160\n1988    30.465786\n1989    29.639923\n1990    29.434152\n1991    28.607362\n1992    28.853066\n1993    28.439942\n1994    28.190484\n1995    28.653619\n1996    29.145184\n1997    29.431213\n1998    29.670319\n1999    30.000068\n2000    30.040624\n2001    29.975258\n2002    30.108065\n2003    30.301417\n2004    30.696852\n2005    30.259622\n2006    30.208857\n2007    30.281281\n2008    30.368259\n2009    31.274306\n2010    31.532703\n2011    31.640282\n2012    31.660015\n2013    32.131326\n2014    32.350778\nName: Perpetrator Age, dtype: float64"
     },
     "metadata": {}
    }
   ]
  },
  {
   "cell_type": "code",
   "metadata": {
    "cell_id": "00114-11755bab-053c-43d3-99ad-3902ae99fcb4",
    "deepnote_to_be_reexecuted": false,
    "source_hash": "c7c71cfb",
    "execution_start": 1657136571268,
    "execution_millis": 306,
    "deepnote_cell_type": "code",
    "deepnote_cell_height": 413.3999938964844,
    "deepnote_output_heights": [
     21,
     264
    ]
   },
   "source": "test_df.groupby('Year')['Perpetrator Age'].mean().plot()",
   "execution_count": 78,
   "outputs": [
    {
     "output_type": "execute_result",
     "execution_count": 78,
     "data": {
      "text/plain": "<AxesSubplot:xlabel='Year'>"
     },
     "metadata": {}
    },
    {
     "data": {
      "text/plain": "<Figure size 432x288 with 1 Axes>",
      "image/png": "[encoded data removed]"
     },
     "metadata": {
      "needs_background": "light",
      "image/png": {
       "width": 375,
       "height": 262
      }
     },
     "output_type": "display_data"
    }
   ]
  },
  {
   "cell_type": "code",
   "metadata": {
    "cell_id": "00115-f3612adb-6afc-41c1-a00a-7d833902e1a4",
    "deepnote_to_be_reexecuted": false,
    "source_hash": "d5798b36",
    "execution_start": 1657136571579,
    "execution_millis": 220,
    "deepnote_cell_type": "code",
    "deepnote_cell_height": 575.2999877929688,
    "deepnote_output_heights": [
     424
    ]
   },
   "source": "test_df = homrep_df_copy[homrep_df_copy['Year'] >= 1980]\ntest_df = test_df[test_df['Year'] <= 1984]\n\ntest_df.groupby('Perpetrator Age')['Perpetrator Age'].count().sort_values(ascending=False).head(20)",
   "execution_count": 79,
   "outputs": [
    {
     "output_type": "execute_result",
     "execution_count": 79,
     "data": {
      "text/plain": "Perpetrator Age\n25    4740\n24    4569\n23    4535\n22    4399\n26    4318\n21    4225\n27    4224\n28    4048\n20    4003\n30    3886\n29    3853\n19    3644\n32    3313\n31    3310\n18    3023\n33    3008\n34    2659\n35    2592\n36    2349\n17    2265\nName: Perpetrator Age, dtype: int64"
     },
     "metadata": {}
    }
   ]
  },
  {
   "cell_type": "code",
   "metadata": {
    "cell_id": "00116-0f6e0598-2b7d-4441-b8d2-b50e738bf6fe",
    "deepnote_to_be_reexecuted": false,
    "source_hash": "89d01c50",
    "execution_start": 1657136571802,
    "execution_millis": 187,
    "deepnote_cell_type": "code",
    "deepnote_cell_height": 575.2999877929688,
    "deepnote_output_heights": [
     424
    ]
   },
   "source": "test_df = homrep_df_copy[homrep_df_copy['Year'] >= 1985]\ntest_df = test_df[test_df['Year'] <= 1989]\n\ntest_df.groupby('Perpetrator Age')['Perpetrator Age'].count().sort_values(ascending=False).head(20)",
   "execution_count": 80,
   "outputs": [
    {
     "output_type": "execute_result",
     "execution_count": 80,
     "data": {
      "text/plain": "Perpetrator Age\n25    4417\n23    4123\n22    4104\n20    4103\n24    4097\n26    3976\n21    3875\n27    3801\n28    3742\n30    3724\n19    3605\n29    3509\n18    3117\n31    3026\n32    2911\n33    2691\n35    2544\n34    2493\n17    2476\n36    2065\nName: Perpetrator Age, dtype: int64"
     },
     "metadata": {}
    }
   ]
  },
  {
   "cell_type": "code",
   "metadata": {
    "cell_id": "00117-42e8d921-a322-4802-b0fd-6b36a94acb64",
    "deepnote_to_be_reexecuted": false,
    "source_hash": "c9e5048",
    "execution_start": 1657136571993,
    "execution_millis": 217,
    "deepnote_cell_type": "code",
    "deepnote_cell_height": 575.2999877929688,
    "deepnote_output_heights": [
     424
    ]
   },
   "source": "test_df = homrep_df_copy[homrep_df_copy['Year'] >= 1990]\ntest_df = test_df[test_df['Year'] <= 1994]\n\ntest_df.groupby('Perpetrator Age')['Perpetrator Age'].count().sort_values(ascending=False).head(20)",
   "execution_count": 81,
   "outputs": [
    {
     "output_type": "execute_result",
     "execution_count": 81,
     "data": {
      "text/plain": "Perpetrator Age\n20    6218\n19    6066\n18    5920\n21    5592\n22    5419\n23    5119\n25    5041\n24    4833\n17    4796\n26    4371\n27    4141\n28    4070\n30    3899\n29    3817\n31    3229\n16    3213\n32    3122\n33    2834\n35    2689\n34    2655\nName: Perpetrator Age, dtype: int64"
     },
     "metadata": {}
    }
   ]
  },
  {
   "cell_type": "code",
   "metadata": {
    "cell_id": "00118-e3987b7a-03d4-4429-9780-5c7481e2ee50",
    "deepnote_to_be_reexecuted": false,
    "source_hash": "ecda129c",
    "execution_start": 1657136572209,
    "execution_millis": 123,
    "deepnote_cell_type": "code",
    "deepnote_cell_height": 575.2999877929688,
    "deepnote_output_heights": [
     424
    ]
   },
   "source": "test_df = homrep_df_copy[homrep_df_copy['Year'] >= 1995]\ntest_df = test_df[test_df['Year'] <= 1999]\n\ntest_df.groupby('Perpetrator Age')['Perpetrator Age'].count().sort_values(ascending=False).head(20)",
   "execution_count": 82,
   "outputs": [
    {
     "output_type": "execute_result",
     "execution_count": 82,
     "data": {
      "text/plain": "Perpetrator Age\n20    5052\n19    4967\n18    4448\n21    4432\n22    4216\n23    3863\n24    3624\n25    3574\n17    3271\n26    3156\n27    3117\n28    2876\n30    2746\n29    2637\n31    2437\n32    2339\n33    2136\n16    2114\n34    2087\n35    2022\nName: Perpetrator Age, dtype: int64"
     },
     "metadata": {}
    }
   ]
  },
  {
   "cell_type": "code",
   "metadata": {
    "cell_id": "00119-66759776-1c79-44f3-aed5-bddc85987327",
    "deepnote_to_be_reexecuted": false,
    "source_hash": "be428914",
    "execution_start": 1657136572331,
    "execution_millis": 156,
    "deepnote_cell_type": "code",
    "deepnote_cell_height": 575.2999877929688,
    "deepnote_output_heights": [
     424
    ]
   },
   "source": "test_df = homrep_df_copy[homrep_df_copy['Year'] >= 2000]\ntest_df = test_df[test_df['Year'] <= 2004]\n\ntest_df.groupby('Perpetrator Age')['Perpetrator Age'].count().sort_values(ascending=False).head(20)",
   "execution_count": 83,
   "outputs": [
    {
     "output_type": "execute_result",
     "execution_count": 83,
     "data": {
      "text/plain": "Perpetrator Age\n20    4466\n21    4157\n22    4009\n23    3838\n19    3756\n25    3584\n24    3451\n26    3201\n18    3078\n27    2880\n28    2697\n30    2640\n29    2521\n31    2177\n32    2127\n33    1913\n17    1911\n35    1821\n34    1799\n36    1607\nName: Perpetrator Age, dtype: int64"
     },
     "metadata": {}
    }
   ]
  },
  {
   "cell_type": "code",
   "metadata": {
    "cell_id": "00120-c651ec3e-bfc5-45f9-bfd1-e65439958d59",
    "deepnote_to_be_reexecuted": false,
    "source_hash": "b08c158b",
    "execution_start": 1657136572501,
    "execution_millis": 70,
    "deepnote_cell_type": "code",
    "deepnote_cell_height": 575.2999877929688,
    "deepnote_output_heights": [
     424
    ]
   },
   "source": "test_df = homrep_df_copy[homrep_df_copy['Year'] >= 2005]\ntest_df = test_df[test_df['Year'] <= 2009]\n\ntest_df.groupby('Perpetrator Age')['Perpetrator Age'].count().sort_values(ascending=False).head(20)",
   "execution_count": 84,
   "outputs": [
    {
     "output_type": "execute_result",
     "execution_count": 84,
     "data": {
      "text/plain": "Perpetrator Age\n20    4456\n21    4000\n19    3972\n22    3924\n25    3836\n23    3801\n24    3629\n18    3575\n26    3235\n27    3114\n28    2911\n30    2600\n29    2528\n17    2237\n31    2181\n32    2124\n33    1931\n35    1908\n34    1884\n36    1762\nName: Perpetrator Age, dtype: int64"
     },
     "metadata": {}
    }
   ]
  },
  {
   "cell_type": "code",
   "metadata": {
    "cell_id": "00121-df698a60-bad5-4ac6-a1fd-e3d44c122381",
    "deepnote_to_be_reexecuted": false,
    "source_hash": "7242bed4",
    "execution_start": 1657136572576,
    "execution_millis": 58,
    "deepnote_cell_type": "code",
    "deepnote_cell_height": 575.2999877929688,
    "deepnote_output_heights": [
     424
    ]
   },
   "source": "test_df = homrep_df_copy[homrep_df_copy['Year'] >= 2010]\ntest_df = test_df[test_df['Year'] <= 2014]\n\ntest_df.groupby('Perpetrator Age')['Perpetrator Age'].count().sort_values(ascending=False).head(20)",
   "execution_count": 85,
   "outputs": [
    {
     "output_type": "execute_result",
     "execution_count": 85,
     "data": {
      "text/plain": "Perpetrator Age\n20    3381\n21    3372\n22    3307\n23    3226\n24    3078\n25    3073\n19    2961\n26    2851\n27    2685\n29    2534\n28    2527\n18    2517\n30    2501\n31    2247\n32    2148\n33    1880\n34    1832\n35    1824\n36    1502\n17    1455\nName: Perpetrator Age, dtype: int64"
     },
     "metadata": {}
    }
   ]
  },
  {
   "cell_type": "code",
   "metadata": {
    "cell_id": "00122-cf029da7-73ec-4a4e-b20f-63a5c550ad4f",
    "deepnote_to_be_reexecuted": false,
    "source_hash": "72e3041f",
    "execution_start": 1657136572642,
    "execution_millis": 1275,
    "deepnote_cell_type": "code",
    "deepnote_cell_height": 485.3999938964844,
    "deepnote_output_heights": [
     21,
     264
    ]
   },
   "source": "test_df = homrep_df_copy[homrep_df_copy['Perpetrator Sex'] == 'Male']\ntest_df.groupby('Year').count().Weapon.plot()\n\ntest_df = homrep_df_copy[homrep_df_copy['Perpetrator Sex'] == 'Female']\ntest_df.groupby('Year').count().Weapon.plot()",
   "execution_count": 86,
   "outputs": [
    {
     "output_type": "execute_result",
     "execution_count": 86,
     "data": {
      "text/plain": "<AxesSubplot:xlabel='Year'>"
     },
     "metadata": {}
    },
    {
     "data": {
      "text/plain": "<Figure size 432x288 with 1 Axes>",
      "image/png": "[encoded data removed]"
     },
     "metadata": {
      "needs_background": "light",
      "image/png": {
       "width": 394,
       "height": 262
      }
     },
     "output_type": "display_data"
    }
   ]
  },
  {
   "cell_type": "code",
   "metadata": {
    "cell_id": "00123-e95df23c-41a9-47f5-8ed9-a068c642890d",
    "deepnote_to_be_reexecuted": false,
    "source_hash": "e5f2cddd",
    "execution_start": 1657136573918,
    "execution_millis": 63,
    "deepnote_cell_type": "code",
    "deepnote_cell_height": 118.30000305175781,
    "deepnote_output_heights": [
     21
    ]
   },
   "source": "homrep_df_copy['Crime Solved'].unique()",
   "execution_count": 87,
   "outputs": [
    {
     "output_type": "execute_result",
     "execution_count": 87,
     "data": {
      "text/plain": "array(['Yes', 'No'], dtype=object)"
     },
     "metadata": {}
    }
   ]
  },
  {
   "cell_type": "code",
   "metadata": {
    "cell_id": "00124-f5571bcd-a47c-420b-bdfa-768881946b97",
    "deepnote_to_be_reexecuted": false,
    "source_hash": "141929f6",
    "execution_start": 1657136573984,
    "execution_millis": 786,
    "deepnote_cell_type": "code",
    "deepnote_cell_height": 701.2999877929688
   },
   "source": "homrep_df_copy.info()",
   "execution_count": 88,
   "outputs": [
    {
     "name": "stdout",
     "text": "<class 'pandas.core.frame.DataFrame'>\nRangeIndex: 638454 entries, 0 to 638453\nData columns (total 24 columns):\n #   Column                 Non-Null Count   Dtype \n---  ------                 --------------   ----- \n 0   Record ID              638454 non-null  int64 \n 1   Agency Code            638454 non-null  object\n 2   Agency Name            638454 non-null  object\n 3   Agency Type            638454 non-null  object\n 4   City                   638454 non-null  object\n 5   State                  638454 non-null  object\n 6   Year                   638454 non-null  int64 \n 7   Month                  638454 non-null  object\n 8   Incident               638454 non-null  int64 \n 9   Crime Type             638454 non-null  object\n 10  Crime Solved           638454 non-null  object\n 11  Victim Sex             638454 non-null  object\n 12  Victim Age             638454 non-null  int64 \n 13  Victim Race            638454 non-null  object\n 14  Victim Ethnicity       638454 non-null  object\n 15  Perpetrator Sex        638454 non-null  object\n 16  Perpetrator Age        638454 non-null  int64 \n 17  Perpetrator Race       638454 non-null  object\n 18  Perpetrator Ethnicity  638454 non-null  object\n 19  Relationship           638454 non-null  object\n 20  Weapon                 638454 non-null  object\n 21  Victim Count           638454 non-null  int64 \n 22  Perpetrator Count      638454 non-null  int64 \n 23  Record Source          638454 non-null  object\ndtypes: int64(7), object(17)\nmemory usage: 116.9+ MB\n",
     "output_type": "stream"
    }
   ]
  },
  {
   "cell_type": "markdown",
   "source": "Phase 7: Determining the state of the homicide (Crime Type, Crime Solved, Relationship Between Perpetrator and Victim, and Weapon) per State and City\n\nSteps:\n1. Check the counts of each Crime Type, first by City, and then by State. Because there are only two variables, it should also be wise to determine the proportions of each one.\n2. Determine the proportions of Crimes successfully solved, first by City, and then by State.\n3. Check the counts of each Relationship, first by City, and then by State.\n4. Repeat Step 4 but for the Weapon. In addition, it would be wise to determine the proportion of the Weapon with the highest use (Handgun) to gain a better understanding.\n\nFindings:\n<li>Upon checking the cases per state where the Crime Type is a Murder or Manslaughter, the states with the highest cases are an exact replica as the those in total regardless of crime type, with only slightly less cases overall. This makes sense given the meager amounts of homicide cases by Manslaughter by Negligence. The same, however, cannot be said for cases by Manslaughter by Negligence, with many new cities (albeit from the same states) dominating the spot.</li>\n<li>The mean rate per state at which the homicide cases have been solved is 77.66%, with a standard deviation of 9.83%. The median rate stands at 79.37%. The state with the highest homicide solution rate is North Dakota at 93.18%, while the lowest is New York at 54.1%</li>\n<li>It is also worth mentioning that the states with the highest cases tend to have the lowest success rates, or at least lower than average</li>\n<li>Unfortunetely, the relationship of the perpetrator and victim, with respect to either the city or the state, are unknown, so no interesting conclusion can be drawn from it</li>\n<li>In nearly every single state, Handguns dominate the type of weapon used in the Homicide. Upon closer inspection of this, there are 12 states where there are more cases involving handguns than any other weapon combined.</li>",
   "metadata": {
    "cell_id": "00125-b3c60886-ff5b-4162-81c1-f711e5ee8f59",
    "deepnote_cell_type": "markdown",
    "deepnote_cell_height": 625.4000244140625
   }
  },
  {
   "cell_type": "code",
   "metadata": {
    "cell_id": "00126-fc18d438-2b67-47cb-b157-4eacf5307b8d",
    "deepnote_to_be_reexecuted": false,
    "source_hash": "cc5dbe35",
    "execution_start": 1657136574775,
    "execution_millis": 445,
    "deepnote_cell_type": "code",
    "deepnote_cell_height": 744.2999877929688,
    "deepnote_output_heights": [
     611
    ]
   },
   "source": "test_df = homrep_df_copy\n\ntest_df[test_df['Crime Type'] == 'Murder or Manslaughter'].groupby(['State', 'City']).Weapon.count().sort_values(ascending=False).head(50)",
   "execution_count": 89,
   "outputs": [
    {
     "output_type": "execute_result",
     "execution_count": 89,
     "data": {
      "text/plain": "State                 City                \nCalifornia            Los Angeles             44331\nNew York              New York                38423\nIllinois              Cook                    22049\nMichigan              Wayne                   19016\nTexas                 Harris                  16003\nPennsylvania          Philadelphia            12820\nTexas                 Dallas                  11105\nMaryland              Baltimore city           9325\nFlorida               Dade                     8744\nArizona               Maricopa                 8338\nLouisiana             Orleans                  7819\nDistrict of Columbia  District of Columbia     7110\nGeorgia               Fulton                   6349\nMissouri              St. Louis city           5910\nCalifornia            San Bernardino           5656\nTennessee             Shelby                   5568\nCalifornia            Alameda                  5504\n                      San Diego                5414\nTexas                 Bexar                    5378\nNew Jersey            Essex                    4804\nOhio                  Cuyahoga                 4761\nNevada                Clark                    4446\nTexas                 Tarrant                  4318\nMissouri              Jackson                  4277\nCalifornia            Riverside                3852\nIndiana               Marion                   3805\nCalifornia            Orange                   3774\nWisconsin             Milwaukee                3767\nMaryland              Prince George's          3622\nAlabama               Jefferson                3500\nOhio                  Franklin                 3450\nCalifornia            Sacramento               3371\nFlorida               Duval                    3149\nIndiana               Lake                     3081\nFlorida               Broward                  3053\nCalifornia            San Francisco            3012\nVirginia              Richmond                 2888\nTennessee             Davidson                 2879\nCalifornia            Fresno                   2815\nOklahoma              Oklahoma                 2720\nWashington            King                     2683\nMassachusetts         Suffolk                  2667\nNorth Carolina        Mecklenburg              2611\nCalifornia            Contra Costa             2545\nPennsylvania          Allegheny                2511\nFlorida               Palm Beach               2502\n                      Hillsborough             2463\nLouisiana             East Baton Rouge         2404\nArizona               Pima                     2377\nColorado              Denver                   2349\nName: Weapon, dtype: int64"
     },
     "metadata": {}
    }
   ]
  },
  {
   "cell_type": "code",
   "metadata": {
    "cell_id": "00127-919222c0-053f-4b2a-b903-68c2210f0226",
    "deepnote_to_be_reexecuted": false,
    "source_hash": "a01f21aa",
    "execution_start": 1657136575224,
    "execution_millis": 101,
    "deepnote_cell_type": "code",
    "deepnote_cell_height": 744.2999877929688,
    "deepnote_output_heights": [
     611
    ]
   },
   "source": "test_df = homrep_df_copy\n\ntest_df[test_df['Crime Type'] == 'Manslaughter by Negligence'].groupby(['State', 'City']).Weapon.count().sort_values(ascending=False).head(50)",
   "execution_count": 90,
   "outputs": [
    {
     "output_type": "execute_result",
     "execution_count": 90,
     "data": {
      "text/plain": "State           City            \nFlorida         Dade                310\nTexas           Harris              297\nIllinois        Cook                289\nArizona         Maricopa            244\nCalifornia      Los Angeles         180\nFlorida         Duval               146\nTexas           Bexar               144\nFlorida         Palm Beach          140\n                Hillsborough        134\n                Broward             118\n                Orange              102\n                Pinellas             98\nAlaska          Juneau               69\nOklahoma        Oklahoma             68\nLouisiana       East Baton Rouge     68\nMissouri        St. Louis            65\nNevada          Clark                65\nOhio            Cuyahoga             62\nCalifornia      San Bernardino       61\nFlorida         Lee                  60\nOklahoma        Tulsa                53\nArizona         Pima                 52\nNorth Carolina  Mecklenburg          49\nCalifornia      Alameda              47\nTennessee       Shelby               47\nCalifornia      Sacramento           45\nMissouri        St. Louis city       45\nIndiana         Marion               44\nOregon          Multnomah            43\nTexas           Dallas               43\nCalifornia      San Diego            42\nWisconsin       Milwaukee            41\nFlorida         Polk                 41\nCalifornia      Riverside            41\nColorado        Arapahoe             41\nFlorida         Escambia             41\nWashington      King                 40\nNew Mexico      Bernalillo           39\nGeorgia         Fulton               38\nCalifornia      Orange               38\nLouisiana       Jefferson            35\nConnecticut     Hartford             35\n                New Haven            35\nAlaska          Anchorage            34\nOhio            Lucas                33\nTexas           Tarrant              32\nPennsylvania    Allegheny            31\n                Philadelphia         31\nFlorida         Brevard              30\nLouisiana       Caddo                30\nName: Weapon, dtype: int64"
     },
     "metadata": {}
    }
   ]
  },
  {
   "cell_type": "code",
   "metadata": {
    "cell_id": "00128-16bb9b66-aa95-4bd5-b66c-d51cd2a1e3e1",
    "deepnote_to_be_reexecuted": false,
    "source_hash": "b9e51643",
    "execution_start": 1657136575329,
    "execution_millis": 1292,
    "deepnote_cell_type": "code",
    "deepnote_cell_height": 816.2999877929688,
    "deepnote_output_heights": [
     611
    ]
   },
   "source": "test_df = homrep_df_copy\n\ntest_num = test_df[test_df['Crime Type'] == 'Murder or Manslaughter'].groupby(['State', 'City']).Weapon.count()\ntest_den = test_df.groupby(['State', 'City']).Weapon.count()\n\ntest_quo = test_num / test_den\ntest_quo.sort_values(ascending=True).head(50)",
   "execution_count": 91,
   "outputs": [
    {
     "output_type": "execute_result",
     "execution_count": 91,
     "data": {
      "text/plain": "State          City             \nWisconsin      Pepin                0.333333\nNebraska       Hitchcock            0.333333\nMissouri       Gasconade            0.333333\nMinnesota      Grant                0.500000\nSouth Dakota   Butte                0.500000\nIllinois       Fayette              0.500000\nUtah           Juab                 0.500000\nMontana        Powell               0.500000\nTexas          Lipscomb             0.500000\nMontana        Sweet Grass          0.500000\nOklahoma       Harper               0.500000\n               Grant                0.500000\n               Ellis                0.500000\nColorado       Grand                0.583333\nOklahoma       Major                0.600000\nWisconsin      Buffalo              0.600000\nMinnesota      Pennington           0.600000\nOhio           Morrow               0.619048\nAlaska         Aleutians West       0.625000\nMississippi    Pontotoc             0.666667\nKansas         Elk                  0.666667\nSouth Dakota   Day                  0.666667\nMontana        Meagher              0.666667\nNebraska       Custer               0.666667\nWyoming        Niobrara             0.666667\nNevada         Esmeralda            0.666667\nKansas         Harper               0.666667\nTexas          Jack                 0.666667\nIllinois       Greene               0.666667\nIdaho          Valley               0.714286\nWyoming        Weston               0.714286\nWest Virginia  Doddridge            0.750000\nOklahoma       Woods                0.750000\nMissouri       Hickory              0.750000\nVirginia       Highland             0.750000\nOhio           Union                0.750000\nMinnesota      Roseau               0.750000\nNew Mexico     Los Alamos           0.750000\nTexas          Stonewall            0.750000\nKansas         Kearny               0.750000\nNevada         Mineral              0.750000\nWisconsin      Menominee            0.750000\nKansas         Grant                0.750000\nMississippi    Tallahatchie         0.750000\nTexas          Real                 0.750000\nOregon         Crook                0.750000\nMontana        Glacier              0.750000\nAlaska         Ketchikan Gateway    0.764706\nWest Virginia  Pleasants            0.777778\nPennsylvania   Juniata              0.777778\nName: Weapon, dtype: float64"
     },
     "metadata": {}
    }
   ]
  },
  {
   "cell_type": "code",
   "metadata": {
    "cell_id": "00129-8599b280-35b7-48d7-8601-0b36dd6a7852",
    "deepnote_to_be_reexecuted": false,
    "source_hash": "191d1dc6",
    "execution_start": 1657136575971,
    "execution_millis": 659,
    "deepnote_cell_type": "code",
    "deepnote_cell_height": 816.2999877929688,
    "deepnote_output_heights": [
     611
    ]
   },
   "source": "test_df = homrep_df_copy\n\ntest_num = test_df[test_df['Crime Solved'] == 'Yes'].groupby(['State', 'City']).Weapon.count()\ntest_den = test_df.groupby(['State', 'City']).Weapon.count()\n\ntest_quo = test_num / test_den\ntest_quo.sort_values(ascending=True).head(50)",
   "execution_count": 92,
   "outputs": [
    {
     "output_type": "execute_result",
     "execution_count": 92,
     "data": {
      "text/plain": "State                 City                \nTexas                 Sherman                 0.250000\nMississippi           Amite                   0.250000\nNew York              Queens                  0.333333\nTexas                 Kenedy                  0.333333\nIdaho                 Clark                   0.333333\nKansas                Wabaunsee               0.333333\nNevada                Esmeralda               0.333333\nKentucky              Menifee                 0.333333\nKansas                Morton                  0.333333\nIllinois              Effingham               0.333333\nVirginia              Repressed               0.333333\nDistrict of Columbia  District of Columbia    0.343078\nKansas                Stanton                 0.400000\nKentucky              Todd                    0.400000\nOhio                  Auglaize                0.428571\nMassachusetts         Suffolk                 0.436962\nIdaho                 Oneida                  0.444444\nMissouri              St. Louis city          0.451889\nNew York              Erie                    0.474906\nMississippi           Calhoun                 0.500000\nIllinois              De Witt                 0.500000\nNebraska              Deuel                   0.500000\nIndiana               Wells                   0.500000\nOklahoma              Harper                  0.500000\nSouth Dakota          Stanley                 0.500000\nKansas                Grant                   0.500000\nMinnesota             Norman                  0.500000\nNew Mexico            Hidalgo                 0.500000\nKansas                Jewell                  0.500000\nMontana               Toole                   0.500000\nIllinois              Kendall                 0.500000\nIowa                  Franklin                0.500000\nNebraska              Holt                    0.500000\nIowa                  Cass                    0.500000\nUtah                  Juab                    0.500000\nIllinois              Brown                   0.500000\nKansas                Marion                  0.500000\nOhio                  Paulding                0.500000\nIndiana               Jasper                  0.500000\nSouth Dakota          Deuel                   0.500000\nColorado              Jackson                 0.500000\nTexas                 McMullen                0.500000\nIowa                  Winneshiek              0.500000\nKentucky              Lyon                    0.500000\nIowa                  Bremer                  0.500000\nKentucky              Bracken                 0.500000\nTexas                 Borden                  0.500000\nIndiana               Newton                  0.500000\nMississippi           Tallahatchie            0.500000\nMissouri              Hickory                 0.500000\nName: Weapon, dtype: float64"
     },
     "metadata": {}
    }
   ]
  },
  {
   "cell_type": "code",
   "metadata": {
    "cell_id": "00130-8bd80a60-30a6-4bc9-a9fe-dbde9d1fb6fe",
    "deepnote_to_be_reexecuted": false,
    "source_hash": "cd9fe88d",
    "execution_start": 1657136576537,
    "execution_millis": 94,
    "deepnote_cell_type": "code",
    "deepnote_cell_height": 118.30000305175781,
    "deepnote_output_heights": [
     21
    ]
   },
   "source": "test_quo[test_quo == 1.0].sort_values(ascending=True).count() / test_quo.sort_values(ascending=True).count()",
   "execution_count": 93,
   "outputs": [
    {
     "output_type": "execute_result",
     "execution_count": 93,
     "data": {
      "text/plain": "0.21825396825396826"
     },
     "metadata": {}
    }
   ]
  },
  {
   "cell_type": "code",
   "metadata": {
    "cell_id": "00131-e234d82c-8d4a-4ac8-94eb-285a09e632fd",
    "deepnote_to_be_reexecuted": false,
    "source_hash": "33679073",
    "execution_start": 1657136576557,
    "execution_millis": 398,
    "deepnote_cell_type": "code",
    "deepnote_cell_height": 816.2999877929688,
    "deepnote_output_heights": [
     611
    ]
   },
   "source": "test_df = homrep_df_copy\n\ntest_num = test_df[test_df['Crime Solved'] == 'Yes'].groupby('State').Weapon.count()\ntest_den = test_df.groupby(['State']).Weapon.count()\n\ntest_quo = test_num / test_den\ntest_quo.sort_values(ascending=False).head(50)",
   "execution_count": 94,
   "outputs": [
    {
     "output_type": "execute_result",
     "execution_count": 94,
     "data": {
      "text/plain": "State\nNorth Dakota      0.931818\nMontana           0.926789\nSouth Dakota      0.918552\nSouth Carolina    0.907677\nIdaho             0.904348\nWyoming           0.903175\nWest Virginia     0.896112\nMaine             0.894131\nVermont           0.883495\nIowa              0.871355\nUtah              0.859813\nTennessee         0.841326\nArkansas          0.840939\nMississippi       0.840361\nNew Hampshire     0.835115\nNebraska          0.833959\nWisconsin         0.830884\nOklahoma          0.830855\nMinnesota         0.824654\nOregon            0.824283\nAlaska            0.816327\nKansas            0.806159\nDelaware          0.802375\nNorth Carolina    0.802060\nColorado          0.798423\nAlabama           0.789030\nVirginia          0.787178\nHawaii            0.783259\nWashington        0.782086\nKentucky          0.767623\nTexas             0.763588\nPennsylvania      0.760274\nNew Mexico        0.739700\nGeorgia           0.722686\nArizona           0.716961\nOhio              0.716620\nFlorida           0.713513\nLouisiana         0.691935\nNevada            0.688817\nIndiana           0.677920\nRhodes Island     0.673823\nMichigan          0.668377\nConnecticut       0.665645\nNew Jersey        0.640886\nMissouri          0.638821\nCalifornia        0.635519\nMassachusetts     0.634195\nIllinois          0.612462\nMaryland          0.595425\nNew York          0.541041\nName: Weapon, dtype: float64"
     },
     "metadata": {}
    }
   ]
  },
  {
   "cell_type": "code",
   "metadata": {
    "cell_id": "00132-7fee1480-1b71-4e07-81ff-48ac6e35ac9f",
    "deepnote_to_be_reexecuted": false,
    "source_hash": "66ac0133",
    "execution_start": 1657136576957,
    "execution_millis": 16,
    "deepnote_cell_type": "code",
    "deepnote_cell_height": 118.30000305175781,
    "deepnote_output_heights": [
     21
    ]
   },
   "source": "test_quo.mean()",
   "execution_count": 95,
   "outputs": [
    {
     "output_type": "execute_result",
     "execution_count": 95,
     "data": {
      "text/plain": "0.7681459526654891"
     },
     "metadata": {}
    }
   ]
  },
  {
   "cell_type": "code",
   "metadata": {
    "cell_id": "00133-089ed1e0-9847-4bdf-a7fe-aac730a6e485",
    "deepnote_to_be_reexecuted": false,
    "source_hash": "88ba5f3b",
    "execution_start": 1657136576977,
    "execution_millis": 21,
    "deepnote_cell_type": "code",
    "deepnote_cell_height": 118.30000305175781,
    "deepnote_output_heights": [
     21
    ]
   },
   "source": "test_quo.std()",
   "execution_count": 96,
   "outputs": [
    {
     "output_type": "execute_result",
     "execution_count": 96,
     "data": {
      "text/plain": "0.11473117001832335"
     },
     "metadata": {}
    }
   ]
  },
  {
   "cell_type": "code",
   "metadata": {
    "cell_id": "00134-f15dc475-9977-43b4-95f8-cb9ac40ccc9e",
    "deepnote_to_be_reexecuted": false,
    "source_hash": "9a44c0be",
    "execution_start": 1657136576997,
    "execution_millis": 279,
    "deepnote_cell_type": "code",
    "deepnote_cell_height": 726.2999877929688,
    "deepnote_output_heights": [
     611
    ]
   },
   "source": "test_df = homrep_df_copy\ntest_df.groupby(['State', 'City', 'Relationship']).Weapon.count().sort_values(ascending=False).head(50)",
   "execution_count": 97,
   "outputs": [
    {
     "output_type": "execute_result",
     "execution_count": 97,
     "data": {
      "text/plain": "State                 City                  Relationship\nNew York              New York              Unknown         25863\nCalifornia            Los Angeles           Unknown         22049\nIllinois              Cook                  Unknown         12197\nCalifornia            Los Angeles           Stranger        11753\nMichigan              Wayne                 Unknown         10220\nFlorida               Dade                  Unknown          6773\nTexas                 Dallas                Unknown          6418\nPennsylvania          Philadelphia          Unknown          6375\nMaryland              Baltimore city        Unknown          5833\nDistrict of Columbia  District of Columbia  Unknown          5483\nNew York              New York              Stranger         5036\nMichigan              Wayne                 Acquaintance     4944\nLouisiana             Orleans               Unknown          4787\nTexas                 Harris                Stranger         4570\n                                            Unknown          4359\n                                            Acquaintance     3782\nIllinois              Cook                  Stranger         3517\nMissouri              St. Louis city        Unknown          3508\nArizona               Maricopa              Unknown          3210\nTexas                 Bexar                 Unknown          3101\nGeorgia               Fulton                Unknown          3093\nCalifornia            Los Angeles           Friend           3032\nNew York              New York              Acquaintance     3032\nIllinois              Cook                  Acquaintance     2912\nNew Jersey            Essex                 Unknown          2863\nCalifornia            Los Angeles           Acquaintance     2789\n                      Alameda               Unknown          2742\nMissouri              Jackson               Unknown          2623\nPennsylvania          Philadelphia          Acquaintance     2584\nFlorida               Duval                 Unknown          2439\nCalifornia            San Diego             Unknown          2356\n                      San Bernardino        Unknown          2354\nTennessee             Shelby                Acquaintance     2338\nMaryland              Prince George's       Unknown          2186\nFlorida               Broward               Unknown          2177\nArizona               Maricopa              Stranger         2166\nPennsylvania          Philadelphia          Stranger         2051\nNevada                Clark                 Unknown          2020\nMichigan              Wayne                 Stranger         2016\nFlorida               Palm Beach            Unknown          1954\nMassachusetts         Suffolk               Unknown          1894\nOhio                  Cuyahoga              Unknown          1836\nVirginia              Richmond              Unknown          1821\nTexas                 Tarrant               Unknown          1765\nFlorida               Hillsborough          Unknown          1760\nMaryland              Baltimore city        Acquaintance     1736\nFlorida               Orange                Unknown          1657\nCalifornia            Orange                Unknown          1652\nOhio                  Franklin              Unknown          1646\nIndiana               Lake                  Unknown          1626\nName: Weapon, dtype: int64"
     },
     "metadata": {}
    }
   ]
  },
  {
   "cell_type": "code",
   "metadata": {
    "cell_id": "00135-0809898f-82ea-44a1-8be9-d76f2ae84087",
    "deepnote_to_be_reexecuted": false,
    "source_hash": "5f430671",
    "execution_start": 1657136577280,
    "execution_millis": 194,
    "deepnote_cell_type": "code",
    "deepnote_cell_height": 726.2999877929688,
    "deepnote_output_heights": [
     611
    ]
   },
   "source": "test_df = homrep_df_copy\ntest_df.groupby(['State', 'Relationship']).Weapon.count().sort_values(ascending=False).head(50)",
   "execution_count": 98,
   "outputs": [
    {
     "output_type": "execute_result",
     "execution_count": 98,
     "data": {
      "text/plain": "State                 Relationship\nCalifornia            Unknown         45050\nNew York              Unknown         30084\nFlorida               Unknown         26257\nCalifornia            Stranger        23827\nTexas                 Unknown         21388\n                      Acquaintance    14912\nMichigan              Unknown         13657\nIllinois              Unknown         13496\nTexas                 Stranger        10739\nPennsylvania          Unknown         10635\nCalifornia            Acquaintance     9597\nMaryland              Unknown          9313\nLouisiana             Unknown          7859\nOhio                  Unknown          7557\nMissouri              Unknown          7124\nGeorgia               Unknown          6922\nMichigan              Acquaintance     6915\nNorth Carolina        Unknown          6790\nNew York              Stranger         6494\nGeorgia               Acquaintance     6207\nNew Jersey            Unknown          5979\nCalifornia            Friend           5964\nNorth Carolina        Acquaintance     5533\nVirginia              Unknown          5532\nDistrict of Columbia  Unknown          5483\nLouisiana             Acquaintance     5459\nNew York              Acquaintance     5425\nPennsylvania          Acquaintance     4964\nTennessee             Acquaintance     4837\nOhio                  Acquaintance     4653\nIndiana               Unknown          4510\nArizona               Unknown          4364\nVirginia              Acquaintance     4185\nTennessee             Unknown          4160\nIllinois              Stranger         3951\nSouth Carolina        Acquaintance     3843\nIllinois              Acquaintance     3522\nAlabama               Unknown          3505\nPennsylvania          Stranger         3327\nMaryland              Acquaintance     3323\nMissouri              Acquaintance     3197\nAlabama               Acquaintance     3183\nMassachusetts         Unknown          3098\nMichigan              Stranger         3097\nNew Jersey            Acquaintance     3065\nIndiana               Acquaintance     3023\nArizona               Stranger         3009\nCalifornia            Wife             2961\nGeorgia               Stranger         2751\nOklahoma              Acquaintance     2714\nName: Weapon, dtype: int64"
     },
     "metadata": {}
    }
   ]
  },
  {
   "cell_type": "code",
   "metadata": {
    "cell_id": "00136-1d9e40c1-c87e-4d24-8b22-1c6812ed57e2",
    "deepnote_to_be_reexecuted": false,
    "source_hash": "dec3e2fd",
    "execution_start": 1657136577480,
    "execution_millis": 148,
    "deepnote_cell_type": "code",
    "deepnote_cell_height": 762.2999877929688,
    "deepnote_output_heights": [
     611
    ]
   },
   "source": "test_df = homrep_df_copy\n\ntest_num = test_df[test_df['Relationship'] == 'Acquaintance'].groupby('State').Weapon.count()\ntest_den.sort_values(ascending=False)",
   "execution_count": 99,
   "outputs": [
    {
     "output_type": "execute_result",
     "execution_count": 99,
     "data": {
      "text/plain": "State\nCalifornia              99783\nTexas                   62095\nNew York                49268\nFlorida                 37164\nMichigan                28448\nIllinois                25871\nPennsylvania            24236\nGeorgia                 21088\nNorth Carolina          20390\nLouisiana               19629\nOhio                    19158\nMaryland                17312\nVirginia                15520\nTennessee               14930\nMissouri                14832\nNew Jersey              14132\nArizona                 12871\nSouth Carolina          11698\nIndiana                 11463\nAlabama                 11376\nOklahoma                 8809\nWashington               7815\nDistrict of Columbia     7115\nArkansas                 6947\nColorado                 6593\nKentucky                 6554\nMississippi              6546\nWisconsin                6191\nMassachusetts            6036\nNevada                   5553\nConnecticut              4896\nNew Mexico               4272\nOregon                   4217\nMinnesota                3975\nKansas                   3085\nWest Virginia            3061\nUtah                     2033\nIowa                     1749\nAlaska                   1617\nHawaii                   1338\nNebraska                 1331\nRhodes Island            1211\nDelaware                 1179\nIdaho                    1150\nMaine                     869\nNew Hampshire             655\nWyoming                   630\nMontana                   601\nSouth Dakota              442\nVermont                   412\nNorth Dakota              308\nName: Weapon, dtype: int64"
     },
     "metadata": {}
    }
   ]
  },
  {
   "cell_type": "code",
   "metadata": {
    "cell_id": "00137-af8ed980-e1f0-468d-9221-37372ff40985",
    "deepnote_to_be_reexecuted": false,
    "source_hash": "a817f1a5",
    "execution_start": 1657136577627,
    "execution_millis": 268,
    "deepnote_cell_type": "code",
    "deepnote_cell_height": 726.2999877929688,
    "deepnote_output_heights": [
     611
    ]
   },
   "source": "test_df = homrep_df_copy\ntest_df.groupby(['State', 'City', 'Weapon']).Weapon.count().sort_values(ascending=False).head(50)",
   "execution_count": 100,
   "outputs": [
    {
     "output_type": "execute_result",
     "execution_count": 100,
     "data": {
      "text/plain": "State                 City                  Weapon      \nCalifornia            Los Angeles           Handgun         28018\nNew York              New York              Handgun         22995\nIllinois              Cook                  Handgun         13855\nTexas                 Harris                Handgun          9637\nPennsylvania          Philadelphia          Handgun          8859\nMichigan              Wayne                 Handgun          8453\nNew York              New York              Knife            6915\nMaryland              Baltimore city        Handgun          6679\nLouisiana             Orleans               Handgun          5720\nCalifornia            Los Angeles           Knife            5705\nTexas                 Dallas                Handgun          5701\nArizona               Maricopa              Handgun          4816\nGeorgia               Fulton                Handgun          4074\nNew York              New York              Blunt Object     4058\nDistrict of Columbia  District of Columbia  Handgun          3853\nFlorida               Dade                  Handgun          3749\nCalifornia            Los Angeles           Blunt Object     3723\nMichigan              Wayne                 Firearm          3472\nCalifornia            San Bernardino        Handgun          3144\n                      Alameda               Handgun          3093\nNew Jersey            Essex                 Handgun          3000\nIllinois              Cook                  Knife            2986\nTennessee             Shelby                Handgun          2949\nOhio                  Cuyahoga              Handgun          2605\nCalifornia            San Diego             Handgun          2513\nMaryland              Prince George's       Handgun          2492\nMissouri              St. Louis city        Handgun          2416\nFlorida               Dade                  Firearm          2397\nAlabama               Jefferson             Handgun          2380\nTexas                 Harris                Knife            2339\n                      Tarrant               Handgun          2165\nNevada                Clark                 Handgun          2163\nIndiana               Marion                Handgun          2135\nMichigan              Wayne                 Knife            2125\nCalifornia            Orange                Handgun          2070\nIndiana               Lake                  Handgun          2042\nWisconsin             Milwaukee             Handgun          2016\nIllinois              Cook                  Blunt Object     2006\nTexas                 Bexar                 Handgun          1992\nCalifornia            Riverside             Handgun          1938\nNew York              New York              Unknown          1767\nCalifornia            Los Angeles           Shotgun          1724\nTennessee             Davidson              Handgun          1714\nOhio                  Franklin              Handgun          1714\nPennsylvania          Philadelphia          Knife            1696\nCalifornia            Sacramento            Handgun          1695\nMissouri              St. Louis city        Firearm          1675\nVirginia              Richmond              Handgun          1649\nCalifornia            Los Angeles           Rifle            1636\nNorth Carolina        Mecklenburg           Handgun          1625\nName: Weapon, dtype: int64"
     },
     "metadata": {}
    }
   ]
  },
  {
   "cell_type": "code",
   "metadata": {
    "cell_id": "00138-6d91fcb4-eeca-46f3-868a-e76b4d1072e4",
    "deepnote_to_be_reexecuted": false,
    "source_hash": "bd22d2c4",
    "execution_start": 1657136577900,
    "execution_millis": 186,
    "deepnote_cell_type": "code",
    "deepnote_cell_height": 726.2999877929688,
    "deepnote_output_heights": [
     611
    ]
   },
   "source": "test_df = homrep_df_copy\ntest_df.groupby(['State', 'Weapon']).Weapon.count().sort_values(ascending=False).head(50)",
   "execution_count": 101,
   "outputs": [
    {
     "output_type": "execute_result",
     "execution_count": 101,
     "data": {
      "text/plain": "State                 Weapon      \nCalifornia            Handgun         55429\nTexas                 Handgun         29843\nNew York              Handgun         26452\nIllinois              Handgun         15492\nCalifornia            Knife           14989\nFlorida               Handgun         14213\nPennsylvania          Handgun         13302\nLouisiana             Handgun         12266\nGeorgia               Handgun         11900\nMichigan              Handgun         11657\nMaryland              Handgun         10906\nCalifornia            Blunt Object    10195\nTexas                 Knife            9656\nNew York              Knife            9347\nNorth Carolina        Handgun          9217\nOhio                  Handgun          9204\nTennessee             Handgun          7255\nFlorida               Firearm          7105\nVirginia              Handgun          7101\nArizona               Handgun          7054\nNew Jersey            Handgun          6790\nAlabama               Handgun          6352\nTexas                 Blunt Object     6217\nIndiana               Handgun          6036\nNew York              Blunt Object     5714\nMissouri              Handgun          5536\nSouth Carolina        Handgun          5515\nTexas                 Firearm          5165\nFlorida               Knife            4916\nCalifornia            Shotgun          4371\nMichigan              Firearm          4350\nCalifornia            Firearm          4327\nOklahoma              Handgun          4168\nCalifornia            Rifle            4103\nFlorida               Blunt Object     4102\n                      Unknown          3979\nTexas                 Shotgun          3864\nDistrict of Columbia  Handgun          3853\nMississippi           Handgun          3684\nIllinois              Knife            3660\nMichigan              Knife            3593\nPennsylvania          Knife            3377\nWashington            Handgun          3331\nKentucky              Handgun          3269\nArkansas              Handgun          3180\nMissouri              Firearm          3132\nGeorgia               Knife            2965\nNew Jersey            Knife            2938\nTexas                 Unknown          2875\nNorth Carolina        Knife            2859\nName: Weapon, dtype: int64"
     },
     "metadata": {}
    }
   ]
  },
  {
   "cell_type": "code",
   "metadata": {
    "cell_id": "00139-d5e1ac91-3a28-4e47-bbb6-ac86375f68b3",
    "deepnote_to_be_reexecuted": false,
    "source_hash": "67402b02",
    "execution_start": 1657136578091,
    "execution_millis": 363,
    "deepnote_cell_type": "code",
    "deepnote_cell_height": 816.2999877929688,
    "deepnote_output_heights": [
     611
    ]
   },
   "source": "test_df = homrep_df_copy\n\ntest_num = test_df[test_df['Weapon'] == 'Handgun'].groupby('State').Weapon.count()\ntest_den = test_df.groupby(['State']).Weapon.count()\n\ntest_quo = test_num / test_den\ntest_quo.sort_values(ascending=False).head(50)",
   "execution_count": 102,
   "outputs": [
    {
     "output_type": "execute_result",
     "execution_count": 102,
     "data": {
      "text/plain": "State\nMaryland                0.629968\nLouisiana               0.624892\nIllinois                0.598817\nGeorgia                 0.564302\nMississippi             0.562786\nAlabama                 0.558368\nCalifornia              0.555495\nPennsylvania            0.548853\nArizona                 0.548054\nDistrict of Columbia    0.541532\nNew York                0.536900\nIndiana                 0.526564\nKentucky                0.498779\nTennessee               0.485934\nTexas                   0.480602\nNew Jersey              0.480470\nOhio                    0.480426\nConnecticut             0.476307\nOklahoma                0.473152\nSouth Carolina          0.471448\nArkansas                0.457752\nVirginia                0.457539\nNevada                  0.454709\nNorth Carolina          0.452035\nWisconsin               0.440963\nWashington              0.426232\nNew Mexico              0.418305\nColorado                0.410284\nMichigan                0.409765\nMinnesota               0.409560\nNebraska                0.395943\nWest Virginia           0.393009\nKansas                  0.392545\nFlorida                 0.382440\nUtah                    0.379734\nDelaware                0.376590\nMontana                 0.374376\nMissouri                0.373247\nIdaho                   0.363478\nWyoming                 0.360317\nAlaska                  0.338899\nOregon                  0.336495\nMassachusetts           0.313121\nIowa                    0.295597\nVermont                 0.291262\nNew Hampshire           0.277863\nMaine                   0.268124\nHawaii                  0.266816\nRhodes Island           0.260116\nNorth Dakota            0.224026\nName: Weapon, dtype: float64"
     },
     "metadata": {}
    }
   ]
  },
  {
   "cell_type": "code",
   "metadata": {
    "cell_id": "00140-4738928c-57c2-4042-ae9d-082a3dbe8ef3",
    "deepnote_to_be_reexecuted": false,
    "source_hash": "b7445dc9",
    "execution_start": 1657136578457,
    "execution_millis": 14,
    "deepnote_cell_type": "code",
    "deepnote_cell_height": 118.30000305175781,
    "deepnote_output_heights": [
     21
    ]
   },
   "source": "test_quo.sort_values(ascending=False).head(50).mean()",
   "execution_count": 103,
   "outputs": [
    {
     "output_type": "execute_result",
     "execution_count": 103,
     "data": {
      "text/plain": "0.432895871084518"
     },
     "metadata": {}
    }
   ]
  },
  {
   "cell_type": "markdown",
   "source": "Phase 8: Analyzing the Agency Type against the Year, State, and City variables \n\nSteps: \n1. Determine the count of homicide cases per Agency for each year from 1980-2014. This will be done first by an individual count per year for a bit more analysis, then it will be visualized using a graph to compare againt the other agencies overtime.\n2. Determine the count of homicide cases per Agent for each State. In addition to this, the same set of conditions will be checked per year for more analysis.\n3. Repeat Step 2 but for each City.\n\nFindings:\n<li>Throughout the years, the agencies have decreased overtime in a fluctuatory manner. However, the one that has the most impact would be the Municipal Police, as these agencies have the highest reported homicide cases overall as well as the one that fluctuates by the highest intervals. </li>\n<li>It is worth mentioning that the shape of the Municipal Police cases bears a striking similarity to the homicide cases of blacks per year, as well as that of males per year.</li>\n<li>As expected, the highest homicide recordings per state tend to be dominated by the municipal police of each state, and as such, the least homicide recordingsare dominated mostly by the regional police or the special police of each state, even most states with the highest homicide case recordings</li>\n<li>When examining the number of homicide cases with respect to the Year and State,the highest 60 homicide recorded are all by Municipal Police. In addition to this, these casesare dominated by that of the California Municipal Police (followed by that of New York, then Texas) <li>\n<li>When examining the number of homicide cases with respect to the Year and City,the highest 60 homicide recorded are all by Municipal Police. However unlike with that of the States, wherethe top spots were most dominated by California, here it is split between the city of New York (New York) and Los Angeles (California), with the top 5 spots all taken by the former</li>",
   "metadata": {
    "cell_id": "00141-343a3f98-04f1-42ce-aa99-5a8b34e11ce5",
    "deepnote_cell_type": "markdown",
    "deepnote_cell_height": 625.4000244140625
   }
  },
  {
   "cell_type": "code",
   "metadata": {
    "cell_id": "00142-f11cf2dd-23bd-4a85-be6b-aa635308255e",
    "deepnote_to_be_reexecuted": false,
    "source_hash": "9f85556d",
    "execution_start": 1657136578474,
    "execution_millis": 279,
    "deepnote_cell_type": "code",
    "deepnote_cell_height": 762.2999877929688,
    "deepnote_output_heights": [
     611
    ]
   },
   "source": "test_df = homrep_df_copy[homrep_df_copy['Year'] >= 1980]\ntest_df = test_df[test_df['Year'] <= 1988]\n\ntest_df.groupby(['Year','Agency Type']).Weapon.count().head(60)",
   "execution_count": 104,
   "outputs": [
    {
     "output_type": "execute_result",
     "execution_count": 104,
     "data": {
      "text/plain": "Year  Agency Type     \n1980  County Police         652\n      Municipal Police    17636\n      Regional Police        10\n      Sheriff              3946\n      Special Police         91\n      State Police          757\n1981  County Police         655\n      Municipal Police    16196\n      Regional Police         8\n      Sheriff              3667\n      Special Police         87\n      State Police          595\n1982  County Police         679\n      Municipal Police    15471\n      Regional Police        12\n      Sheriff              3736\n      Special Police         80\n      State Police          564\n      Tribal Police           2\n1983  County Police         580\n      Municipal Police    15174\n      Regional Police         7\n      Sheriff              3295\n      Special Police         65\n      State Police          531\n      Tribal Police           1\n1984  County Police         528\n      Municipal Police    13661\n      Regional Police         8\n      Sheriff              3329\n      Special Police         66\n      State Police          497\n      Tribal Police           4\n1985  County Police         498\n      Municipal Police    13819\n      Regional Police         9\n      Sheriff              3459\n      Special Police         85\n      State Police          516\n1986  County Police         536\n      Municipal Police    15544\n      Regional Police         7\n      Sheriff              3445\n      Special Police         92\n      State Police          495\n      Tribal Police           6\n1987  County Police         511\n      Municipal Police    14313\n      Regional Police         4\n      Sheriff              3431\n      Special Police        113\n      State Police          409\n      Tribal Police           2\n1988  County Police         467\n      Municipal Police    14800\n      Regional Police         8\n      Sheriff              3032\n      Special Police         82\n      State Police          390\nName: Weapon, dtype: int64"
     },
     "metadata": {}
    }
   ]
  },
  {
   "cell_type": "code",
   "metadata": {
    "cell_id": "00143-57a71362-1a53-4b34-8979-29071b36195a",
    "deepnote_to_be_reexecuted": false,
    "source_hash": "cf2ec5f6",
    "execution_start": 1657136578735,
    "execution_millis": 650,
    "deepnote_cell_type": "code",
    "deepnote_cell_height": 762.2999877929688,
    "deepnote_output_heights": [
     611
    ]
   },
   "source": "test_df = homrep_df_copy[homrep_df_copy['Year'] >= 1989]\ntest_df = test_df[test_df['Year'] <= 1996]\n\ntest_df.groupby(['Year','Agency Type']).Weapon.count().head(60)",
   "execution_count": 105,
   "outputs": [
    {
     "output_type": "execute_result",
     "execution_count": 105,
     "data": {
      "text/plain": "Year  Agency Type     \n1989  County Police         505\n      Municipal Police    15849\n      Regional Police         5\n      Sheriff              2944\n      Special Police         70\n      State Police          495\n1990  County Police         548\n      Municipal Police    16973\n      Regional Police         7\n      Sheriff              3147\n      Special Police         98\n      State Police          473\n1991  County Police         601\n      Municipal Police    18383\n      Regional Police         8\n      Sheriff              3105\n      Special Police         91\n      State Police          469\n1992  County Police         756\n      Municipal Police    19037\n      Regional Police         6\n      Sheriff              3456\n      Special Police         95\n      State Police          442\n      Tribal Police           1\n1993  County Police         858\n      Municipal Police    19489\n      Regional Police         3\n      Sheriff              3446\n      Special Police         95\n      State Police          443\n      Tribal Police           1\n1994  County Police         792\n      Municipal Police    18553\n      Regional Police         6\n      Sheriff              3455\n      Special Police         93\n      State Police          347\n1995  County Police         796\n      Municipal Police    16635\n      Regional Police         5\n      Sheriff              3219\n      Special Police        104\n      State Police          420\n1996  County Police         774\n      Municipal Police    14647\n      Regional Police         6\n      Sheriff              3118\n      Special Police         65\n      State Police          358\n      Tribal Police           1\nName: Weapon, dtype: int64"
     },
     "metadata": {}
    }
   ]
  },
  {
   "cell_type": "code",
   "metadata": {
    "cell_id": "00144-9ce71e52-33ce-4221-a5f7-e898ff74aebc",
    "deepnote_to_be_reexecuted": false,
    "source_hash": "b6c49347",
    "execution_start": 1657136578964,
    "execution_millis": 544,
    "deepnote_cell_type": "code",
    "deepnote_cell_height": 762.2999877929688,
    "deepnote_output_heights": [
     611
    ]
   },
   "source": "test_df = homrep_df_copy[homrep_df_copy['Year'] >= 1997]\ntest_df = test_df[test_df['Year'] <= 2003]\n\ntest_df.groupby(['Year','Agency Type']).Weapon.count().head(60)",
   "execution_count": 106,
   "outputs": [
    {
     "output_type": "execute_result",
     "execution_count": 106,
     "data": {
      "text/plain": "Year  Agency Type     \n1997  County Police         692\n      Municipal Police    13802\n      Regional Police         2\n      Sheriff              2920\n      Special Police         30\n      State Police          348\n1998  County Police         653\n      Municipal Police    12221\n      Regional Police         3\n      Sheriff              2741\n      Special Police         50\n      State Police          393\n1999  County Police         584\n      Municipal Police    11184\n      Regional Police         4\n      Sheriff              2456\n      Special Police         65\n      State Police          323\n      Tribal Police           5\n2000  County Police         526\n      Municipal Police    11384\n      Regional Police         3\n      Sheriff              2436\n      Special Police         62\n      State Police          258\n      Tribal Police           2\n2001  County Police         685\n      Municipal Police    12187\n      Regional Police         5\n      Sheriff              2591\n      Special Police         89\n      State Police          244\n      Tribal Police           2\n2002  County Police         756\n      Municipal Police    12334\n      Regional Police         5\n      Sheriff              2780\n      Special Police        101\n      State Police          292\n2003  County Police         765\n      Municipal Police    12760\n      Regional Police         6\n      Sheriff              2649\n      Special Police        103\n      State Police          228\n      Tribal Police           1\nName: Weapon, dtype: int64"
     },
     "metadata": {}
    }
   ]
  },
  {
   "cell_type": "code",
   "metadata": {
    "cell_id": "00145-ab30ecd6-9e18-4ffd-839b-b93406bfc381",
    "deepnote_to_be_reexecuted": false,
    "source_hash": "6ff32e5f",
    "execution_start": 1657136579118,
    "execution_millis": 392,
    "deepnote_cell_type": "code",
    "deepnote_cell_height": 762.2999877929688,
    "deepnote_output_heights": [
     611
    ]
   },
   "source": "test_df = homrep_df_copy[homrep_df_copy['Year'] >= 2004]\ntest_df = test_df[test_df['Year'] <= 2010]\n\ntest_df.groupby(['Year','Agency Type']).Weapon.count().head(60)",
   "execution_count": 107,
   "outputs": [
    {
     "output_type": "execute_result",
     "execution_count": 107,
     "data": {
      "text/plain": "Year  Agency Type     \n2004  County Police         706\n      Municipal Police    12281\n      Regional Police         5\n      Sheriff              2748\n      Special Police        112\n      State Police          379\n      Tribal Police           2\n2005  County Police         776\n      Municipal Police    12929\n      Regional Police         4\n      Sheriff              2685\n      Special Police        111\n      State Police          331\n2006  County Police         812\n      Municipal Police    13181\n      Regional Police        10\n      Sheriff              2827\n      Special Police        115\n      State Police          328\n      Tribal Police           2\n2007  County Police         795\n      Municipal Police    13220\n      Regional Police        12\n      Sheriff              2787\n      Special Police        103\n      State Police          385\n      Tribal Police           1\n2008  County Police         750\n      Municipal Police    11680\n      Regional Police        11\n      Sheriff              2723\n      Special Police        103\n      State Police          326\n      Tribal Police           2\n2009  County Police         683\n      Municipal Police    11860\n      Regional Police         8\n      Sheriff              2834\n      Special Police         89\n      State Police          363\n      Tribal Police           3\n2010  County Police         670\n      Municipal Police    11327\n      Regional Police         6\n      Sheriff              2676\n      Special Police         94\n      State Police          342\n      Tribal Police           6\nName: Weapon, dtype: int64"
     },
     "metadata": {}
    }
   ]
  },
  {
   "cell_type": "code",
   "metadata": {
    "cell_id": "00146-36b59aef-39e1-440f-8ca5-0dfa0f60d7cb",
    "deepnote_to_be_reexecuted": false,
    "source_hash": "f44339a6",
    "execution_start": 1657136579224,
    "execution_millis": 60,
    "deepnote_cell_type": "code",
    "deepnote_cell_height": 729.2999877929688,
    "deepnote_output_heights": [
     578
    ]
   },
   "source": "test_df = homrep_df_copy[homrep_df_copy['Year'] >= 2011]\ntest_df = test_df[test_df['Year'] <= 2014]\n\ntest_df.groupby(['Year','Agency Type']).Weapon.count().head(60)",
   "execution_count": 108,
   "outputs": [
    {
     "output_type": "execute_result",
     "execution_count": 108,
     "data": {
      "text/plain": "Year  Agency Type     \n2011  County Police         666\n      Municipal Police    11086\n      Regional Police         7\n      Sheriff              2546\n      Special Police         91\n      State Police          358\n      Tribal Police           2\n2012  County Police         499\n      Municipal Police    11530\n      Regional Police         9\n      Sheriff              2547\n      Special Police         34\n      State Police          410\n      Tribal Police           4\n2013  County Police         464\n      Municipal Police    10937\n      Regional Police        13\n      Sheriff              2613\n      Special Police         37\n      State Police          380\n      Tribal Police           1\n2014  County Police         475\n      Municipal Police    10943\n      Regional Police         3\n      Sheriff              2533\n      Special Police         28\n      State Police          346\n      Tribal Police           3\nName: Weapon, dtype: int64"
     },
     "metadata": {}
    }
   ]
  },
  {
   "cell_type": "code",
   "metadata": {
    "cell_id": "00147-323064da-1c89-495a-9d77-63bf1fa0fba6",
    "deepnote_to_be_reexecuted": false,
    "source_hash": "495dfa37",
    "execution_start": 1657136579288,
    "execution_millis": 2040,
    "deepnote_cell_type": "code",
    "deepnote_cell_height": 1158.300048828125,
    "deepnote_output_heights": [
     611
    ]
   },
   "source": "ax = plt.subplots()\nf_size = (15,20)\n\ntest_df = homrep_df_copy[homrep_df_copy['Agency Type'] == 'Municipal Police']\ntest_df.groupby('Year').count().Weapon.plot(label = 'Municipal Police', figsize = f_size)\n\ntest_df = homrep_df_copy[homrep_df_copy['Agency Type'] == 'County Police']\ntest_df.groupby('Year').count().Weapon.plot(label = 'County Police', figsize = f_size)\n\ntest_df = homrep_df_copy[homrep_df_copy['Agency Type'] == 'State Police']\ntest_df.groupby('Year').count().Weapon.plot(label = 'State Police', figsize = f_size)\n\ntest_df = homrep_df_copy[homrep_df_copy['Agency Type'] == 'Sheriff']\ntest_df.groupby('Year').count().Weapon.plot(label = 'Sheriff', figsize = f_size)\n\ntest_df = homrep_df_copy[homrep_df_copy['Agency Type'] == 'Special Police']\ntest_df.groupby('Year').count().Weapon.plot(label = 'Special Police', figsize = f_size)\n\ntest_df = homrep_df_copy[homrep_df_copy['Agency Type'] == 'Regional Police']\ntest_df.groupby('Year').count().Weapon.plot(label = 'Regional Police', figsize = f_size)\n\ntest_df = homrep_df_copy[homrep_df_copy['Agency Type'] == 'Tribal Police']\ntest_df.groupby('Year').count().Weapon.plot(label = 'Tribal Police', figsize = f_size)\n\nplt.legend(loc='upper right')\nplt.show()",
   "execution_count": 109,
   "outputs": [
    {
     "data": {
      "text/plain": "<Figure size 1080x1440 with 1 Axes>",
      "image/png": "[encoded data removed]"
     },
     "metadata": {
      "needs_background": "light",
      "image/png": {
       "width": 890,
       "height": 1132
      }
     },
     "output_type": "display_data"
    }
   ]
  },
  {
   "cell_type": "code",
   "metadata": {
    "cell_id": "00148-7f8772a6-f7d6-4eec-9b60-41c73c3cc8f2",
    "deepnote_to_be_reexecuted": false,
    "source_hash": "a7fa6c98",
    "execution_start": 1657136581330,
    "execution_millis": 892,
    "deepnote_cell_type": "code",
    "deepnote_cell_height": 726.2999877929688,
    "deepnote_output_heights": [
     611
    ]
   },
   "source": "test_df = homrep_df_copy\ntest_df.groupby(['State','Agency Type']).Weapon.count().sort_values(ascending=False).head(60)",
   "execution_count": 110,
   "outputs": [
    {
     "output_type": "execute_result",
     "execution_count": 110,
     "data": {
      "text/plain": "State                 Agency Type     \nCalifornia            Municipal Police    79787\nTexas                 Municipal Police    50231\nNew York              Municipal Police    45837\nMichigan              Municipal Police    25675\nIllinois              Municipal Police    25147\nFlorida               Municipal Police    21417\nPennsylvania          Municipal Police    21233\nCalifornia            Sheriff             19494\nOhio                  Municipal Police    15714\nLouisiana             Municipal Police    14218\nNew Jersey            Municipal Police    13787\nMissouri              Municipal Police    12664\nGeorgia               Municipal Police    12639\nNorth Carolina        Municipal Police    12354\nTennessee             Municipal Police    12000\nTexas                 Sheriff             11819\nFlorida               Sheriff             11286\nArizona               Municipal Police    10496\nMaryland              Municipal Police    10198\nVirginia              Municipal Police     9921\nIndiana               Municipal Police     9565\nAlabama               Municipal Police     8916\nNorth Carolina        Sheriff              7833\nDistrict of Columbia  Municipal Police     7108\nOklahoma              Municipal Police     6677\nSouth Carolina        Sheriff              6643\nMassachusetts         Municipal Police     5964\nMaryland              County Police        5712\nLouisiana             Sheriff              5400\nColorado              Municipal Police     5313\nWisconsin             Municipal Police     5267\nWashington            Municipal Police     4923\nMississippi           Municipal Police     4774\nSouth Carolina        Municipal Police     4649\nArkansas              Municipal Police     4557\nConnecticut           Municipal Police     4553\nFlorida               County Police        4263\nGeorgia               County Police        4263\n                      Sheriff              4154\nNevada                County Police        3556\nVirginia              Sheriff              3356\nMinnesota             Municipal Police     3298\nKentucky              Municipal Police     3258\nNew Mexico            Municipal Police     2956\nWashington            Sheriff              2868\nTennessee             Sheriff              2820\nPennsylvania          State Police         2746\nOregon                Municipal Police     2647\nKentucky              State Police         2603\nKansas                Municipal Police     2484\nAlabama               Sheriff              2451\nArkansas              Sheriff              2382\nArizona               Sheriff              2365\nOklahoma              Sheriff              2126\nVirginia              County Police        1853\nOhio                  Sheriff              1782\nMississippi           Sheriff              1768\nMichigan              Sheriff              1624\nMissouri              Sheriff              1614\nOhio                  Special Police       1602\nName: Weapon, dtype: int64"
     },
     "metadata": {}
    }
   ]
  },
  {
   "cell_type": "code",
   "metadata": {
    "cell_id": "00149-fc9f8f9c-8751-4ac5-88f2-4860b0139927",
    "deepnote_to_be_reexecuted": false,
    "source_hash": "b7ede520",
    "execution_start": 1657136581523,
    "execution_millis": 733,
    "deepnote_cell_type": "code",
    "deepnote_cell_height": 726.2999877929688,
    "deepnote_output_heights": [
     611
    ]
   },
   "source": "test_df = homrep_df_copy\ntest_df.groupby(['State','Agency Type']).Weapon.count().sort_values(ascending=False).tail(60)",
   "execution_count": 111,
   "outputs": [
    {
     "output_type": "execute_result",
     "execution_count": 111,
     "data": {
      "text/plain": "State                 Agency Type    \nVirginia              Special Police     28\nPennsylvania          Sheriff            27\nIllinois              State Police       23\nIdaho                 State Police       22\nMassachusetts         State Police       22\nCalifornia            State Police       20\nNorth Carolina        Special Police     20\nKansas                State Police       18\nMassachusetts         Regional Police    17\nFlorida               Tribal Police      17\nWashington            Tribal Police      14\nUtah                  State Police       14\nIdaho                 Special Police     13\nIndiana               Special Police     12\nWisconsin             Tribal Police      11\nLouisiana             Special Police     11\nMichigan              Special Police     11\nNew Mexico            Tribal Police      10\nWashington            Special Police     10\nArizona               Special Police     10\nAlabama               Special Police      9\nUtah                  Special Police      8\nSouth Carolina        Special Police      8\nTexas                 Regional Police     8\nArkansas              Special Police      8\nNew Mexico            County Police       8\nColorado              State Police        7\nDistrict of Columbia  Special Police      7\nNew Jersey            Special Police      7\nWisconsin             Regional Police     7\nNew York              Regional Police     7\nOhio                  Regional Police     6\nOklahoma              Special Police      6\nPennsylvania          County Police       5\nNew Mexico            Special Police      5\nMissouri              Special Police      5\nColorado              Special Police      5\nNew Jersey            Regional Police     5\nVermont               Sheriff             4\nNew Hampshire         Sheriff             4\nMississippi           Special Police      4\nMinnesota             Regional Police     4\nKansas                Special Police      4\nIllinois              Special Police      4\nNorth Carolina        State Police        3\nKentucky              Special Police      3\nWisconsin             Special Police      3\nSouth Carolina        State Police        3\nOregon                Tribal Police       2\nAlaska                Special Police      2\nNevada                Special Police      2\nConnecticut           Special Police      2\nDelaware              Special Police      1\nIowa                  Special Police      1\nMassachusetts         Sheriff             1\nVermont               Special Police      1\nTennessee             State Police        1\nRhodes Island         Special Police      1\n                      Sheriff             1\nWyoming               Special Police      1\nName: Weapon, dtype: int64"
     },
     "metadata": {}
    }
   ]
  },
  {
   "cell_type": "code",
   "metadata": {
    "cell_id": "00150-95299414-ba17-4c86-b12b-58024bfcface",
    "deepnote_to_be_reexecuted": false,
    "source_hash": "54c2d5f7",
    "execution_start": 1657136581716,
    "execution_millis": 544,
    "deepnote_cell_type": "code",
    "deepnote_cell_height": 726.2999877929688,
    "deepnote_output_heights": [
     611
    ]
   },
   "source": "test_df = homrep_df_copy\ntest_df.groupby(['Year','State','Agency Type']).Weapon.count().sort_values(ascending=False).head(60)",
   "execution_count": 112,
   "outputs": [
    {
     "output_type": "execute_result",
     "execution_count": 112,
     "data": {
      "text/plain": "Year  State       Agency Type     \n1993  California  Municipal Police    3547\n1992  California  Municipal Police    3434\n1991  California  Municipal Police    3372\n1994  California  Municipal Police    3185\n1990  California  Municipal Police    3103\n1995  California  Municipal Police    3012\n1980  California  Municipal Police    2808\n1989  California  Municipal Police    2785\n1986  California  Municipal Police    2541\n1996  California  Municipal Police    2507\n1988  California  Municipal Police    2474\n1987  California  Municipal Police    2437\n1993  New York    Municipal Police    2372\n1991  Texas       Municipal Police    2363\n1992  New York    Municipal Police    2333\n1982  California  Municipal Police    2328\n1991  New York    Municipal Police    2291\n1985  California  Municipal Police    2289\n1983  California  Municipal Police    2244\n1981  California  Municipal Police    2238\n1997  California  Municipal Police    2236\n1984  California  Municipal Police    2204\n1990  New York    Municipal Police    2152\n2006  California  Municipal Police    2146\n2002  California  Municipal Police    2110\n2005  California  Municipal Police    2097\n2003  California  Municipal Police    2092\n1990  Texas       Municipal Police    2088\n2004  California  Municipal Police    2063\n1988  New York    Municipal Police    2039\n1980  New York    Municipal Police    2038\n1992  Texas       Municipal Police    1993\n2007  California  Municipal Police    1974\n1980  Texas       Municipal Police    1974\n1983  New York    Municipal Police    1961\n1994  New York    Municipal Police    1950\n2001  California  Municipal Police    1926\n1986  Texas       Municipal Police    1923\n1983  Texas       Municipal Police    1912\n1993  Texas       Municipal Police    1910\n1982  New York    Municipal Police    1871\n1998  California  Municipal Police    1871\n1981  Texas       Municipal Police    1847\n2000  California  Municipal Police    1840\n1989  New York    Municipal Police    1836\n      Texas       Municipal Police    1805\n1985  Texas       Municipal Police    1783\n1984  Texas       Municipal Police    1776\n1994  Texas       Municipal Police    1762\n1987  New York    Municipal Police    1759\n1984  New York    Municipal Police    1735\n1999  California  Municipal Police    1725\n1981  New York    Municipal Police    1721\n2008  California  Municipal Police    1711\n2009  California  Municipal Police    1707\n2012  California  Municipal Police    1671\n1987  Texas       Municipal Police    1630\n1988  Texas       Municipal Police    1618\n1986  New York    Municipal Police    1579\n2010  California  Municipal Police    1555\nName: Weapon, dtype: int64"
     },
     "metadata": {}
    }
   ]
  },
  {
   "cell_type": "code",
   "metadata": {
    "cell_id": "00151-112a1a3e-d525-487f-a8df-9bd601d4eb68",
    "deepnote_to_be_reexecuted": false,
    "source_hash": "fc58673d",
    "execution_start": 1657136581926,
    "execution_millis": 381,
    "deepnote_cell_type": "code",
    "deepnote_cell_height": 726.2999877929688,
    "deepnote_output_heights": [
     611
    ]
   },
   "source": "test_df = homrep_df_copy\ntest_df.groupby(['Year','State','Agency Type']).Weapon.count().sort_values(ascending=False).tail(60)",
   "execution_count": 113,
   "outputs": [
    {
     "output_type": "execute_result",
     "execution_count": 113,
     "data": {
      "text/plain": "Year  State           Agency Type    \n1997  Michigan        Special Police     1\n1987  New Mexico      County Police      1\n2012  Maryland        Special Police     1\n1988  New York        Special Police     1\n      North Carolina  Special Police     1\n2009  North Carolina  Special Police     1\n1997  Virginia        Special Police     1\n2012  Louisiana       Special Police     1\n1988  Oklahoma        Special Police     1\n1997  South Dakota    Sheriff            1\n      Pennsylvania    Special Police     1\n2009  Pennsylvania    Sheriff            1\n1997  Pennsylvania    Regional Police    1\n      Oregon          State Police       1\n2012  Kansas          County Police      1\n1988  Tennessee       Special Police     1\n      Texas           Special Police     1\n2009  Rhodes Island   State Police       1\n1988  Virginia        Special Police     1\n1997  Ohio            Special Police     1\n      North Carolina  State Police       1\n      New York        Special Police     1\n1989  Georgia         Special Police     1\n1997  New Mexico      Special Police     1\n      New Jersey      County Police      1\n1989  Massachusetts   State Police       1\n      Michigan        Regional Police    1\n2009  Texas           Special Police     1\n1989  Missouri        Special Police     1\n1988  New Mexico      County Police      1\n1998  Arkansas        Special Police     1\n2012  Massachusetts   State Police       1\n1987  Texas           Special Police     1\n      New York        Regional Police    1\n2009  Massachusetts   State Police       1\n      Michigan        Regional Police    1\n2012  New York        Regional Police    1\n1998  Pennsylvania    Special Police     1\n                      Regional Police    1\n2009  Minnesota       Regional Police    1\n1998  New Mexico      Special Police     1\n      Nevada          Special Police     1\n2012  New Jersey      Special Police     1\n1987  Rhodes Island   State Police       1\n1998  Nebraska        State Police       1\n2009  Nebraska        Sheriff            1\n1988  Nebraska        State Police       1\n1987  Virginia        Special Police     1\n      Washington      Tribal Police      1\n1998  Maine           Sheriff            1\n      Louisiana       Special Police     1\n      Kentucky        State Police       1\n1988  California      State Police       1\n1998  Indiana         Special Police     1\n2012  Mississippi     Special Police     1\n2009  New Mexico      Tribal Police      1\n1988  Massachusetts   State Police       1\n      Michigan        Special Police     1\n      Missouri        Special Police     1\n1986  New York        Regional Police    1\nName: Weapon, dtype: int64"
     },
     "metadata": {}
    }
   ]
  },
  {
   "cell_type": "code",
   "metadata": {
    "scrolled": false,
    "cell_id": "00152-3d89cc08-6bea-4767-bac7-0079b87f1911",
    "deepnote_to_be_reexecuted": false,
    "source_hash": "cd735dc2",
    "execution_start": 1657136582138,
    "execution_millis": 282,
    "deepnote_cell_type": "code",
    "deepnote_cell_height": 726.2999877929688,
    "deepnote_output_heights": [
     611
    ]
   },
   "source": "test_df = homrep_df_copy\ntest_df.groupby(['City','State','Agency Type']).Weapon.count().sort_values(ascending=False).head(60)",
   "execution_count": 114,
   "outputs": [
    {
     "output_type": "execute_result",
     "execution_count": 114,
     "data": {
      "text/plain": "City                  State                 Agency Type     \nLos Angeles           California            Municipal Police    38907\nNew York              New York              Municipal Police    38416\nCook                  Illinois              Municipal Police    22259\nWayne                 Michigan              Municipal Police    18904\nHarris                Texas                 Municipal Police    13632\nPhiladelphia          Pennsylvania          Municipal Police    12848\nDallas                Texas                 Municipal Police    11062\nBaltimore city        Maryland              Municipal Police     9331\nOrleans               Louisiana             Municipal Police     7846\nMaricopa              Arizona               Municipal Police     7844\nDistrict of Columbia  District of Columbia  Municipal Police     7108\nSt. Louis city        Missouri              Municipal Police     5955\nFulton                Georgia               Municipal Police     5952\nLos Angeles           California            Sheriff              5582\nShelby                Tennessee             Municipal Police     5426\nAlameda               California            Municipal Police     5290\nBexar                 Texas                 Municipal Police     5083\nCuyahoga              Ohio                  Municipal Police     4812\nDade                  Florida               Municipal Police     4786\nEssex                 New Jersey            Municipal Police     4747\nSan Bernardino        California            Municipal Police     4323\nDade                  Florida               County Police        4263\nJackson               Missouri              Municipal Police     4259\nTarrant               Texas                 Municipal Police     4252\nSan Diego             California            Municipal Police     4107\nMilwaukee             Wisconsin             Municipal Police     3806\nOrange                California            Municipal Police     3614\nClark                 Nevada                County Police        3556\nMarion                Indiana               Municipal Police     3555\nPrince George's       Maryland              County Police        3327\nDuval                 Florida               Municipal Police     3283\nFranklin              Ohio                  Municipal Police     3225\nJefferson             Alabama               Municipal Police     3205\nLake                  Indiana               Municipal Police     3037\nSan Francisco         California            Municipal Police     2994\nRichmond              Virginia              Municipal Police     2868\nDavidson              Tennessee             Municipal Police     2797\nOklahoma              Oklahoma              Municipal Police     2759\nMecklenburg           North Carolina        Municipal Police     2660\nHarris                Texas                 Sheriff              2654\nSuffolk               Massachusetts         Municipal Police     2625\nBroward               Florida               Municipal Police     2616\nAllegheny             Pennsylvania          Municipal Police     2506\nRiverside             California            Municipal Police     2487\nDenver                Colorado              Municipal Police     2356\nKing                  Washington            Municipal Police     2189\nFresno                California            Municipal Police     2120\nContra Costa          California            Municipal Police     2082\nEast Baton Rouge      Louisiana             Municipal Police     2032\nDe Kalb               Georgia               County Police        2027\nSacramento            California            Municipal Police     1921\nHennepin              Minnesota             Municipal Police     1890\nHinds                 Mississippi           Municipal Police     1886\nSanta Clara           California            Municipal Police     1874\nPulaski               Arkansas              Municipal Police     1869\nGenesee               Michigan              Municipal Police     1816\nErie                  New York              Municipal Police     1804\nTulsa                 Oklahoma              Municipal Police     1768\nPima                  Arizona               Municipal Police     1738\nPalm Beach            Florida               Municipal Police     1697\nName: Weapon, dtype: int64"
     },
     "metadata": {}
    }
   ]
  },
  {
   "cell_type": "code",
   "metadata": {
    "cell_id": "00153-8aff5029-ef7b-4eb5-9dce-3cf77cd51350",
    "deepnote_to_be_reexecuted": false,
    "source_hash": "d58e32e4",
    "execution_start": 1657136582423,
    "execution_millis": 291,
    "deepnote_cell_type": "code",
    "deepnote_cell_height": 726.2999877929688,
    "deepnote_output_heights": [
     611
    ]
   },
   "source": "test_df = homrep_df_copy\ntest_df.groupby(['Year','City','State','Agency Type']).Weapon.count().sort_values(ascending=False).head(60)",
   "execution_count": 115,
   "outputs": [
    {
     "output_type": "execute_result",
     "execution_count": 115,
     "data": {
      "text/plain": "Year  City         State       Agency Type     \n1992  New York     New York    Municipal Police    2089\n1991  New York     New York    Municipal Police    2081\n1993  New York     New York    Municipal Police    2064\n1990  New York     New York    Municipal Police    1935\n1988  New York     New York    Municipal Police    1839\n1992  Los Angeles  California  Municipal Police    1808\n1993  Los Angeles  California  Municipal Police    1801\n1980  New York     New York    Municipal Police    1801\n1983  New York     New York    Municipal Police    1758\n1991  Los Angeles  California  Municipal Police    1746\n1990  Los Angeles  California  Municipal Police    1666\n1982  New York     New York    Municipal Police    1661\n1994  New York     New York    Municipal Police    1655\n1989  New York     New York    Municipal Police    1645\n1980  Los Angeles  California  Municipal Police    1602\n1987  New York     New York    Municipal Police    1601\n1981  New York     New York    Municipal Police    1571\n1984  New York     New York    Municipal Police    1558\n1994  Los Angeles  California  Municipal Police    1554\n1995  Los Angeles  California  Municipal Police    1512\n1989  Los Angeles  California  Municipal Police    1511\n1986  New York     New York    Municipal Police    1397\n1987  Los Angeles  California  Municipal Police    1339\n1982  Los Angeles  California  Municipal Police    1337\n1986  Los Angeles  California  Municipal Police    1330\n1985  New York     New York    Municipal Police    1301\n1996  Los Angeles  California  Municipal Police    1297\n1983  Los Angeles  California  Municipal Police    1282\n1988  Los Angeles  California  Municipal Police    1259\n1995  New York     New York    Municipal Police    1242\n1985  Los Angeles  California  Municipal Police    1241\n1984  Los Angeles  California  Municipal Police    1209\n1981  Los Angeles  California  Municipal Police    1199\n1997  Los Angeles  California  Municipal Police    1084\n2002  Los Angeles  California  Municipal Police    1066\n1980  Cook         Illinois    Municipal Police    1048\n1991  Cook         Illinois    Municipal Police    1045\n1981  Cook         Illinois    Municipal Police    1028\n1996  New York     New York    Municipal Police    1021\n1994  Cook         Illinois    Municipal Police    1004\n1992  Cook         Illinois    Municipal Police    1004\n2001  Los Angeles  California  Municipal Police    1003\n2003  Los Angeles  California  Municipal Police     951\n2000  Los Angeles  California  Municipal Police     933\n2005  Los Angeles  California  Municipal Police     928\n2006  Los Angeles  California  Municipal Police     916\n1993  Cook         Illinois    Municipal Police     915\n2004  Los Angeles  California  Municipal Police     907\n1998  Los Angeles  California  Municipal Police     872\n1983  Cook         Illinois    Municipal Police     854\n1982  Cook         Illinois    Municipal Police     847\n1989  Cook         Illinois    Municipal Police     822\n1995  Cook         Illinois    Municipal Police     821\n1999  Los Angeles  California  Municipal Police     813\n1996  Cook         Illinois    Municipal Police     800\n1987  Wayne        Michigan    Municipal Police     795\n1997  New York     New York    Municipal Police     792\n2007  Los Angeles  California  Municipal Police     771\n1997  Cook         Illinois    Municipal Police     763\n1986  Wayne        Michigan    Municipal Police     750\nName: Weapon, dtype: int64"
     },
     "metadata": {}
    }
   ]
  },
  {
   "cell_type": "markdown",
   "source": "Interesting Exploratory Data Analysis Questions Identified:\n1. Is there reason to believe that the number of Homicide cases have been increasing since 1980?\n2. Are there states that are experience more Homicide Cases than others? What about whether some states are successful or not? \n3. Is there a certain type of Perpetrator Age Group that generates the most homicide cases? If there is, has it changed throughout the years?",
   "metadata": {
    "cell_id": "00154-2d8cba4b-ab7f-40e9-b8b9-76c063e4e331",
    "deepnote_cell_type": "markdown",
    "deepnote_cell_height": 176.1999969482422
   }
  },
  {
   "cell_type": "markdown",
   "source": "1. Is there reason to believe that the number of Homicide cases have been increasing since 1980?\n\nWhen analyzing the total homicide cases per year from 1980-2014, as well as getting the mean and std homocide count for every 5 years, we can say that not only is there no reason to believe that homicide cases have been on the rise, but we can even say that there is reason to believe that homicide cases have actually been decreasing over these years. We can say this because, while the count has been fluctuatory over the years, it is visually seen going in a downturn over the years, especially when looking at the graph, sorting the year by total homicide cases, and checking the mean of the cases of every group of 5 years \n\nThe following Phases were used to answer this question: <br>\nPhase 4",
   "metadata": {
    "cell_id": "00155-5631ae92-3fc8-4977-a7d4-68235d9f8069",
    "deepnote_cell_type": "markdown",
    "deepnote_cell_height": 240.39999389648438
   }
  },
  {
   "cell_type": "markdown",
   "source": "2. Are there states that are experience more Homicide Cases than others? What about whether some states are more successful than others are solving cases? \n\nAfter getting the count of homicide cases per state (as well as city), and also checking it against certain factors such as Crime Type, Crime Solution Rate, Relationship, and Weapon, there are always certain countries that always come out on top. These countries include California, Texas, New York, Florida, Michigan, and Illinois, which combined make up a very significant proportion of the total homicide cases accross the United States. Judging from this, then the answer is Yes, there are some states that experience more Homicide Cases than others. For whether or not some states are more successful than others in solving cases, with a mean of 76.81% and a especially with an std of 11.47%, there are indeed some who are more successful than others when it comes to solving cases, as some states hae solved as much as 90% of their total homicide cases, while others (some of which are the same ones with the highest homicide cases) fall below the mean to a low 54.1%. \n\nThe following Phases were used to answer this question: <br>\nPhase 1 <br>\nPhase 7",
   "metadata": {
    "cell_id": "00156-137d3b1e-6aa9-47c7-aa2d-799f48f58693",
    "deepnote_cell_type": "markdown",
    "deepnote_cell_height": 352.3999938964844
   }
  },
  {
   "cell_type": "markdown",
   "source": "3. Is there a certain type of Perpetrator Age Group that generates the most homicide cases? If there is, has it changed throughout the years?\n\nFrom checking the total homicide cases per Perpetrator Age (in line with the Race, Sex, and Ethnicity of the Perpetrator). It seems that the majority of the ages of the Perpetrator lie around the ages 18-29, or those from their early adolesence up to their late 20s. This is evident from the simple count of each Perpetrator Age sorted by total homicide cases, as well as a Histogram conforming such an age group. Also, upon checking the mean age per year, as well as checking the homocide case counts for every 5 years, it seems like that age group has remaines relatively unchanged throughout the years (although the highest count of perpetrators have become slightly younger overtime). \n\nThe following Phases were used to answer this question: <br>\nPhase 2 <br>\nPhase 6",
   "metadata": {
    "cell_id": "00157-c1581909-22e6-484a-965d-8202849cb996",
    "deepnote_cell_type": "markdown",
    "deepnote_cell_height": 307.6000061035156
   }
  },
  {
   "cell_type": "markdown",
   "source": "## Research Questions ",
   "metadata": {
    "cell_id": "00158-bf1150d4-a3c8-4a43-a39e-31cb0921aa8e",
    "deepnote_cell_type": "markdown",
    "deepnote_cell_height": 70.19999694824219
   }
  },
  {
   "cell_type": "markdown",
   "source": "After performing the Exploratory Data Analysis and Data Visualization, we came up with research questions that we derived from performing the Exploratory Data Analysis. To answer the research questions, we will be performing `Statistical Inference for Means` and `Statistical Inference for Categorical Data` to arrive at a reliable conclusion. ",
   "metadata": {
    "cell_id": "00159-e7bc1030-b5c9-4f3d-aea8-d353a2569c0d",
    "deepnote_cell_type": "markdown",
    "deepnote_cell_height": 97.39999389648438
   }
  },
  {
   "cell_type": "markdown",
   "source": "## Research Question 1:",
   "metadata": {
    "cell_id": "00160-656b61fd-39f1-4cfe-9f6b-15a32aabc267",
    "deepnote_cell_type": "markdown",
    "deepnote_cell_height": 70.19999694824219
   }
  },
  {
   "cell_type": "markdown",
   "source": "**QUESTION:** Is there a significant difference on the victim age of homicide cases caused by men and women perpetrators?\n\n**COLUMNS TO BE USED:** `Perpetrator Sex ` - Sex of the perpetrator\n                        `Victim Age ` - Age of the victim\n\nFor this research question, we will be using `Statistical Inference for Means`",
   "metadata": {
    "cell_id": "00161-8aa11e0b-6005-432e-9cd4-3da7fd912d85",
    "deepnote_cell_type": "markdown",
    "deepnote_cell_height": 125.39999389648438
   }
  },
  {
   "cell_type": "markdown",
   "source": "\nWe will be using the sample data from the dataset of Homicide Reports from 1980 - 2014. \n\nWe set up our hypotheses as follows:\n\n**$H_0$  (null hypothesis):** There is no significant difference on the victim age of homicide cases caused by men and women perpetrators\n\n**$H_A$  (alternative hypothesis):**  There is a significant difference on the victim age of homicide cases caused by men and women perpetrators\n",
   "metadata": {
    "cell_id": "00162-a0fcbd0c-7a4d-4a76-8244-9ff00a8da819",
    "deepnote_cell_type": "markdown",
    "deepnote_cell_height": 206.60000610351562
   }
  },
  {
   "cell_type": "markdown",
   "source": "Now let's look at the summary statistics across the two groups, disregarding the \"Unknown\" field since that corresponds to Homicide Reports that are unsolved.",
   "metadata": {
    "cell_id": "00163-88600d99-f3e4-483b-a08d-e9c78e782365",
    "deepnote_cell_type": "markdown",
    "deepnote_cell_height": 75
   }
  },
  {
   "cell_type": "code",
   "metadata": {
    "cell_id": "00164-f6c7cf64-85b4-4cff-9f70-8c7f02aa2b4c",
    "deepnote_to_be_reexecuted": false,
    "source_hash": "18737f7c",
    "execution_start": 1657136582717,
    "execution_millis": 195,
    "deepnote_cell_type": "code",
    "deepnote_cell_height": 331.3999938964844
   },
   "source": "summary_stat = homrep_df_copy.groupby(\"Perpetrator Sex\").agg({\"Victim Age\": [\"mean\", \"median\", \"std\", len]})\nsummary_stat",
   "execution_count": 116,
   "outputs": [
    {
     "output_type": "execute_result",
     "execution_count": 116,
     "data": {
      "application/vnd.deepnote.dataframe.v3+json": {
       "column_count": 4,
       "row_count": 3,
       "columns": [
        {
         "name": "Victim Age mean",
         "dtype": "float64",
         "stats": {
          "unique_count": 3,
          "nan_count": 0,
          "min": "33.175734154942795",
          "max": "34.38844325374938",
          "histogram": [
           {
            "bin_start": 33.175734154942795,
            "bin_end": 33.29700506482345,
            "count": 1
           },
           {
            "bin_start": 33.29700506482345,
            "bin_end": 33.41827597470411,
            "count": 0
           },
           {
            "bin_start": 33.41827597470411,
            "bin_end": 33.53954688458477,
            "count": 0
           },
           {
            "bin_start": 33.53954688458477,
            "bin_end": 33.66081779446543,
            "count": 1
           },
           {
            "bin_start": 33.66081779446543,
            "bin_end": 33.78208870434609,
            "count": 0
           },
           {
            "bin_start": 33.78208870434609,
            "bin_end": 33.903359614226744,
            "count": 0
           },
           {
            "bin_start": 33.903359614226744,
            "bin_end": 34.0246305241074,
            "count": 0
           },
           {
            "bin_start": 34.0246305241074,
            "bin_end": 34.145901433988065,
            "count": 0
           },
           {
            "bin_start": 34.145901433988065,
            "bin_end": 34.26717234386872,
            "count": 0
           },
           {
            "bin_start": 34.26717234386872,
            "bin_end": 34.38844325374938,
            "count": 1
           }
          ]
         }
        },
        {
         "name": "Victim Age median",
         "dtype": "int64",
         "stats": {
          "unique_count": 2,
          "nan_count": 0,
          "min": "29",
          "max": "33",
          "histogram": [
           {
            "bin_start": 29,
            "bin_end": 29.4,
            "count": 2
           },
           {
            "bin_start": 29.4,
            "bin_end": 29.8,
            "count": 0
           },
           {
            "bin_start": 29.8,
            "bin_end": 30.2,
            "count": 0
           },
           {
            "bin_start": 30.2,
            "bin_end": 30.6,
            "count": 0
           },
           {
            "bin_start": 30.6,
            "bin_end": 31,
            "count": 0
           },
           {
            "bin_start": 31,
            "bin_end": 31.4,
            "count": 0
           },
           {
            "bin_start": 31.4,
            "bin_end": 31.8,
            "count": 0
           },
           {
            "bin_start": 31.8,
            "bin_end": 32.2,
            "count": 0
           },
           {
            "bin_start": 32.2,
            "bin_end": 32.6,
            "count": 0
           },
           {
            "bin_start": 32.6,
            "bin_end": 33,
            "count": 1
           }
          ]
         }
        },
        {
         "name": "Victim Age std",
         "dtype": "float64",
         "stats": {
          "unique_count": 3,
          "nan_count": 0,
          "min": "17.10702160403231",
          "max": "21.43410270934079",
          "histogram": [
           {
            "bin_start": 17.10702160403231,
            "bin_end": 17.53972971456316,
            "count": 1
           },
           {
            "bin_start": 17.53972971456316,
            "bin_end": 17.97243782509401,
            "count": 0
           },
           {
            "bin_start": 17.97243782509401,
            "bin_end": 18.405145935624855,
            "count": 1
           },
           {
            "bin_start": 18.405145935624855,
            "bin_end": 18.837854046155705,
            "count": 0
           },
           {
            "bin_start": 18.837854046155705,
            "bin_end": 19.27056215668655,
            "count": 0
           },
           {
            "bin_start": 19.27056215668655,
            "bin_end": 19.7032702672174,
            "count": 0
           },
           {
            "bin_start": 19.7032702672174,
            "bin_end": 20.13597837774825,
            "count": 0
           },
           {
            "bin_start": 20.13597837774825,
            "bin_end": 20.568686488279095,
            "count": 0
           },
           {
            "bin_start": 20.568686488279095,
            "bin_end": 21.001394598809945,
            "count": 0
           },
           {
            "bin_start": 21.001394598809945,
            "bin_end": 21.43410270934079,
            "count": 1
           }
          ]
         }
        },
        {
         "name": "Victim Age len",
         "dtype": "int64",
         "stats": {
          "unique_count": 3,
          "nan_count": 0,
          "min": "48548",
          "max": "399541",
          "histogram": [
           {
            "bin_start": 48548,
            "bin_end": 83647.3,
            "count": 1
           },
           {
            "bin_start": 83647.3,
            "bin_end": 118746.6,
            "count": 0
           },
           {
            "bin_start": 118746.6,
            "bin_end": 153845.90000000002,
            "count": 0
           },
           {
            "bin_start": 153845.90000000002,
            "bin_end": 188945.2,
            "count": 0
           },
           {
            "bin_start": 188945.2,
            "bin_end": 224044.5,
            "count": 1
           },
           {
            "bin_start": 224044.5,
            "bin_end": 259143.80000000002,
            "count": 0
           },
           {
            "bin_start": 259143.80000000002,
            "bin_end": 294243.10000000003,
            "count": 0
           },
           {
            "bin_start": 294243.10000000003,
            "bin_end": 329342.4,
            "count": 0
           },
           {
            "bin_start": 329342.4,
            "bin_end": 364441.7,
            "count": 0
           },
           {
            "bin_start": 364441.7,
            "bin_end": 399541,
            "count": 1
           }
          ]
         }
        },
        {
         "name": "_deepnote_index_column",
         "dtype": "object"
        }
       ],
       "rows": [
        {
         "Victim Age mean": 33.56993079014583,
         "Victim Age median": 33,
         "Victim Age std": 21.43410270934079,
         "Victim Age len": 48548,
         "_deepnote_index_column": "Female"
        },
        {
         "Victim Age mean": 33.175734154942795,
         "Victim Age median": 29,
         "Victim Age std": 17.10702160403231,
         "Victim Age len": 399541,
         "_deepnote_index_column": "Male"
        },
        {
         "Victim Age mean": 34.38844325374938,
         "Victim Age median": 29,
         "Victim Age std": 18.142616582002272,
         "Victim Age len": 190365,
         "_deepnote_index_column": "Unknown"
        }
       ]
      },
      "text/plain": "                Victim Age                          \n                      mean median        std     len\nPerpetrator Sex                                     \nFemale           33.569931     33  21.434103   48548\nMale             33.175734     29  17.107022  399541\nUnknown          34.388443     29  18.142617  190365",
      "text/html": "<div>\n<style scoped>\n    .dataframe tbody tr th:only-of-type {\n        vertical-align: middle;\n    }\n\n    .dataframe tbody tr th {\n        vertical-align: top;\n    }\n\n    .dataframe thead tr th {\n        text-align: left;\n    }\n\n    .dataframe thead tr:last-of-type th {\n        text-align: right;\n    }\n</style>\n<table border=\"1\" class=\"dataframe\">\n  <thead>\n    <tr>\n      <th></th>\n      <th colspan=\"4\" halign=\"left\">Victim Age</th>\n    </tr>\n    <tr>\n      <th></th>\n      <th>mean</th>\n      <th>median</th>\n      <th>std</th>\n      <th>len</th>\n    </tr>\n    <tr>\n      <th>Perpetrator Sex</th>\n      <th></th>\n      <th></th>\n      <th></th>\n      <th></th>\n    </tr>\n  </thead>\n  <tbody>\n    <tr>\n      <th>Female</th>\n      <td>33.569931</td>\n      <td>33</td>\n      <td>21.434103</td>\n      <td>48548</td>\n    </tr>\n    <tr>\n      <th>Male</th>\n      <td>33.175734</td>\n      <td>29</td>\n      <td>17.107022</td>\n      <td>399541</td>\n    </tr>\n    <tr>\n      <th>Unknown</th>\n      <td>34.388443</td>\n      <td>29</td>\n      <td>18.142617</td>\n      <td>190365</td>\n    </tr>\n  </tbody>\n</table>\n</div>"
     },
     "metadata": {}
    }
   ]
  },
  {
   "cell_type": "markdown",
   "source": "It appears that Male and Female perpetrators target the same Victim Age, but let us conduct a hypothesis test to prove if there really is no significant difference. \n",
   "metadata": {
    "cell_id": "00165-44224b58-cb79-4f19-ba1f-db8a1f0cfc56",
    "deepnote_cell_type": "markdown",
    "deepnote_cell_height": 75
   }
  },
  {
   "cell_type": "markdown",
   "source": "## Hypothesis Test",
   "metadata": {
    "cell_id": "00166-d8933dd0-4f9c-4a3b-8cfd-e94971c823c4",
    "deepnote_cell_type": "markdown",
    "deepnote_cell_height": 70.19999694824219
   }
  },
  {
   "cell_type": "markdown",
   "source": "Based on our sample, the difference in the means of the victim age per perpetrator sex is:",
   "metadata": {
    "cell_id": "00167-9e620429-f1de-42e1-9a32-c3a557105e8b",
    "deepnote_cell_type": "markdown",
    "deepnote_cell_height": 52.600006103515625
   }
  },
  {
   "cell_type": "code",
   "metadata": {
    "cell_id": "00168-223544ea-c5f7-4425-b3c5-976412e84ba1",
    "deepnote_to_be_reexecuted": false,
    "source_hash": "f42b59e1",
    "execution_start": 1657136582918,
    "execution_millis": 15,
    "deepnote_cell_type": "code",
    "deepnote_cell_height": 202.1999969482422
   },
   "source": "male_mean = summary_stat.loc[\"Male\"].loc[\"Victim Age\"].loc[\"mean\"]\nfemale_mean = summary_stat.loc[\"Female\"].loc[\"Victim Age\"].loc[\"mean\"]\n\ndiff = female_mean - male_mean \nprint('{:.2f}'.format(diff))\n",
   "execution_count": 117,
   "outputs": [
    {
     "name": "stdout",
     "text": "0.39\n",
     "output_type": "stream"
    }
   ]
  },
  {
   "cell_type": "markdown",
   "source": " We use a  𝑡 -test to compare the two means.",
   "metadata": {
    "cell_id": "00169-5daba4ed-682c-4582-ac97-52f5e6f14f56",
    "deepnote_cell_type": "markdown",
    "deepnote_cell_height": 52.600006103515625
   }
  },
  {
   "cell_type": "code",
   "metadata": {
    "cell_id": "00170-56041bbb-97d2-42c1-9ac1-3a6e088d9ba0",
    "deepnote_to_be_reexecuted": false,
    "source_hash": "97741ad2",
    "execution_start": 1657136582936,
    "execution_millis": 317,
    "deepnote_cell_type": "code",
    "deepnote_cell_height": 154.3000030517578,
    "deepnote_output_heights": [
     21
    ]
   },
   "source": "ttest_ind(homrep_df_copy[homrep_df_copy[\"Perpetrator Sex\"] == \"Male\"][\"Victim Age\"],\n          homrep_df_copy[homrep_df_copy[\"Perpetrator Sex\"] == \"Female\"][\"Victim Age\"],\n          equal_var = False)",
   "execution_count": 118,
   "outputs": [
    {
     "output_type": "execute_result",
     "execution_count": 118,
     "data": {
      "text/plain": "Ttest_indResult(statistic=-3.903952563904789, pvalue=9.474450639365212e-05)"
     },
     "metadata": {}
    }
   ]
  },
  {
   "cell_type": "markdown",
   "source": "The computed $p$-value is = 9.47\n\n\n## Insights and Conclusion for Research Question 1\n\nAt 5% significance level, since the p-value is greater than 0.05, we can conclude that it is not statistically significant and indicates strong evidence towards the null hypothesis.\n\nHence, we accept the null hypothesis and conclude that there is no significant difference on the victim age of homicide cases caused by men and women perpetrators",
   "metadata": {
    "cell_id": "00171-6b9cfca4-f7d3-4501-9c9e-8647fdeb9fa9",
    "deepnote_cell_type": "markdown",
    "deepnote_cell_height": 226.1999969482422
   }
  },
  {
   "cell_type": "markdown",
   "source": "While everyone regardless of their age should be careful of possible perpetrators, those in the age group of adults are at higher risk and should thus be extra vigilant. This population age group should be wary of anyone regardless of gender since both men and women perpetrators target this age group.",
   "metadata": {
    "cell_id": "00172-0313abaa-061a-4143-b6c9-78d2d17564b3",
    "deepnote_cell_type": "markdown",
    "deepnote_cell_height": 97.39999389648438
   }
  },
  {
   "cell_type": "markdown",
   "source": "## Research Question 2:",
   "metadata": {
    "cell_id": "00173-d68d1a25-37fb-47ea-ab9e-763d04117d48",
    "deepnote_cell_type": "markdown",
    "deepnote_cell_height": 70.19999694824219
   }
  },
  {
   "cell_type": "markdown",
   "source": "**QUESTION:** Is there a relationship between homicide cases that use handgun as weapon and the state it occured in?\n\n**COLUMNS TO BE USED:** `State ` - state where the homicide is reported\n                        `Weapon ` - weapon used by the perpetrator\n\nFor this research question, we will be using `Statistical Inference for Categorical Data`",
   "metadata": {
    "cell_id": "00174-31eae888-836a-44f4-96eb-be66ef5fc287",
    "deepnote_cell_type": "markdown",
    "deepnote_cell_height": 125.39999389648438
   }
  },
  {
   "cell_type": "markdown",
   "source": "We will be using the sample data from the dataset of Homicide Reports from 1980 - 2014. \n\n**$H_0$  (null hypothesis):** There is no relationship between homicide cases that use handgun as weapon and the state it occured in.\n\n**$H_A$  (alternative hypothesis):** There is a relationship between homicide cases that use handgun as weapon and the state it occured in.",
   "metadata": {
    "cell_id": "00175-96d2db79-d892-4d19-8a5f-7cdbc93eeb83",
    "deepnote_cell_type": "markdown",
    "deepnote_cell_height": 147.8000030517578
   }
  },
  {
   "cell_type": "markdown",
   "source": "First we will be clustering the Weapons and replace `Blunt Object `, `Strangulation `, `Unknown `, `Rifle `, `Knife `, `Firearm `, `Shotgun `, `Fall `,  `Drowning `, `Suffocation `, `Explosives `, `Fire `, `Drugs `, `Gun `, `Poison ` with \"Others\"",
   "metadata": {
    "cell_id": "00176-ca3dec39-483e-4e50-a70a-de32c1717a63",
    "deepnote_cell_type": "markdown",
    "deepnote_cell_height": 75
   }
  },
  {
   "cell_type": "code",
   "metadata": {
    "cell_id": "00177-8c73ca91-d18e-4f83-bdcd-041f6eafbe85",
    "deepnote_to_be_reexecuted": false,
    "source_hash": "1ae77d3f",
    "execution_start": 1657136583252,
    "execution_millis": 299,
    "deepnote_cell_type": "code",
    "deepnote_cell_height": 426.20001220703125,
    "deepnote_output_heights": [
     null,
     60
    ]
   },
   "source": "homrep_df_copy2 = homrep_df_copy.copy()\n\ncopy = homrep_df_copy2[\"Weapon\"] != \"Handgun\"\n\n# replace all values that are not \"Handgun\" with \"Others\"\nhomrep_df_copy2[\"Weapon\"][copy] = \"Others\"\n\n# displaying new value count after renaming the values\nhomrep_df_copy2[\"Weapon\"].value_counts()",
   "execution_count": 119,
   "outputs": [
    {
     "name": "stderr",
     "text": "<ipython-input-119-6f0507896607>:6: SettingWithCopyWarning: \nA value is trying to be set on a copy of a slice from a DataFrame\n\nSee the caveats in the documentation: https://pandas.pydata.org/pandas-docs/stable/user_guide/indexing.html#returning-a-view-versus-a-copy\n  homrep_df_copy2[\"Weapon\"][copy] = \"Others\"\n",
     "output_type": "stream"
    },
    {
     "output_type": "execute_result",
     "execution_count": 119,
     "data": {
      "text/plain": "Others     320970\nHandgun    317484\nName: Weapon, dtype: int64"
     },
     "metadata": {}
    }
   ]
  },
  {
   "cell_type": "markdown",
   "source": "Then, we count the number of homicide reports in each group for each State.",
   "metadata": {
    "cell_id": "00178-402c9c51-d760-463f-b89c-c32f975d7acc",
    "deepnote_cell_type": "markdown",
    "deepnote_cell_height": 52.600006103515625
   }
  },
  {
   "cell_type": "code",
   "metadata": {
    "cell_id": "00179-c222fc54-dd1e-4159-8d08-2acc6cc9231c",
    "deepnote_to_be_reexecuted": false,
    "source_hash": "64f3fb8c",
    "execution_start": 1657136583550,
    "execution_millis": 181,
    "deepnote_cell_type": "code",
    "deepnote_cell_height": 367.29998779296875,
    "deepnote_output_heights": [
     252
    ]
   },
   "source": "count =  homrep_df_copy2.groupby(\"Weapon\")[\"State\"].value_counts()\ncount",
   "execution_count": 120,
   "outputs": [
    {
     "output_type": "execute_result",
     "execution_count": 120,
     "data": {
      "text/plain": "Weapon   State       \nHandgun  California      55429\n         Texas           29843\n         New York        26452\n         Illinois        15492\n         Florida         14213\n                         ...  \nOthers   Wyoming           403\n         Montana           376\n         South Dakota      347\n         Vermont           292\n         North Dakota      239\nName: State, Length: 102, dtype: int64"
     },
     "metadata": {}
    }
   ]
  },
  {
   "cell_type": "markdown",
   "source": "At first glance, it appears that most homicide reports that use handgun as weapon is in California.\nBut we do not know if this difference is statistically significant, or just a result of a sampling error.",
   "metadata": {
    "cell_id": "00180-08fd4013-c367-40dc-ac72-fab52b83262e",
    "deepnote_cell_type": "markdown",
    "deepnote_cell_height": 75
   }
  },
  {
   "cell_type": "markdown",
   "source": "We will use a Chi-square test to determine whether there is a difference between the two groups, in terms of the distribution of their responses.",
   "metadata": {
    "cell_id": "00181-c0bb4b63-da8b-4dc6-b5a6-ed0af069f533",
    "deepnote_cell_type": "markdown",
    "deepnote_cell_height": 75
   }
  },
  {
   "cell_type": "markdown",
   "source": "Convert our counts into a table format.",
   "metadata": {
    "cell_id": "00182-c42eda04-f924-4533-80ea-bb665a6edc69",
    "deepnote_cell_type": "markdown",
    "deepnote_cell_height": 52.600006103515625
   }
  },
  {
   "cell_type": "code",
   "metadata": {
    "cell_id": "00183-a1a71f24-814e-4c42-bf2e-1b1ce7c7704e",
    "deepnote_to_be_reexecuted": false,
    "source_hash": "9dcc3b1b",
    "execution_start": 1657136583735,
    "execution_millis": 44,
    "deepnote_cell_type": "code",
    "deepnote_cell_height": 618.4000244140625
   },
   "source": "table = pd.DataFrame([count[\"Handgun\"], count[\"Others\"]], index=[\"Handgun\", \"Other Weapons\"]).transpose()\ntable",
   "execution_count": 121,
   "outputs": [
    {
     "output_type": "execute_result",
     "execution_count": 121,
     "data": {
      "application/vnd.deepnote.dataframe.v3+json": {
       "column_count": 2,
       "row_count": 51,
       "columns": [
        {
         "name": "Handgun",
         "dtype": "int64",
         "stats": {
          "unique_count": 51,
          "nan_count": 0,
          "min": "69",
          "max": "55429",
          "histogram": [
           {
            "bin_start": 69,
            "bin_end": 5605,
            "count": 33
           },
           {
            "bin_start": 5605,
            "bin_end": 11141,
            "count": 9
           },
           {
            "bin_start": 11141,
            "bin_end": 16677,
            "count": 6
           },
           {
            "bin_start": 16677,
            "bin_end": 22213,
            "count": 0
           },
           {
            "bin_start": 22213,
            "bin_end": 27749,
            "count": 1
           },
           {
            "bin_start": 27749,
            "bin_end": 33285,
            "count": 1
           },
           {
            "bin_start": 33285,
            "bin_end": 38821,
            "count": 0
           },
           {
            "bin_start": 38821,
            "bin_end": 44357,
            "count": 0
           },
           {
            "bin_start": 44357,
            "bin_end": 49893,
            "count": 0
           },
           {
            "bin_start": 49893,
            "bin_end": 55429,
            "count": 1
           }
          ]
         }
        },
        {
         "name": "Other Weapons",
         "dtype": "int64",
         "stats": {
          "unique_count": 51,
          "nan_count": 0,
          "min": "239",
          "max": "44354",
          "histogram": [
           {
            "bin_start": 239,
            "bin_end": 4650.5,
            "count": 31
           },
           {
            "bin_start": 4650.5,
            "bin_end": 9062,
            "count": 9
           },
           {
            "bin_start": 9062,
            "bin_end": 13473.5,
            "count": 6
           },
           {
            "bin_start": 13473.5,
            "bin_end": 17885,
            "count": 1
           },
           {
            "bin_start": 17885,
            "bin_end": 22296.5,
            "count": 0
           },
           {
            "bin_start": 22296.5,
            "bin_end": 26708,
            "count": 2
           },
           {
            "bin_start": 26708,
            "bin_end": 31119.5,
            "count": 0
           },
           {
            "bin_start": 31119.5,
            "bin_end": 35531,
            "count": 1
           },
           {
            "bin_start": 35531,
            "bin_end": 39942.5,
            "count": 0
           },
           {
            "bin_start": 39942.5,
            "bin_end": 44354,
            "count": 1
           }
          ]
         }
        },
        {
         "name": "_deepnote_index_column",
         "dtype": "object"
        }
       ],
       "rows": [
        {
         "Handgun": 55429,
         "Other Weapons": 44354,
         "_deepnote_index_column": "California"
        },
        {
         "Handgun": 29843,
         "Other Weapons": 32252,
         "_deepnote_index_column": "Texas"
        },
        {
         "Handgun": 26452,
         "Other Weapons": 22816,
         "_deepnote_index_column": "New York"
        },
        {
         "Handgun": 15492,
         "Other Weapons": 10379,
         "_deepnote_index_column": "Illinois"
        },
        {
         "Handgun": 14213,
         "Other Weapons": 22951,
         "_deepnote_index_column": "Florida"
        },
        {
         "Handgun": 13302,
         "Other Weapons": 10934,
         "_deepnote_index_column": "Pennsylvania"
        },
        {
         "Handgun": 12266,
         "Other Weapons": 7363,
         "_deepnote_index_column": "Louisiana"
        },
        {
         "Handgun": 11900,
         "Other Weapons": 9188,
         "_deepnote_index_column": "Georgia"
        },
        {
         "Handgun": 11657,
         "Other Weapons": 16791,
         "_deepnote_index_column": "Michigan"
        },
        {
         "Handgun": 10906,
         "Other Weapons": 6406,
         "_deepnote_index_column": "Maryland"
        }
       ]
      },
      "text/plain": "                      Handgun  Other Weapons\nState                                       \nCalifornia              55429          44354\nTexas                   29843          32252\nNew York                26452          22816\nIllinois                15492          10379\nFlorida                 14213          22951\nPennsylvania            13302          10934\nLouisiana               12266           7363\nGeorgia                 11900           9188\nMichigan                11657          16791\nMaryland                10906           6406\nNorth Carolina           9217          11173\nOhio                     9204           9954\nTennessee                7255           7675\nVirginia                 7101           8419\nArizona                  7054           5817\nNew Jersey               6790           7342\nAlabama                  6352           5024\nIndiana                  6036           5427\nMissouri                 5536           9296\nSouth Carolina           5515           6183\nOklahoma                 4168           4641\nDistrict of Columbia     3853           3262\nMississippi              3684           2862\nWashington               3331           4484\nKentucky                 3269           3285\nArkansas                 3180           3767\nWisconsin                2730           3461\nColorado                 2705           3888\nNevada                   2525           3028\nConnecticut              2332           2564\nMassachusetts            1890           4146\nNew Mexico               1787           2485\nMinnesota                1628           2347\nOregon                   1419           2798\nKansas                   1211           1874\nWest Virginia            1203           1858\nUtah                      772           1261\nAlaska                    548           1069\nNebraska                  527            804\nIowa                      517           1232\nDelaware                  444            735\nIdaho                     418            732\nHawaii                    357            981\nRhodes Island             315            896\nMaine                     233            636\nWyoming                   227            403\nMontana                   225            376\nNew Hampshire             182            473\nVermont                   120            292\nSouth Dakota               95            347\nNorth Dakota               69            239",
      "text/html": "<div>\n<style scoped>\n    .dataframe tbody tr th:only-of-type {\n        vertical-align: middle;\n    }\n\n    .dataframe tbody tr th {\n        vertical-align: top;\n    }\n\n    .dataframe thead th {\n        text-align: right;\n    }\n</style>\n<table border=\"1\" class=\"dataframe\">\n  <thead>\n    <tr style=\"text-align: right;\">\n      <th></th>\n      <th>Handgun</th>\n      <th>Other Weapons</th>\n    </tr>\n    <tr>\n      <th>State</th>\n      <th></th>\n      <th></th>\n    </tr>\n  </thead>\n  <tbody>\n    <tr>\n      <th>California</th>\n      <td>55429</td>\n      <td>44354</td>\n    </tr>\n    <tr>\n      <th>Texas</th>\n      <td>29843</td>\n      <td>32252</td>\n    </tr>\n    <tr>\n      <th>New York</th>\n      <td>26452</td>\n      <td>22816</td>\n    </tr>\n    <tr>\n      <th>Illinois</th>\n      <td>15492</td>\n      <td>10379</td>\n    </tr>\n    <tr>\n      <th>Florida</th>\n      <td>14213</td>\n      <td>22951</td>\n    </tr>\n    <tr>\n      <th>Pennsylvania</th>\n      <td>13302</td>\n      <td>10934</td>\n    </tr>\n    <tr>\n      <th>Louisiana</th>\n      <td>12266</td>\n      <td>7363</td>\n    </tr>\n    <tr>\n      <th>Georgia</th>\n      <td>11900</td>\n      <td>9188</td>\n    </tr>\n    <tr>\n      <th>Michigan</th>\n      <td>11657</td>\n      <td>16791</td>\n    </tr>\n    <tr>\n      <th>Maryland</th>\n      <td>10906</td>\n      <td>6406</td>\n    </tr>\n    <tr>\n      <th>North Carolina</th>\n      <td>9217</td>\n      <td>11173</td>\n    </tr>\n    <tr>\n      <th>Ohio</th>\n      <td>9204</td>\n      <td>9954</td>\n    </tr>\n    <tr>\n      <th>Tennessee</th>\n      <td>7255</td>\n      <td>7675</td>\n    </tr>\n    <tr>\n      <th>Virginia</th>\n      <td>7101</td>\n      <td>8419</td>\n    </tr>\n    <tr>\n      <th>Arizona</th>\n      <td>7054</td>\n      <td>5817</td>\n    </tr>\n    <tr>\n      <th>New Jersey</th>\n      <td>6790</td>\n      <td>7342</td>\n    </tr>\n    <tr>\n      <th>Alabama</th>\n      <td>6352</td>\n      <td>5024</td>\n    </tr>\n    <tr>\n      <th>Indiana</th>\n      <td>6036</td>\n      <td>5427</td>\n    </tr>\n    <tr>\n      <th>Missouri</th>\n      <td>5536</td>\n      <td>9296</td>\n    </tr>\n    <tr>\n      <th>South Carolina</th>\n      <td>5515</td>\n      <td>6183</td>\n    </tr>\n    <tr>\n      <th>Oklahoma</th>\n      <td>4168</td>\n      <td>4641</td>\n    </tr>\n    <tr>\n      <th>District of Columbia</th>\n      <td>3853</td>\n      <td>3262</td>\n    </tr>\n    <tr>\n      <th>Mississippi</th>\n      <td>3684</td>\n      <td>2862</td>\n    </tr>\n    <tr>\n      <th>Washington</th>\n      <td>3331</td>\n      <td>4484</td>\n    </tr>\n    <tr>\n      <th>Kentucky</th>\n      <td>3269</td>\n      <td>3285</td>\n    </tr>\n    <tr>\n      <th>Arkansas</th>\n      <td>3180</td>\n      <td>3767</td>\n    </tr>\n    <tr>\n      <th>Wisconsin</th>\n      <td>2730</td>\n      <td>3461</td>\n    </tr>\n    <tr>\n      <th>Colorado</th>\n      <td>2705</td>\n      <td>3888</td>\n    </tr>\n    <tr>\n      <th>Nevada</th>\n      <td>2525</td>\n      <td>3028</td>\n    </tr>\n    <tr>\n      <th>Connecticut</th>\n      <td>2332</td>\n      <td>2564</td>\n    </tr>\n    <tr>\n      <th>Massachusetts</th>\n      <td>1890</td>\n      <td>4146</td>\n    </tr>\n    <tr>\n      <th>New Mexico</th>\n      <td>1787</td>\n      <td>2485</td>\n    </tr>\n    <tr>\n      <th>Minnesota</th>\n      <td>1628</td>\n      <td>2347</td>\n    </tr>\n    <tr>\n      <th>Oregon</th>\n      <td>1419</td>\n      <td>2798</td>\n    </tr>\n    <tr>\n      <th>Kansas</th>\n      <td>1211</td>\n      <td>1874</td>\n    </tr>\n    <tr>\n      <th>West Virginia</th>\n      <td>1203</td>\n      <td>1858</td>\n    </tr>\n    <tr>\n      <th>Utah</th>\n      <td>772</td>\n      <td>1261</td>\n    </tr>\n    <tr>\n      <th>Alaska</th>\n      <td>548</td>\n      <td>1069</td>\n    </tr>\n    <tr>\n      <th>Nebraska</th>\n      <td>527</td>\n      <td>804</td>\n    </tr>\n    <tr>\n      <th>Iowa</th>\n      <td>517</td>\n      <td>1232</td>\n    </tr>\n    <tr>\n      <th>Delaware</th>\n      <td>444</td>\n      <td>735</td>\n    </tr>\n    <tr>\n      <th>Idaho</th>\n      <td>418</td>\n      <td>732</td>\n    </tr>\n    <tr>\n      <th>Hawaii</th>\n      <td>357</td>\n      <td>981</td>\n    </tr>\n    <tr>\n      <th>Rhodes Island</th>\n      <td>315</td>\n      <td>896</td>\n    </tr>\n    <tr>\n      <th>Maine</th>\n      <td>233</td>\n      <td>636</td>\n    </tr>\n    <tr>\n      <th>Wyoming</th>\n      <td>227</td>\n      <td>403</td>\n    </tr>\n    <tr>\n      <th>Montana</th>\n      <td>225</td>\n      <td>376</td>\n    </tr>\n    <tr>\n      <th>New Hampshire</th>\n      <td>182</td>\n      <td>473</td>\n    </tr>\n    <tr>\n      <th>Vermont</th>\n      <td>120</td>\n      <td>292</td>\n    </tr>\n    <tr>\n      <th>South Dakota</th>\n      <td>95</td>\n      <td>347</td>\n    </tr>\n    <tr>\n      <th>North Dakota</th>\n      <td>69</td>\n      <td>239</td>\n    </tr>\n  </tbody>\n</table>\n</div>"
     },
     "metadata": {}
    }
   ]
  },
  {
   "cell_type": "markdown",
   "source": "We then use the [`chi2_contingency`](https://docs.scipy.org/doc/scipy/reference/generated/scipy.stats.chi2_contingency.html) function from SciPy to perform a Chi-Square test on this table. This function will automatically perform the necessary steps for a Chi-Square test:\n\n- Compute the expected values for each cell under the null hypothesis\n- Compute the Chi-Square statistic\n- Compute the $p$-value of the statistic based on the Chi-Square distribution with the appropriate degrees of freedom",
   "metadata": {
    "cell_id": "00184-16ab6a70-faeb-4727-b9a0-6c95b6632255",
    "deepnote_cell_type": "markdown",
    "deepnote_cell_height": 176.1999969482422
   }
  },
  {
   "cell_type": "code",
   "metadata": {
    "cell_id": "00185-cb7945cf-4f00-4ce4-acdf-5a4b3ece7ba2",
    "deepnote_to_be_reexecuted": false,
    "source_hash": "4eb3ebe6",
    "execution_start": 1657136583783,
    "execution_millis": 31,
    "deepnote_cell_type": "code",
    "deepnote_cell_height": 708.2999877929688,
    "deepnote_output_heights": [
     611
    ]
   },
   "source": "chi2_contingency(table)",
   "execution_count": 122,
   "outputs": [
    {
     "output_type": "execute_result",
     "execution_count": 122,
     "data": {
      "text/plain": "(14847.20480397212,\n 0.0,\n 50,\n array([[49619.08919358, 50163.91080642],\n        [30877.97864842, 31217.02135158],\n        [24499.49677189, 24768.50322811],\n        [12864.87133607, 13006.12866393],\n        [18480.54108205, 18683.45891795],\n        [12051.83493877, 12184.16506123],\n        [ 9760.91219728,  9868.08780272],\n        [10486.42908025, 10601.57091975],\n        [14146.336043  , 14301.663957  ],\n        [ 8608.73768196,  8703.26231804],\n        [10139.33464275, 10250.66535725],\n        [ 9526.69804246,  9631.30195754],\n        [ 7424.24061874,  7505.75938126],\n        [ 7717.62989973,  7802.37010027],\n        [ 6400.36175511,  6470.63824489],\n        [ 7027.41918447,  7104.58081553],\n        [ 5656.9431533 ,  5719.0568467 ],\n        [ 5700.2056405 ,  5762.7943595 ],\n        [ 7375.5081619 ,  7456.4918381 ],\n        [ 5817.06408293,  5880.93591707],\n        [ 4380.45114605,  4428.54885395],\n        [ 3538.07582065,  3576.92417935],\n        [ 3255.129209  ,  3290.870791  ],\n        [ 3886.16479809,  3928.83520191],\n        [ 3259.10736874,  3294.89263126],\n        [ 3454.53446607,  3492.46553393],\n        [ 3078.59837044,  3112.40162956],\n        [ 3278.50089748,  3314.49910252],\n        [ 2761.340131  ,  2791.659869  ],\n        [ 2434.63376218,  2461.36623782],\n        [ 3001.52152543,  3034.47847457],\n        [ 2124.3373023 ,  2147.6626977 ],\n        [ 1976.64812187,  1998.35187813],\n        [ 2096.98745407,  2120.01254593],\n        [ 1534.07785056,  1550.92214944],\n        [ 1522.14337133,  1538.85662867],\n        [ 1010.94984447,  1022.05015553],\n        [  804.08553788,   812.91446212],\n        [  661.8663271 ,   669.1336729 ],\n        [  869.72517362,   879.27482638],\n        [  586.281292  ,   592.718708  ],\n        [  571.86046293,   578.13953707],\n        [  665.34721687,   672.65278313],\n        [  602.19393096,   608.80606904],\n        [  432.12760199,   436.87239801],\n        [  313.28007969,   316.71992031],\n        [  298.85925063,   302.14074937],\n        [  325.71182889,   329.28817111],\n        [  204.87522672,   207.12477328],\n        [  219.79332575,   222.20667425],\n        [  153.15915007,   154.84084993]]))"
     },
     "metadata": {}
    }
   ]
  },
  {
   "cell_type": "markdown",
   "source": "The computed $p$-value is = 0.0",
   "metadata": {
    "cell_id": "00186-53012b6a-ae3b-4848-abd8-bd1631aee92a",
    "deepnote_cell_type": "markdown",
    "deepnote_cell_height": 52.600006103515625
   }
  },
  {
   "cell_type": "markdown",
   "source": "\n## Insights and Conclusion for Research Question 2\n\n\n\nAt 5% significance level, since the p-value is less than 0.05, we can conclude that it is statistically significant and indicates strong evidence against the null hypothesis.\n\nHence, we reject the null hypothesis and conclude that there is a relationship between the state and the use of handguns.\n",
   "metadata": {
    "cell_id": "00187-cc6dba39-fc2d-4244-81ef-4ff5370fd27e",
    "deepnote_cell_type": "markdown",
    "deepnote_cell_height": 167.39999389648438
   }
  },
  {
   "cell_type": "markdown",
   "source": "The association between handgun use and homicide cases per state further implies that certain areas should be less lenient regarding the use and availability of handguns. ",
   "metadata": {
    "cell_id": "00188-4e54bf54-b404-446f-9353-e9ffd4b61754",
    "deepnote_cell_type": "markdown",
    "deepnote_cell_height": 75
   }
  },
  {
   "cell_type": "code",
   "metadata": {
    "cell_id": "00189-e5409c0d-efdd-4d6f-80e3-0d021de1eb79",
    "deepnote_to_be_reexecuted": false,
    "source_hash": "b623e53d",
    "execution_start": 1657136583819,
    "execution_millis": 12,
    "deepnote_cell_type": "code",
    "deepnote_cell_height": 81.19999694824219
   },
   "source": "",
   "execution_count": 122,
   "outputs": []
  },
  {
   "cell_type": "code",
   "metadata": {
    "cell_id": "00190-2a29396d-67ff-41c9-9759-3f96a8244f20",
    "deepnote_to_be_reexecuted": false,
    "source_hash": "b623e53d",
    "execution_start": 1657136583838,
    "execution_millis": 11,
    "deepnote_cell_type": "code",
    "deepnote_cell_height": 81.19999694824219
   },
   "source": "",
   "execution_count": 122,
   "outputs": []
  },
  {
   "cell_type": "code",
   "metadata": {
    "cell_id": "00191-da379af6-9a75-4023-a683-21a90102046a",
    "deepnote_to_be_reexecuted": false,
    "source_hash": "b623e53d",
    "execution_start": 1657136583869,
    "execution_millis": 5,
    "deepnote_cell_type": "code",
    "deepnote_cell_height": 81.19999694824219
   },
   "source": "",
   "execution_count": 122,
   "outputs": []
  },
  {
   "cell_type": "markdown",
   "source": "<a style='text-decoration:none;line-height:16px;display:flex;color:#5B5B62;padding:10px;justify-content:end;' href='https://deepnote.com?utm_source=created-in-deepnote-cell&projectId=c693b77b-2d5c-470f-975f-5e9a147fe2c1' target=\"_blank\">\n<img alt='Created in deepnote.com' style='display:inline;max-height:16px;margin:0px;margin-right:7.5px;' src='data:image/svg+xml;base64,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' > </img>\nCreated in <span style='font-weight:600;margin-left:4px;'>Deepnote</span></a>",
   "metadata": {
    "tags": [],
    "created_in_deepnote_cell": true,
    "deepnote_cell_type": "markdown"
   }
  }
 ],
 "nbformat": 4,
 "nbformat_minor": 5,
 "metadata": {
  "kernelspec": {
   "display_name": "Python 3",
   "language": "python",
   "name": "python3"
  },
  "language_info": {
   "codemirror_mode": {
    "name": "ipython",
    "version": 3
   },
   "file_extension": ".py",
   "mimetype": "text/x-python",
   "name": "python",
   "nbconvert_exporter": "python",
   "pygments_lexer": "ipython3",
   "version": "3.8.8"
  },
  "deepnote_notebook_id": "293aebc8-4806-4d95-b2e3-8f7f679cd064",
  "deepnote": {},
  "deepnote_execution_queue": []
 }
}